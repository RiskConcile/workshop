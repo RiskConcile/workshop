{
 "cells": [
  {
   "cell_type": "markdown",
   "metadata": {},
   "source": [
    "<h2>NER</h2> = Named entity recognition <br>\n",
    "This is an NLP task to identify important named entities in the text\n",
    "<ul>\n",
    "<li>People, places, organizations\n",
    "<li>Dates, states, works of art\n",
    "<li>... and other categories!\n",
    "</ul>\n",
    "Can be used alongside topic identification\n",
    "... or on its own!\n",
    "It answer questions such as Who? What? When? Where?<br>\n",
    "NER can be used to achieve <b>fact extraction</b>\n"
   ]
  },
  {
   "cell_type": "markdown",
   "metadata": {},
   "source": [
    "The <b>Standard CoreNLP Library </b> supports NER. It also created dependency trees to find relationships between words.<br>\n",
    "We are going to use the spacy library"
   ]
  },
  {
   "cell_type": "markdown",
   "metadata": {},
   "source": [
    "<h3> Using nltk for NER </h>"
   ]
  },
  {
   "cell_type": "markdown",
   "metadata": {
    "collapsed": true
   },
   "source": [
    "import nltk\n",
    "import spacy"
   ]
  },
  {
   "cell_type": "code",
   "execution_count": 4,
   "metadata": {},
   "outputs": [],
   "source": [
    "text = \"One of the more understated but intriguing statements in Zuckerberg’s \\\n",
    "Vox interview this past Monday was his public acknowledgment at long last that\\\n",
    "the company uses computer algorithms to scan all of our private communications\\\n",
    "on its platform, including Facebook Messenger.\\\n",
    "While users could always manually report threatening or illegal behavior and \\\n",
    "communications for human review, Zuckerberg acknowledged for the first time that\\\n",
    "even in private chat sessions, Facebook is not actually a neutral communications \\\n",
    "platform like the phone company that just provides you a connection and goes away \\\n",
    "– Facebook’s algorithms are there constantly monitoring your most private intimate\\\n",
    "conversations in an Orwellian telescreen that never turns off.\""
   ]
  },
  {
   "cell_type": "code",
   "execution_count": 12,
   "metadata": {},
   "outputs": [],
   "source": [
    "nlp = spacy.load('en')"
   ]
  },
  {
   "cell_type": "code",
   "execution_count": 13,
   "metadata": {},
   "outputs": [],
   "source": [
    "doc = nlp(text)"
   ]
  },
  {
   "cell_type": "code",
   "execution_count": 16,
   "metadata": {},
   "outputs": [
    {
     "name": "stdout",
     "output_type": "stream",
     "text": [
      "One : CARDINAL\n",
      "Zuckerberg : GPE\n",
      "this past Monday : DATE\n",
      "Facebook Messenger : PERSON\n",
      "Zuckerberg : GPE\n",
      "first : ORDINAL\n",
      "Facebook : PERSON\n",
      "Facebook’s : ORG\n",
      "Orwellian : NORP\n"
     ]
    }
   ],
   "source": [
    "for ent in doc.ents:\n",
    "    print(ent.text,':',ent.label_)"
   ]
  },
  {
   "cell_type": "markdown",
   "metadata": {},
   "source": [
    "<h3> Wat do you think of this ? <h3>"
   ]
  }
 ],
 "metadata": {
  "anaconda-cloud": {},
  "kernelspec": {
   "display_name": "Python [default]",
   "language": "python",
   "name": "python3"
  },
  "language_info": {
   "codemirror_mode": {
    "name": "ipython",
    "version": 3
   },
   "file_extension": ".py",
   "mimetype": "text/x-python",
   "name": "python",
   "nbconvert_exporter": "python",
   "pygments_lexer": "ipython3",
   "version": "3.5.2"
  }
 },
 "nbformat": 4,
 "nbformat_minor": 1
}
