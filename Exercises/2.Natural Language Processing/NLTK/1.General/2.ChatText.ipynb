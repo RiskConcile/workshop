{
 "cells": [
  {
   "cell_type": "code",
   "execution_count": 17,
   "metadata": {},
   "outputs": [],
   "source": [
    "from nltk.corpus import nps_chat"
   ]
  },
  {
   "cell_type": "markdown",
   "metadata": {},
   "source": [
    "Accesssing the first five chats in the chat-corpus:\n",
    "    <br>\n",
    "    "
   ]
  },
  {
   "cell_type": "code",
   "execution_count": 18,
   "metadata": {},
   "outputs": [
    {
     "name": "stdout",
     "output_type": "stream",
     "text": [
      "Class:  Statement  User: 10-19-20sUser7\n",
      "now im left with this gay name\n",
      "[('now', 'RB'), ('im', 'PRP'), ('left', 'VBD'), ('with', 'IN'), ('this', 'DT'), ('gay', 'JJ'), ('name', 'NN')]\n",
      "-----------------------------------------------\n",
      "\n",
      "Class:  Emotion  User: 10-19-20sUser7\n",
      ":P\n",
      "[(':P', 'UH')]\n",
      "-----------------------------------------------\n",
      "\n",
      "Class:  System  User: 10-19-20sUser76\n",
      "PART\n",
      "[('PART', 'VB')]\n",
      "-----------------------------------------------\n",
      "\n",
      "Class:  Greet  User: 10-19-20sUser59\n",
      "hey everyone  \n",
      "[('hey', 'UH'), ('everyone', 'NN')]\n",
      "-----------------------------------------------\n",
      "\n",
      "Class:  Statement  User: 10-19-20sUser115\n",
      "ah well\n",
      "[('ah', 'UH'), ('well', 'UH')]\n",
      "-----------------------------------------------\n",
      "\n"
     ]
    }
   ],
   "source": [
    "for p in nps_chat.xml_posts()[0:5]:\n",
    "    print('Class: ', p.get(\"class\"), ' User:',p.get(\"user\"))\n",
    "    print(p.text)\n",
    "    tagged_words = list((t.get(\"word\"), t.get(\"pos\")) for t in p[0])\n",
    "    print(tagged_words)\n",
    "    print('-----------------------------------------------\\n')"
   ]
  }
 ],
 "metadata": {
  "anaconda-cloud": {},
  "kernelspec": {
   "display_name": "Python [default]",
   "language": "python",
   "name": "python3"
  },
  "language_info": {
   "codemirror_mode": {
    "name": "ipython",
    "version": 3
   },
   "file_extension": ".py",
   "mimetype": "text/x-python",
   "name": "python",
   "nbconvert_exporter": "python",
   "pygments_lexer": "ipython3",
   "version": "3.5.2"
  }
 },
 "nbformat": 4,
 "nbformat_minor": 1
}
