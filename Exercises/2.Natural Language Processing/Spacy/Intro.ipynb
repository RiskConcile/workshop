{
 "cells": [
  {
   "cell_type": "markdown",
   "metadata": {},
   "source": [
    "\"spaCy excels at large-scale information extraction tasks. It's written from the ground up in carefully memory-managed Cython. Independent research has confirmed that spaCy is the fastest in the world. If your application needs to process entire web dumps, spaCy is the library you want to be using.\"\n",
    "<br>\n",
    "Source : https://spacy.io/"
   ]
  },
  {
   "cell_type": "markdown",
   "metadata": {},
   "source": [
    "spaCy is the best way to prepare text for deep learning. It interoperates seamlessly with TensorFlow, PyTorch, scikit-learn, Gensim and the rest of Python's awesome AI ecosystem. With spaCy, you can easily construct linguistically sophisticated statistical models for a variety of NLP problems."
   ]
  },
  {
   "cell_type": "markdown",
   "metadata": {},
   "source": [
    "<ul>\n",
    "<li>Non-destructive tokenization\n",
    "<li>Named entity recognition\n",
    "<li>Support for 26+ languages\n",
    "<li>13 statistical models for 8 languages\n",
    "<li>Pre-trained word vectors\n",
    "<li>Easy deep learning integration\n",
    "<li>Part-of-speech tagging\n",
    "<li>Labelled dependency parsing\n",
    "<li>Syntax-driven sentence segmentation\n",
    "<li>Built in visualizers for syntax and NER\n",
    "<li>Convenient string-to-hash mapping\n",
    "<li>Export to numpy data arrays\n",
    "<li>Efficient binary serialization\n",
    "<li>Easy model packaging and deployment\n",
    "<li>State-of-the-art speed\n",
    "<li>Robust, rigorously evaluated accuracy\n",
    "</ul>"
   ]
  },
  {
   "cell_type": "markdown",
   "metadata": {},
   "source": [
    "<h3>Installing instructions are on:</h3>https://spacy.io/usage/"
   ]
  },
  {
   "cell_type": "code",
   "execution_count": 1,
   "metadata": {
    "collapsed": true
   },
   "outputs": [],
   "source": [
    "import spacy"
   ]
  },
  {
   "cell_type": "code",
   "execution_count": 2,
   "metadata": {
    "collapsed": true
   },
   "outputs": [],
   "source": [
    "# loading pre-trained word vectors\n",
    "nlp = spacy.load('en')"
   ]
  },
  {
   "cell_type": "code",
   "execution_count": 5,
   "metadata": {
    "collapsed": false
   },
   "outputs": [
    {
     "data": {
      "text/plain": [
       "<spacy.pipeline.EntityRecognizer at 0x111653f98>"
      ]
     },
     "execution_count": 5,
     "metadata": {},
     "output_type": "execute_result"
    }
   ],
   "source": [
    "# nlp comes with several objects such as entity from the pipeline module\n",
    "nlp.entity"
   ]
  },
  {
   "cell_type": "code",
   "execution_count": 9,
   "metadata": {
    "collapsed": true
   },
   "outputs": [],
   "source": [
    "# create an nlp document\n",
    "doc = nlp('You are not all going to die. Only two percent of you right here today would be killed in a major battle. Every man is scared in his first action. If he says he is not, he is a goddamn liar. But the real hero is the man who fights even though he is scared. Some men will get over their fright in a minute under fire, some take an hour, and for some it takes days. But the real man never lets his fear of death overpower his honor, his sense of duty to his country, and his innate manhood.')"
   ]
  },
  {
   "cell_type": "code",
   "execution_count": 10,
   "metadata": {
    "collapsed": false
   },
   "outputs": [
    {
     "data": {
      "text/plain": [
       "spacy.tokens.doc.Doc"
      ]
     },
     "execution_count": 10,
     "metadata": {},
     "output_type": "execute_result"
    }
   ],
   "source": [
    "type(doc)"
   ]
  },
  {
   "cell_type": "code",
   "execution_count": 12,
   "metadata": {
    "collapsed": false
   },
   "outputs": [
    {
     "data": {
      "text/plain": [
       "(Only two percent, today, first)"
      ]
     },
     "execution_count": 12,
     "metadata": {},
     "output_type": "execute_result"
    }
   ],
   "source": [
    "# to identify the three main entities (NER) in the document, the ents field can be used\n",
    "doc.ents"
   ]
  },
  {
   "cell_type": "code",
   "execution_count": 16,
   "metadata": {
    "collapsed": false
   },
   "outputs": [
    {
     "name": "stdout",
     "output_type": "stream",
     "text": [
      "Only two percent PERCENT\n",
      "today DATE\n",
      "first ORDINAL\n"
     ]
    }
   ],
   "source": [
    "# getting the entity label :\n",
    "print(doc.ents[0], doc.ents[0].label_)\n",
    "print(doc.ents[1], doc.ents[1].label_)\n",
    "print(doc.ents[2], doc.ents[2].label_)"
   ]
  },
  {
   "cell_type": "code",
   "execution_count": null,
   "metadata": {
    "collapsed": true
   },
   "outputs": [],
   "source": []
  }
 ],
 "metadata": {
  "anaconda-cloud": {},
  "kernelspec": {
   "display_name": "Python [default]",
   "language": "python",
   "name": "python3"
  },
  "language_info": {
   "codemirror_mode": {
    "name": "ipython",
    "version": 3
   },
   "file_extension": ".py",
   "mimetype": "text/x-python",
   "name": "python",
   "nbconvert_exporter": "python",
   "pygments_lexer": "ipython3",
   "version": "3.5.2"
  }
 },
 "nbformat": 4,
 "nbformat_minor": 0
}
