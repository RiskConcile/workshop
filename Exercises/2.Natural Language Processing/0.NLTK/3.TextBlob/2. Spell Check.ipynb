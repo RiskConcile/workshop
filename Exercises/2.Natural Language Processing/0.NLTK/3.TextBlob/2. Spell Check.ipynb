{
 "cells": [
  {
   "cell_type": "code",
   "execution_count": 1,
   "metadata": {},
   "outputs": [],
   "source": [
    "from textblob import *\n",
    "import numpy as np"
   ]
  },
  {
   "cell_type": "markdown",
   "metadata": {},
   "source": [
    "<h4>Using TextBlob as a spelling checker</h4>\n",
    "Each Word()-object has a spellcheck function"
   ]
  },
  {
   "cell_type": "code",
   "execution_count": 2,
   "metadata": {},
   "outputs": [
    {
     "name": "stdout",
     "output_type": "stream",
     "text": [
      "Original Text:\n",
      "  I hav a probblem wiht a lot of words \n",
      "\n",
      "The following words are wrong:\n",
      "[('had', 0.5810183363500433), ('have', 0.27488785708664515), ('has', 0.12615094042653655), ('hat', 0.0082631620366727), ('ha', 0.0059022585976233576), ('hay', 0.00330526481466908), ('ham', 0.00047218068780986857)] \n",
      "\n",
      "[('problem', 1.0)] \n",
      "\n",
      "[('with', 0.9971334971334971), ('wit', 0.0015356265356265355), ('wight', 0.0007166257166257166), ('whit', 0.0003071253071253071), ('wilt', 0.00020475020475020476), ('wirt', 0.00010237510237510238)] \n",
      "\n"
     ]
    }
   ],
   "source": [
    "txt = TextBlob(' I hav a probblem wiht a lot of words')\n",
    "print('Original Text:\\n',txt,'\\n')\n",
    "print('The following words are wrong:')\n",
    "for w in txt.words:\n",
    "    word = Word(w)\n",
    "    check = word.spellcheck()\n",
    "    if check[0][0] !=w:\n",
    "        print(check,'\\n')"
   ]
  },
  {
   "cell_type": "markdown",
   "metadata": {},
   "source": [
    "The code above can be better written, because the word should be checked against evry item of the check-tuples"
   ]
  },
  {
   "cell_type": "code",
   "execution_count": 3,
   "metadata": {},
   "outputs": [
    {
     "name": "stdout",
     "output_type": "stream",
     "text": [
      "hav -> had (score= 0.58 )\n",
      "probblem -> problem (score= 1.0 )\n",
      "wiht -> with (score= 1.0 )\n"
     ]
    }
   ],
   "source": [
    "for w in txt.words:\n",
    "    word = Word(w)\n",
    "    check = word.spellcheck()\n",
    "    possible_words = [w[0] for w in check[:]]\n",
    "    spell_score = [w[1] for w in check[:]]\n",
    "    if not(w in possible_words):\n",
    "        print(w,'->',possible_words[0],'(score=',np.round(spell_score[0],2),')')\n",
    "\n"
   ]
  },
  {
   "cell_type": "code",
   "execution_count": 4,
   "metadata": {},
   "outputs": [
    {
     "ename": "SyntaxError",
     "evalue": "invalid syntax (<ipython-input-4-31e9d9f19b2c>, line 1)",
     "output_type": "error",
     "traceback": [
      "\u001b[0;36m  File \u001b[0;32m\"<ipython-input-4-31e9d9f19b2c>\"\u001b[0;36m, line \u001b[0;32m1\u001b[0m\n\u001b[0;31m    check[:][]\u001b[0m\n\u001b[0m             ^\u001b[0m\n\u001b[0;31mSyntaxError\u001b[0m\u001b[0;31m:\u001b[0m invalid syntax\n"
     ]
    }
   ],
   "source": []
  }
 ],
 "metadata": {
  "kernelspec": {
   "display_name": "Python 3",
   "language": "python",
   "name": "python3"
  },
  "language_info": {
   "codemirror_mode": {
    "name": "ipython",
    "version": 3
   },
   "file_extension": ".py",
   "mimetype": "text/x-python",
   "name": "python",
   "nbconvert_exporter": "python",
   "pygments_lexer": "ipython3",
   "version": "3.6.5"
  }
 },
 "nbformat": 4,
 "nbformat_minor": 2
}
