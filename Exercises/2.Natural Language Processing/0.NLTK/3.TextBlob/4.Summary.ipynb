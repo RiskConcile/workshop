{
 "cells": [
  {
   "cell_type": "code",
   "execution_count": 1,
   "metadata": {},
   "outputs": [],
   "source": [
    "from textblob import *\n",
    "import numpy as np"
   ]
  },
  {
   "cell_type": "code",
   "execution_count": 2,
   "metadata": {},
   "outputs": [],
   "source": [
    "text = 'US stocks rose after President Donald Trump announced tariffs \\\n",
    "that were narrower than some traders had anticipated. Treasuries and the\\\n",
    "dollar gained. The S&P 500 advanced for the fourth time in five days as \\\n",
    "investors found relief in the president’s decision to exclude Canada and Mexico\\\n",
    "while giving other countries wiggle room from levies on imports of steel and \\\n",
    "aluminum that will take effect in 15 days. Technology companies paced gains. \\\n",
    "Ten-year Treasury yields fell to 2.86 percent. \\\n",
    "The dollar rose against the euro after the European Central Bank’s decided to drop \\\n",
    "a pledge to increase asset purchases if necessary, and as President Mario Draghi \\\n",
    "downplayed the change. Crude oil traded near $60 a barrel and gold slipped as a \\\n",
    "Bloomberg gauge of commodities slid for a second day.'"
   ]
  },
  {
   "cell_type": "markdown",
   "metadata": {},
   "source": [
    "<h3>Finding some random words</h3>"
   ]
  },
  {
   "cell_type": "code",
   "execution_count": 3,
   "metadata": {},
   "outputs": [
    {
     "name": "stdout",
     "output_type": "stream",
     "text": [
      "There are in total 133 words in the text\n",
      "\n",
      "This text is about...\n",
      "effect\n",
      "pledge\n",
      "oil\n",
      "asset\n",
      "room\n"
     ]
    }
   ],
   "source": [
    "blob = TextBlob(text)\n",
    "\n",
    "# gather words\n",
    "nouns = list()\n",
    "for word, tag in blob.tags:\n",
    "    if tag == 'NN':\n",
    "        nouns.append(word.lemmatize())\n",
    "\n",
    "print('There are in total',len(blob.tags),'words in the text\\n')\n",
    "\n",
    "#pick 5 names from the list\n",
    "\n",
    "print('This text is about...')\n",
    "for i in np.random.choice(np.arange(0,len(nouns)),5,replace=False):\n",
    "    word = Word(nouns[i])\n",
    "    print(word)"
   ]
  },
  {
   "cell_type": "markdown",
   "metadata": {},
   "source": [
    "<h3>Finding some random sentences</h3><br>\n",
    "Make a list of sentences that contain no more than 5 words."
   ]
  },
  {
   "cell_type": "code",
   "execution_count": 4,
   "metadata": {},
   "outputs": [],
   "source": [
    "short_sentences = list()\n",
    "for sentence in blob.sentences:\n",
    "    if len(sentence.words) <= 5:\n",
    "        short_sentences.append(sentence)"
   ]
  },
  {
   "cell_type": "code",
   "execution_count": 5,
   "metadata": {},
   "outputs": [
    {
     "data": {
      "text/plain": [
       "[Sentence(\"Treasuries and thedollar gained.\"),\n",
       " Sentence(\"Technology companies paced gains.\")]"
      ]
     },
     "execution_count": 5,
     "metadata": {},
     "output_type": "execute_result"
    }
   ],
   "source": [
    "short_sentences"
   ]
  },
  {
   "cell_type": "markdown",
   "metadata": {},
   "source": [
    "<h3>Retrieve the nouns from the text</h3>"
   ]
  },
  {
   "cell_type": "code",
   "execution_count": 6,
   "metadata": {},
   "outputs": [
    {
     "name": "stdout",
     "output_type": "stream",
     "text": [
      "us stocks\n",
      "donald trump\n",
      "treasuries\n",
      "president ’ s decision\n",
      "canada\n",
      "mexicowhile\n",
      "countries wiggle room\n",
      "technology companies\n",
      "ten-year\n",
      "treasury yields\n",
      "european central bank ’ s\n",
      "mario draghi\n",
      "crude\n",
      "bloomberg\n"
     ]
    }
   ],
   "source": [
    "noun_phrases = blob.noun_phrases\n",
    "\n",
    "for i in noun_phrases:\n",
    "    print(i)"
   ]
  },
  {
   "cell_type": "markdown",
   "metadata": {},
   "source": [
    "<h4> Make your own Example</h4>"
   ]
  },
  {
   "cell_type": "code",
   "execution_count": 7,
   "metadata": {},
   "outputs": [],
   "source": [
    "text_example = \"Bitcoin tumbled to its lowest level since February as the meltdown \\\n",
    "in the world’s largest digital currency accelerated, renewing concern about \\the long-term viability of the much hyped alternative to traditional currencies. \\\n",
    "The price of the digital coin fell as much as 4.6 percent Tuesday to $6,450.01, \\\n",
    "bringing the slide for the year to more than 50 percent. It’s down from a record high of $19,511 \\\n",
    "reached in December, the culmination of the more than 1,400 percent surge seen in 2017 as Bitcoin \\\n",
    "burst on to the mainstream.\""
   ]
  },
  {
   "cell_type": "code",
   "execution_count": 8,
   "metadata": {},
   "outputs": [],
   "source": [
    "sample = TextBlob(text_example)"
   ]
  },
  {
   "cell_type": "code",
   "execution_count": 9,
   "metadata": {},
   "outputs": [
    {
     "name": "stdout",
     "output_type": "stream",
     "text": [
      "price\n",
      "high\n",
      "world\n",
      "mainstream\n",
      "currency\n"
     ]
    }
   ],
   "source": [
    "words = []\n",
    "for w , tag in sample.tags:\n",
    "    if tag==\"NN\":\n",
    "        words.append(w)\n",
    "for i in np.random.choice(np.arange(0,len(words)),5,replace=False):\n",
    "    print(words[i])"
   ]
  },
  {
   "cell_type": "code",
   "execution_count": null,
   "metadata": {},
   "outputs": [],
   "source": []
  }
 ],
 "metadata": {
  "anaconda-cloud": {},
  "kernelspec": {
   "display_name": "Python 3",
   "language": "python",
   "name": "python3"
  },
  "language_info": {
   "codemirror_mode": {
    "name": "ipython",
    "version": 3
   },
   "file_extension": ".py",
   "mimetype": "text/x-python",
   "name": "python",
   "nbconvert_exporter": "python",
   "pygments_lexer": "ipython3",
   "version": "3.6.5"
  }
 },
 "nbformat": 4,
 "nbformat_minor": 2
}
