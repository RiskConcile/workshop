{
 "cells": [
  {
   "cell_type": "code",
   "execution_count": 1,
   "metadata": {},
   "outputs": [],
   "source": [
    "from textblob import *\n",
    "import numpy as np"
   ]
  },
  {
   "cell_type": "code",
   "execution_count": 2,
   "metadata": {},
   "outputs": [],
   "source": [
    "text = 'US stocks rose after President Donald Trump announced tariffs \\\n",
    "that were narrower than some traders had anticipated. Treasuries and the\\\n",
    "dollar gained. The S&P 500 advanced for the fourth time in five days as \\\n",
    "investors found relief in the president’s decision to exclude Canada and Mexico\\\n",
    "while giving other countries wiggle room from levies on imports of steel and \\\n",
    "aluminum that will take effect in 15 days. Technology companies paced gains. \\\n",
    "Ten-year Treasury yields fell to 2.86 percent. \\\n",
    "The dollar rose against the euro after the European Central Bank’s decided to drop \\\n",
    "a pledge to increase asset purchases if necessary, and as President Mario Draghi \\\n",
    "downplayed the change. Crude oil traded near $60 a barrel and gold slipped as a \\\n",
    "Bloomberg gauge of commodities slid for a second day.'"
   ]
  },
  {
   "cell_type": "markdown",
   "metadata": {},
   "source": [
    "<h3>Finding some random words</h3>"
   ]
  },
  {
   "cell_type": "code",
   "execution_count": 9,
   "metadata": {},
   "outputs": [
    {
     "name": "stdout",
     "output_type": "stream",
     "text": [
      "There are in total 133 words in the text\n",
      "\n",
      "This text is about...\n",
      "decision\n",
      "steel\n",
      "relief\n",
      "euro\n",
      "asset\n"
     ]
    }
   ],
   "source": [
    "blob = TextBlob(text)\n",
    "\n",
    "# gather words\n",
    "nouns = list()\n",
    "for word, tag in blob.tags:\n",
    "    if tag == 'NN':\n",
    "        nouns.append(word.lemmatize())\n",
    "\n",
    "print('There are in total',len(blob.tags),'words in the text\\n')\n",
    "\n",
    "#pick 5 names from the list\n",
    "\n",
    "print('This text is about...')\n",
    "for i in np.random.choice(np.arange(0,len(nouns)),5,replace=False):\n",
    "    word = Word(nouns[i])\n",
    "    print(word)"
   ]
  },
  {
   "cell_type": "markdown",
   "metadata": {},
   "source": [
    "<h3>Finding some random sentences</h3><br>\n",
    "Make a list of sentences that contain no more than 5 words."
   ]
  },
  {
   "cell_type": "code",
   "execution_count": 10,
   "metadata": {},
   "outputs": [],
   "source": [
    "short_sentences = list()\n",
    "for sentence in blob.sentences:\n",
    "    if len(sentence.words) <= 5:\n",
    "        short_sentences.append(sentence)"
   ]
  },
  {
   "cell_type": "code",
   "execution_count": 11,
   "metadata": {},
   "outputs": [
    {
     "data": {
      "text/plain": [
       "[Sentence(\"Treasuries and thedollar gained.\"),\n",
       " Sentence(\"Technology companies paced gains.\")]"
      ]
     },
     "execution_count": 11,
     "metadata": {},
     "output_type": "execute_result"
    }
   ],
   "source": [
    "short_sentences"
   ]
  },
  {
   "cell_type": "markdown",
   "metadata": {},
   "source": [
    "<h3>Retrieve the nouns from the text</h3>"
   ]
  },
  {
   "cell_type": "code",
   "execution_count": 12,
   "metadata": {},
   "outputs": [
    {
     "name": "stdout",
     "output_type": "stream",
     "text": [
      "us stocks\n",
      "donald trump\n",
      "treasuries\n",
      "president ’ s decision\n",
      "canada\n",
      "mexicowhile\n",
      "countries wiggle room\n",
      "technology companies\n",
      "ten-year\n",
      "treasury yields\n",
      "european central bank ’ s\n",
      "mario draghi\n",
      "crude\n",
      "bloomberg\n"
     ]
    }
   ],
   "source": [
    "noun_phrases = blob.noun_phrases\n",
    "\n",
    "for i in noun_phrases:\n",
    "    print(i)"
   ]
  },
  {
   "cell_type": "code",
   "execution_count": null,
   "metadata": {},
   "outputs": [],
   "source": []
  }
 ],
 "metadata": {
  "anaconda-cloud": {},
  "kernelspec": {
   "display_name": "Python 3",
   "language": "python",
   "name": "python3"
  },
  "language_info": {
   "codemirror_mode": {
    "name": "ipython",
    "version": 3
   },
   "file_extension": ".py",
   "mimetype": "text/x-python",
   "name": "python",
   "nbconvert_exporter": "python",
   "pygments_lexer": "ipython3",
   "version": "3.6.5"
  }
 },
 "nbformat": 4,
 "nbformat_minor": 2
}
