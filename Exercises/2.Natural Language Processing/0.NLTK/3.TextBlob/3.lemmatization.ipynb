{
 "cells": [
  {
   "cell_type": "code",
   "execution_count": 4,
   "metadata": {},
   "outputs": [],
   "source": [
    "from textblob import *"
   ]
  },
  {
   "cell_type": "code",
   "execution_count": 5,
   "metadata": {},
   "outputs": [
    {
     "name": "stdout",
     "output_type": "stream",
     "text": [
      "Different books are on the tables.\n",
      "Different\n",
      "book\n",
      "are\n",
      "on\n",
      "the\n",
      "table\n",
      "\n",
      "\n",
      "I am reading pictures\n",
      "I\n",
      "am\n",
      "reading\n",
      "picture\n",
      "\n",
      "\n"
     ]
    }
   ],
   "source": [
    "text = TextBlob('Different books are on the tables. I am reading pictures')\n",
    "for sent in text.sentences:\n",
    "    print(sent)\n",
    "    for w in sent.words:\n",
    "        word = Word(w)\n",
    "        print(word.lemmatize())\n",
    "    print('\\n')"
   ]
  }
 ],
 "metadata": {
  "anaconda-cloud": {},
  "kernelspec": {
   "display_name": "Python 3",
   "language": "python",
   "name": "python3"
  },
  "language_info": {
   "codemirror_mode": {
    "name": "ipython",
    "version": 3
   },
   "file_extension": ".py",
   "mimetype": "text/x-python",
   "name": "python",
   "nbconvert_exporter": "python",
   "pygments_lexer": "ipython3",
   "version": "3.6.5"
  }
 },
 "nbformat": 4,
 "nbformat_minor": 2
}
