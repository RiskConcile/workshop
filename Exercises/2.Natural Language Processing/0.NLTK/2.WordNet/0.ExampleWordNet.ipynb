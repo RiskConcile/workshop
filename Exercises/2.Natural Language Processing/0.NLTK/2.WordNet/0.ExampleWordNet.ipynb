{
 "cells": [
  {
   "cell_type": "code",
   "execution_count": 1,
   "metadata": {},
   "outputs": [],
   "source": [
    "from nltk.corpus import wordnet as wn"
   ]
  },
  {
   "cell_type": "markdown",
   "metadata": {},
   "source": [
    "<h4>Get the synonyms for the word the stocks</h4>"
   ]
  },
  {
   "cell_type": "code",
   "execution_count": 2,
   "metadata": {},
   "outputs": [
    {
     "name": "stdout",
     "output_type": "stream",
     "text": [
      "There are  27  synsets containing the word stock \n",
      "\n",
      "[Synset('stock.n.01'), Synset('stock.n.02'), Synset('stock.n.03'), Synset('stock_certificate.n.01'), Synset('store.n.02'), Synset('lineage.n.01'), Synset('breed.n.01'), Synset('broth.n.01'), Synset('stock.n.09'), Synset('stock.n.10'), Synset('stock.n.11'), Synset('stock.n.12'), Synset('malcolm_stock.n.01'), Synset('stock.n.14'), Synset('stock.n.15'), Synset('neckcloth.n.01'), Synset('livestock.n.01'), Synset('stock.v.01'), Synset('stock.v.02'), Synset('stock.v.03'), Synset('stock.v.04'), Synset('stock.v.05'), Synset('stock.v.06'), Synset('sprout.v.02'), Synset('banal.s.01'), Synset('stock.s.02'), Synset('standard.s.05')]\n"
     ]
    }
   ],
   "source": [
    "word = 'stock'\n",
    "coll = wn.synsets(word)\n",
    "print('There are ',len(coll),' synsets containing the word', word,'\\n')\n",
    "print(coll)"
   ]
  },
  {
   "cell_type": "markdown",
   "metadata": {},
   "source": [
    "<hr>\n",
    "<br>\n",
    "Browsing through the number of wynsets corresponding to a particular word.<br>\n",
    "Let's limit the number of synsets based on the position in the text : NOUN, ADJ and ADV"
   ]
  },
  {
   "cell_type": "code",
   "execution_count": 15,
   "metadata": {},
   "outputs": [
    {
     "data": {
      "text/plain": [
       "[Synset('stock.n.01'),\n",
       " Synset('stock.n.02'),\n",
       " Synset('stock.n.03'),\n",
       " Synset('stock_certificate.n.01'),\n",
       " Synset('store.n.02'),\n",
       " Synset('lineage.n.01'),\n",
       " Synset('breed.n.01'),\n",
       " Synset('broth.n.01'),\n",
       " Synset('stock.n.09'),\n",
       " Synset('stock.n.10'),\n",
       " Synset('stock.n.11'),\n",
       " Synset('stock.n.12'),\n",
       " Synset('malcolm_stock.n.01'),\n",
       " Synset('stock.n.14'),\n",
       " Synset('stock.n.15'),\n",
       " Synset('neckcloth.n.01'),\n",
       " Synset('livestock.n.01')]"
      ]
     },
     "execution_count": 15,
     "metadata": {},
     "output_type": "execute_result"
    }
   ],
   "source": [
    "(wn.synsets(word,pos=wn.NOUN))"
   ]
  },
  {
   "cell_type": "markdown",
   "metadata": {},
   "source": [
    "Each synset has a definition:"
   ]
  },
  {
   "cell_type": "code",
   "execution_count": 20,
   "metadata": {},
   "outputs": [
    {
     "data": {
      "text/plain": [
       "'an ornamental white cravat'"
      ]
     },
     "execution_count": 20,
     "metadata": {},
     "output_type": "execute_result"
    }
   ],
   "source": [
    "wn.synset('neckcloth.n.01').definition()"
   ]
  },
  {
   "cell_type": "markdown",
   "metadata": {},
   "source": [
    "Each synset contains one or more lemmas, which represent a specific sense of a specific word.\n",
    "Getting the lemmas from all the synonyms of the word <b>bank</b>"
   ]
  },
  {
   "cell_type": "code",
   "execution_count": 23,
   "metadata": {},
   "outputs": [
    {
     "data": {
      "text/plain": [
       "['stock', 'gunstock']"
      ]
     },
     "execution_count": 23,
     "metadata": {},
     "output_type": "execute_result"
    }
   ],
   "source": [
    "wn.synsets('stock')[2].lemma_names()"
   ]
  },
  {
   "cell_type": "markdown",
   "metadata": {},
   "source": [
    "Each synset has also a couple of examples:"
   ]
  },
  {
   "cell_type": "code",
   "execution_count": 25,
   "metadata": {},
   "outputs": [
    {
     "data": {
      "text/plain": [
       "[\"he owns a controlling share of the company's stock\"]"
      ]
     },
     "execution_count": 25,
     "metadata": {},
     "output_type": "execute_result"
    }
   ],
   "source": [
    "wn.synsets('stock')[0].examples()"
   ]
  },
  {
   "cell_type": "markdown",
   "metadata": {},
   "source": [
    "A particular wynset has a <i>definition()</i> function"
   ]
  },
  {
   "cell_type": "code",
   "execution_count": 7,
   "metadata": {},
   "outputs": [
    {
     "name": "stdout",
     "output_type": "stream",
     "text": [
      "Synset('stock.n.01') :\n",
      "THE CAPITAL RAISED BY A CORPORATION THROUGH THE ISSUE OF SHARES ENTITLING HOLDERS TO AN OWNERSHIP INTEREST (EQUITY)\n",
      "\n",
      "Synset('stock.n.02') :\n",
      "THE MERCHANDISE THAT A SHOP HAS ON HAND\n",
      "\n",
      "Synset('stock.n.03') :\n",
      "THE HANDLE OF A HANDGUN OR THE BUTT END OF A RIFLE OR SHOTGUN OR PART OF THE SUPPORT OF A MACHINE GUN OR ARTILLERY GUN\n",
      "\n",
      "Synset('stock_certificate.n.01') :\n",
      "A CERTIFICATE DOCUMENTING THE SHAREHOLDER'S OWNERSHIP IN THE CORPORATION\n",
      "\n",
      "Synset('store.n.02') :\n",
      "A SUPPLY OF SOMETHING AVAILABLE FOR FUTURE USE\n",
      "\n",
      "Synset('lineage.n.01') :\n",
      "THE DESCENDANTS OF ONE INDIVIDUAL\n",
      "\n",
      "Synset('breed.n.01') :\n",
      "A SPECIAL VARIETY OF DOMESTICATED ANIMALS WITHIN A SPECIES\n",
      "\n",
      "Synset('broth.n.01') :\n",
      "LIQUID IN WHICH MEAT AND VEGETABLES ARE SIMMERED; USED AS A BASIS FOR E.G. SOUPS OR SAUCES\n",
      "\n",
      "Synset('stock.n.09') :\n",
      "THE REPUTATION AND POPULARITY A PERSON HAS\n",
      "\n",
      "Synset('stock.n.10') :\n",
      "PERSISTENT THICKENED STEM OF A HERBACEOUS PERENNIAL PLANT\n",
      "\n",
      "Synset('stock.n.11') :\n",
      "A PLANT OR STEM ONTO WHICH A GRAFT IS MADE; ESPECIALLY A PLANT GROWN SPECIFICALLY TO PROVIDE THE ROOT PART OF GRAFTED PLANTS\n",
      "\n",
      "Synset('stock.n.12') :\n",
      "ANY OF SEVERAL OLD WORLD PLANTS CULTIVATED FOR THEIR BRIGHTLY COLORED FLOWERS\n",
      "\n",
      "Synset('malcolm_stock.n.01') :\n",
      "ANY OF VARIOUS ORNAMENTAL FLOWERING PLANTS OF THE GENUS MALCOLMIA\n",
      "\n",
      "Synset('stock.n.14') :\n",
      "LUMBER USED IN THE CONSTRUCTION OF SOMETHING\n",
      "\n",
      "Synset('stock.n.15') :\n",
      "THE HANDLE END OF SOME IMPLEMENTS OR TOOLS\n",
      "\n",
      "Synset('neckcloth.n.01') :\n",
      "AN ORNAMENTAL WHITE CRAVAT\n",
      "\n",
      "Synset('livestock.n.01') :\n",
      "ANY ANIMALS KEPT FOR USE OR PROFIT\n",
      "\n"
     ]
    }
   ],
   "source": [
    "for i in wn.synsets('stock',pos=wn.NOUN):\n",
    "    print(i,':')\n",
    "    print(i.definition().upper() + '\\n')"
   ]
  },
  {
   "cell_type": "markdown",
   "metadata": {},
   "source": [
    "Which is the hypernym of the word stock ?"
   ]
  },
  {
   "cell_type": "code",
   "execution_count": 8,
   "metadata": {},
   "outputs": [
    {
     "data": {
      "text/plain": [
       "[Synset('capital.n.01')]"
      ]
     },
     "execution_count": 8,
     "metadata": {},
     "output_type": "execute_result"
    }
   ],
   "source": [
    "wn.synset('stock.n.01').hypernyms()"
   ]
  },
  {
   "cell_type": "markdown",
   "metadata": {},
   "source": [
    "What are the other hypernyms ?"
   ]
  },
  {
   "cell_type": "code",
   "execution_count": 29,
   "metadata": {},
   "outputs": [
    {
     "data": {
      "text/plain": [
       "[Synset('assets.n.01')]"
      ]
     },
     "execution_count": 29,
     "metadata": {},
     "output_type": "execute_result"
    }
   ],
   "source": [
    "wn.synsets('capital')[0].hypernyms()"
   ]
  },
  {
   "cell_type": "code",
   "execution_count": 26,
   "metadata": {},
   "outputs": [
    {
     "name": "stdout",
     "output_type": "stream",
     "text": [
      "Synset('stock.n.01')\n",
      "[Synset('capital.n.01')]\n",
      "\n",
      "\n",
      "Synset('stock.n.02')\n",
      "[Synset('merchandise.n.01')]\n",
      "\n",
      "\n",
      "Synset('stock.n.03')\n",
      "[Synset('handle.n.01'), Synset('support.n.10')]\n",
      "\n",
      "\n",
      "Synset('stock_certificate.n.01')\n",
      "[Synset('security.n.04')]\n",
      "\n",
      "\n",
      "Synset('store.n.02')\n",
      "[Synset('accumulation.n.04')]\n",
      "\n",
      "\n"
     ]
    }
   ],
   "source": [
    "for i in wn.synsets('stock',pos=wn.NOUN)[0:5]:\n",
    "    print(i)\n",
    "    print(i.hypernyms())\n",
    "    print('\\n')"
   ]
  },
  {
   "cell_type": "markdown",
   "metadata": {},
   "source": [
    "Which is the hyponym of the word stock ? (provide a definition of each one)"
   ]
  },
  {
   "cell_type": "code",
   "execution_count": 10,
   "metadata": {},
   "outputs": [
    {
     "name": "stdout",
     "output_type": "stream",
     "text": [
      "Synset('authorized_shares.n.01') : the maximum number of shares authorized under the terms of a corporation's articles of incorporation \n",
      "\n",
      "Synset('common_stock.n.01') : stock other than preferred stock; entitles the owner to a share of the corporation's profits and a share of the voting power in shareholder elections \n",
      "\n",
      "Synset('common_stock_equivalent.n.01') : preferred stock or convertible bonds or warrants that can be converted into common stock \n",
      "\n",
      "Synset('control_stock.n.01') : shares owned by shareholders who have a controlling interest \n",
      "\n",
      "Synset('float.n.02') : the number of shares outstanding and available for trading by the public \n",
      "\n",
      "Synset('growth_stock.n.01') : stock of a corporation that has had faster than average gains in earnings and is expected to continue to \n",
      "\n",
      "Synset('hot_stock.n.01') : newly issued stock that is in great public demand \n",
      "\n",
      "Synset('no-par-value_stock.n.01') : stock with no par value specified in the corporate charter or on the stock certificate \n",
      "\n",
      "Synset('preferred_stock.n.01') : stock whose holders are guaranteed priority in the payment of dividends but whose holders have no voting rights \n",
      "\n",
      "Synset('quarter_stock.n.01') : stock with a par value of $25/share \n",
      "\n",
      "Synset('treasury_stock.n.01') : stock that has been bought back by the issuing corporation and is available for retirement or resale; it is issued but not outstanding; it cannot vote and pays no dividends \n",
      "\n",
      "Synset('voting_stock.n.01') : shares in a corporation that entitle the shareholder to voting and proxy rights \n",
      "\n",
      "Synset('watered_stock.n.01') : stock representing ownership of overvalued assets; stock of a corporation whose total worth is less than its invested capital \n",
      "\n"
     ]
    }
   ],
   "source": [
    "for w in wn.synset('stock.n.01').hyponyms():\n",
    "    print(w,':',w.definition(),'\\n')"
   ]
  },
  {
   "cell_type": "code",
   "execution_count": 11,
   "metadata": {},
   "outputs": [],
   "source": [
    "sn = wn.synsets('maturity')"
   ]
  },
  {
   "cell_type": "code",
   "execution_count": 12,
   "metadata": {},
   "outputs": [
    {
     "name": "stdout",
     "output_type": "stream",
     "text": [
      "Synset('adulthood.n.01')\n",
      "the period of time in your life after your physical growth has stopped and you are fully developed \n",
      "\n",
      "Synset('maturity.n.02')\n",
      "state of being mature; full development \n",
      "\n",
      "Synset('maturity.n.03')\n",
      "the date on which an obligation must be repaid \n",
      "\n"
     ]
    }
   ],
   "source": [
    "for s in sn:\n",
    "    print(s)\n",
    "    print(s.definition(),'\\n')"
   ]
  },
  {
   "cell_type": "code",
   "execution_count": null,
   "metadata": {},
   "outputs": [],
   "source": []
  }
 ],
 "metadata": {
  "anaconda-cloud": {},
  "kernelspec": {
   "display_name": "Python 3",
   "language": "python",
   "name": "python3"
  },
  "language_info": {
   "codemirror_mode": {
    "name": "ipython",
    "version": 3
   },
   "file_extension": ".py",
   "mimetype": "text/x-python",
   "name": "python",
   "nbconvert_exporter": "python",
   "pygments_lexer": "ipython3",
   "version": "3.7.0"
  },
  "toc": {
   "base_numbering": 1,
   "nav_menu": {},
   "number_sections": true,
   "sideBar": true,
   "skip_h1_title": false,
   "title_cell": "Table of Contents",
   "title_sidebar": "Contents",
   "toc_cell": false,
   "toc_position": {},
   "toc_section_display": true,
   "toc_window_display": false
  },
  "varInspector": {
   "cols": {
    "lenName": 16,
    "lenType": 16,
    "lenVar": 40
   },
   "kernels_config": {
    "python": {
     "delete_cmd_postfix": "",
     "delete_cmd_prefix": "del ",
     "library": "var_list.py",
     "varRefreshCmd": "print(var_dic_list())"
    },
    "r": {
     "delete_cmd_postfix": ") ",
     "delete_cmd_prefix": "rm(",
     "library": "var_list.r",
     "varRefreshCmd": "cat(var_dic_list()) "
    }
   },
   "types_to_exclude": [
    "module",
    "function",
    "builtin_function_or_method",
    "instance",
    "_Feature"
   ],
   "window_display": false
  }
 },
 "nbformat": 4,
 "nbformat_minor": 2
}
