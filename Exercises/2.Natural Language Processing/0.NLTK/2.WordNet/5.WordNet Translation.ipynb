{
 "cells": [
  {
   "cell_type": "code",
   "execution_count": 1,
   "metadata": {},
   "outputs": [],
   "source": [
    "from nltk.corpus import wordnet as wn"
   ]
  },
  {
   "cell_type": "markdown",
   "metadata": {},
   "source": [
    "<h4>Available languages in wordnet </h4>"
   ]
  },
  {
   "cell_type": "code",
   "execution_count": 2,
   "metadata": {},
   "outputs": [
    {
     "name": "stdout",
     "output_type": "stream",
     "text": [
      "['eng', 'als', 'arb', 'bul', 'cat', 'cmn', 'dan', 'ell', 'eus', 'fas', 'fin', 'fra', 'glg', 'heb', 'hrv', 'ind', 'ita', 'jpn', 'nld', 'nno', 'nob', 'pol', 'por', 'qcn', 'slv', 'spa', 'swe', 'tha', 'zsm']\n"
     ]
    }
   ],
   "source": [
    "print(wn.langs())"
   ]
  },
  {
   "cell_type": "markdown",
   "metadata": {},
   "source": [
    "Translating the word 'stock' were possible"
   ]
  },
  {
   "cell_type": "code",
   "execution_count": 3,
   "metadata": {},
   "outputs": [],
   "source": [
    "sn = wn.synsets('stock')[0]"
   ]
  },
  {
   "cell_type": "code",
   "execution_count": 6,
   "metadata": {},
   "outputs": [
    {
     "data": {
      "text/plain": [
       "['aktie']"
      ]
     },
     "execution_count": 6,
     "metadata": {},
     "output_type": "execute_result"
    }
   ],
   "source": [
    "sn.lemma_names('dan')"
   ]
  },
  {
   "cell_type": "code",
   "execution_count": 5,
   "metadata": {},
   "outputs": [
    {
     "name": "stdout",
     "output_type": "stream",
     "text": [
      "eng:['stock']\n",
      "arb:['أصْل', 'أُصُول']\n",
      "bul:['акция']\n",
      "cmn:['股本', '股票']\n",
      "dan:['aktie']\n",
      "eus:['akzio']\n",
      "fin:['osakepääoma']\n",
      "fra:['action']\n",
      "hrv:['dionica']\n",
      "ind:['saham', 'stok']\n",
      "ita:['azione']\n",
      "nld:['stock']\n",
      "nno:['aksje']\n",
      "nob:['aksje']\n",
      "pol:['akcja']\n",
      "por:['ação']\n",
      "qcn:['股']\n",
      "slv:['delnica']\n",
      "swe:['aktiekapital']\n",
      "tha:['หุ้น']\n",
      "zsm:['saham', 'stok']\n"
     ]
    }
   ],
   "source": [
    "for l in wn.langs():\n",
    "    translation = sn.lemma_names(l)\n",
    "    if translation:\n",
    "        print(l + ':' + str(translation))"
   ]
  },
  {
   "cell_type": "code",
   "execution_count": null,
   "metadata": {},
   "outputs": [],
   "source": []
  }
 ],
 "metadata": {
  "kernelspec": {
   "display_name": "Python 3",
   "language": "python",
   "name": "python3"
  },
  "language_info": {
   "codemirror_mode": {
    "name": "ipython",
    "version": 3
   },
   "file_extension": ".py",
   "mimetype": "text/x-python",
   "name": "python",
   "nbconvert_exporter": "python",
   "pygments_lexer": "ipython3",
   "version": "3.6.4"
  }
 },
 "nbformat": 4,
 "nbformat_minor": 2
}
