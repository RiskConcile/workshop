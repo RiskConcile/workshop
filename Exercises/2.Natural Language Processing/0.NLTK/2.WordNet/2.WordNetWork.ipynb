{
 "cells": [
  {
   "cell_type": "code",
   "execution_count": 1,
   "metadata": {},
   "outputs": [],
   "source": [
    "import networkx as nx\n",
    "from nltk.corpus import wordnet as wn"
   ]
  },
  {
   "cell_type": "code",
   "execution_count": 2,
   "metadata": {},
   "outputs": [],
   "source": [
    "import matplotlib.pyplot as plt\n",
    "%matplotlib inline"
   ]
  },
  {
   "cell_type": "markdown",
   "metadata": {},
   "source": [
    "Auxiliary functions"
   ]
  },
  {
   "cell_type": "code",
   "execution_count": 3,
   "metadata": {},
   "outputs": [],
   "source": [
    "def loop(graph, start, node, hypo=True):\n",
    "    \"\"\"transvers the graph\"\"\"\n",
    "    graph.depth[node.lemma_names()[0]] = node.shortest_path_distance(start)\n",
    "    if hypo:\n",
    "        hypo = node.hyponyms()\n",
    "    else:\n",
    "        hypo = node.hypernyms()\n",
    "    if len(hypo) == 0:\n",
    "        return\n",
    "    for child in hypo:\n",
    "        graph.add_edge(node.name, child.name)\n",
    "        loop(graph, start, child)"
   ]
  },
  {
   "cell_type": "code",
   "execution_count": 4,
   "metadata": {},
   "outputs": [],
   "source": [
    "def hyp_graph(start_word, hypo=True):\n",
    "    \"\"\"\n",
    "    hyper graph originatng in the starting word (start_word) and adding the different \n",
    "    nodes to it\n",
    "    \"\"\"\n",
    "    G = nx.Graph()\n",
    "    G.depth = {}\n",
    "    loop(G, start_word, start_word, hypo)\n",
    "    return G"
   ]
  },
  {
   "cell_type": "code",
   "execution_count": 5,
   "metadata": {},
   "outputs": [],
   "source": [
    "def visualize_word(word, hypo=True):\n",
    "    \"\"\"\n",
    "    Constructs the graph starting from the first synset that is available\n",
    "    \"\"\"\n",
    "    syn = wn.synsets(word)\n",
    "    return hyp_graph(syn[0], hypo)"
   ]
  },
  {
   "cell_type": "markdown",
   "metadata": {},
   "source": [
    "Main Graph"
   ]
  },
  {
   "cell_type": "code",
   "execution_count": 6,
   "metadata": {},
   "outputs": [
    {
     "data": {
      "image/png": "[encoded data removed]",
      "text/plain": [
       "<matplotlib.figure.Figure at 0x1a0e77fb38>"
      ]
     },
     "metadata": {},
     "output_type": "display_data"
    }
   ],
   "source": [
    "\n",
    "limits=plt.axis('off')\n",
    "G = visualize_word('stock', True)\n",
    "nx.draw(G,pos=nx.spring_layout(G))\n"
   ]
  },
  {
   "cell_type": "code",
   "execution_count": null,
   "metadata": {},
   "outputs": [],
   "source": []
  }
 ],
 "metadata": {
  "kernelspec": {
   "display_name": "Python 3",
   "language": "python",
   "name": "python3"
  },
  "language_info": {
   "codemirror_mode": {
    "name": "ipython",
    "version": 3
   },
   "file_extension": ".py",
   "mimetype": "text/x-python",
   "name": "python",
   "nbconvert_exporter": "python",
   "pygments_lexer": "ipython3",
   "version": "3.6.4"
  }
 },
 "nbformat": 4,
 "nbformat_minor": 2
}
