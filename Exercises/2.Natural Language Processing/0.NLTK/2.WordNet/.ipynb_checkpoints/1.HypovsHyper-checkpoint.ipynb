{
 "cells": [
  {
   "cell_type": "code",
   "execution_count": 1,
   "metadata": {},
   "outputs": [],
   "source": [
    "from nltk.corpus import wordnet as wn"
   ]
  },
  {
   "cell_type": "markdown",
   "metadata": {},
   "source": []
  },
  {
   "cell_type": "code",
   "execution_count": 5,
   "metadata": {},
   "outputs": [
    {
     "data": {
      "text/plain": [
       "[Synset('authorized_shares.n.01'),\n",
       " Synset('common_stock.n.01'),\n",
       " Synset('common_stock_equivalent.n.01'),\n",
       " Synset('control_stock.n.01'),\n",
       " Synset('float.n.02'),\n",
       " Synset('growth_stock.n.01'),\n",
       " Synset('hot_stock.n.01'),\n",
       " Synset('no-par-value_stock.n.01'),\n",
       " Synset('preferred_stock.n.01'),\n",
       " Synset('quarter_stock.n.01'),\n",
       " Synset('treasury_stock.n.01'),\n",
       " Synset('voting_stock.n.01'),\n",
       " Synset('watered_stock.n.01')]"
      ]
     },
     "execution_count": 5,
     "metadata": {},
     "output_type": "execute_result"
    }
   ],
   "source": [
    "wn.synsets('stock')[0].hyponyms()"
   ]
  },
  {
   "cell_type": "code",
   "execution_count": null,
   "metadata": {},
   "outputs": [],
   "source": []
  }
 ],
 "metadata": {
  "kernelspec": {
   "display_name": "Python [default]",
   "language": "python",
   "name": "python3"
  },
  "language_info": {
   "codemirror_mode": {
    "name": "ipython",
    "version": 3
   },
   "file_extension": ".py",
   "mimetype": "text/x-python",
   "name": "python",
   "nbconvert_exporter": "python",
   "pygments_lexer": "ipython3",
   "version": "3.5.2"
  }
 },
 "nbformat": 4,
 "nbformat_minor": 2
}
