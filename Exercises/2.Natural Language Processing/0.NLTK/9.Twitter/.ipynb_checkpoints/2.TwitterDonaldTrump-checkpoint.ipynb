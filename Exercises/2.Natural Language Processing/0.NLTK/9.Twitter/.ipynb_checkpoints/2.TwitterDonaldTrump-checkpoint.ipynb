{
 "cells": [
  {
   "cell_type": "code",
   "execution_count": 42,
   "metadata": {},
   "outputs": [
    {
     "name": "stdout",
     "output_type": "stream",
     "text": [
      "my API Connected !\n"
     ]
    }
   ],
   "source": [
    "%run connect_twitter.ipynb"
   ]
  },
  {
   "cell_type": "code",
   "execution_count": 43,
   "metadata": {},
   "outputs": [],
   "source": [
    "import pandas as pd\n",
    "import numpy as np\n",
    "import seaborn as sns\n",
    "import matplotlib.pyplot as plt\n",
    "%matplotlib inline"
   ]
  },
  {
   "cell_type": "markdown",
   "metadata": {},
   "source": [
    "<h3>Gathering Data</h3><br>\n",
    "Find 200 most recent tweets fom user @realDonaldTrump:"
   ]
  },
  {
   "cell_type": "code",
   "execution_count": 44,
   "metadata": {},
   "outputs": [],
   "source": [
    "name = '@realDonaldTrump'\n",
    "nbr_tweets = 200\n",
    "results = myapi.user_timeline(id=name, count=nbr_tweets)"
   ]
  },
  {
   "cell_type": "code",
   "execution_count": 45,
   "metadata": {},
   "outputs": [
    {
     "data": {
      "text/plain": [
       "tweepy.models.ResultSet"
      ]
     },
     "execution_count": 45,
     "metadata": {},
     "output_type": "execute_result"
    }
   ],
   "source": [
    "type(results)"
   ]
  },
  {
   "cell_type": "code",
   "execution_count": 46,
   "metadata": {},
   "outputs": [],
   "source": [
    "data=[tweet.text for tweet in results]\n"
   ]
  },
  {
   "cell_type": "markdown",
   "metadata": {},
   "source": [
    "Assemble the text into a dataframe"
   ]
  },
  {
   "cell_type": "code",
   "execution_count": 47,
   "metadata": {},
   "outputs": [],
   "source": [
    "data = pd.DataFrame(data=[tweet.text for tweet in results],\n",
    "                    columns=['Tweets'])"
   ]
  },
  {
   "cell_type": "code",
   "execution_count": 48,
   "metadata": {},
   "outputs": [
    {
     "data": {
      "text/html": [
       "<div>\n",
       "<style scoped>\n",
       "    .dataframe tbody tr th:only-of-type {\n",
       "        vertical-align: middle;\n",
       "    }\n",
       "\n",
       "    .dataframe tbody tr th {\n",
       "        vertical-align: top;\n",
       "    }\n",
       "\n",
       "    .dataframe thead th {\n",
       "        text-align: right;\n",
       "    }\n",
       "</style>\n",
       "<table border=\"1\" class=\"dataframe\">\n",
       "  <thead>\n",
       "    <tr style=\"text-align: right;\">\n",
       "      <th></th>\n",
       "      <th>Tweets</th>\n",
       "    </tr>\n",
       "  </thead>\n",
       "  <tbody>\n",
       "    <tr>\n",
       "      <th>0</th>\n",
       "      <td>...House Republicans are showing real LEADERSH...</td>\n",
       "    </tr>\n",
       "    <tr>\n",
       "      <th>1</th>\n",
       "      <td>...Pelosi and her Do Nothing Democrats drug pr...</td>\n",
       "    </tr>\n",
       "    <tr>\n",
       "      <th>2</th>\n",
       "      <td>...While we had the first prescription drug pr...</td>\n",
       "    </tr>\n",
       "    <tr>\n",
       "      <th>3</th>\n",
       "      <td>.@SecAzar and I will soon release a plan to le...</td>\n",
       "    </tr>\n",
       "    <tr>\n",
       "      <th>4</th>\n",
       "      <td>Thank you to @senatemajldr Mitch McConnell and...</td>\n",
       "    </tr>\n",
       "  </tbody>\n",
       "</table>\n",
       "</div>"
      ],
      "text/plain": [
       "                                              Tweets\n",
       "0  ...House Republicans are showing real LEADERSH...\n",
       "1  ...Pelosi and her Do Nothing Democrats drug pr...\n",
       "2  ...While we had the first prescription drug pr...\n",
       "3  .@SecAzar and I will soon release a plan to le...\n",
       "4  Thank you to @senatemajldr Mitch McConnell and..."
      ]
     },
     "execution_count": 48,
     "metadata": {},
     "output_type": "execute_result"
    }
   ],
   "source": [
    "data.head()"
   ]
  },
  {
   "cell_type": "markdown",
   "metadata": {},
   "source": [
    "The interesting part from here is the quantity of metadata contained in a single tweet. If we want to obtain data such as the creation date, or the source of creation, we can access the info with this attributes. An example is the following:"
   ]
  },
  {
   "cell_type": "code",
   "execution_count": 49,
   "metadata": {},
   "outputs": [
    {
     "name": "stdout",
     "output_type": "stream",
     "text": [
      "['__class__', '__delattr__', '__dict__', '__dir__', '__doc__', '__eq__', '__format__', '__ge__', '__getattribute__', '__getstate__', '__gt__', '__hash__', '__init__', '__init_subclass__', '__le__', '__lt__', '__module__', '__ne__', '__new__', '__reduce__', '__reduce_ex__', '__repr__', '__setattr__', '__sizeof__', '__str__', '__subclasshook__', '__weakref__', '_api', '_json', 'author', 'contributors', 'coordinates', 'created_at', 'destroy', 'entities', 'favorite', 'favorite_count', 'favorited', 'geo', 'id', 'id_str', 'in_reply_to_screen_name', 'in_reply_to_status_id', 'in_reply_to_status_id_str', 'in_reply_to_user_id', 'in_reply_to_user_id_str', 'is_quote_status', 'lang', 'parse', 'parse_list', 'place', 'retweet', 'retweet_count', 'retweeted', 'retweets', 'source', 'source_url', 'text', 'truncated', 'user']\n"
     ]
    }
   ],
   "source": [
    "print(dir(results[0]))"
   ]
  },
  {
   "cell_type": "markdown",
   "metadata": {},
   "source": [
    "Getting the meta data from the first tweet in the lsit"
   ]
  },
  {
   "cell_type": "code",
   "execution_count": 50,
   "metadata": {},
   "outputs": [
    {
     "name": "stdout",
     "output_type": "stream",
     "text": [
      "id: 1197954044393861120\n",
      "created at: 2019-11-22 19:04:35\n",
      "source: Twitter for iPhone\n",
      "likes: 17994\n",
      "retweets: 4997\n",
      "geo-location: None\n",
      "message: ...House Republicans are showing real LEADERSHIP and prepared to enact bipartisan solutions for drug prices. Do Not… https://t.co/YkzY7kPOKw\n"
     ]
    }
   ],
   "source": [
    "print('id:',results[0].id)\n",
    "print('created at:',results[0].created_at)\n",
    "print('source:',results[0].source)\n",
    "print('likes:',results[0].favorite_count)\n",
    "print('retweets:',results[0].retweet_count)\n",
    "print('geo-location:',results[0].geo)\n",
    "print('message:',results[0].text)"
   ]
  },
  {
   "cell_type": "markdown",
   "metadata": {},
   "source": [
    "<h4>Adding more data to the dataframe </h4>"
   ]
  },
  {
   "cell_type": "code",
   "execution_count": 51,
   "metadata": {},
   "outputs": [],
   "source": [
    "data['len']  = np.array([len(tweet.text) for tweet in results])\n",
    "data['ID']   = np.array([tweet.id for tweet in results])\n",
    "data['Date'] = np.array([tweet.created_at for tweet in results])\n",
    "data['Source'] = np.array([tweet.source for tweet in results])\n",
    "data['Likes']  = np.array([tweet.favorite_count for tweet in results])\n",
    "data['RTs']    = np.array([tweet.retweet_count for tweet in results])"
   ]
  },
  {
   "cell_type": "code",
   "execution_count": 52,
   "metadata": {},
   "outputs": [
    {
     "data": {
      "text/html": [
       "<div>\n",
       "<style scoped>\n",
       "    .dataframe tbody tr th:only-of-type {\n",
       "        vertical-align: middle;\n",
       "    }\n",
       "\n",
       "    .dataframe tbody tr th {\n",
       "        vertical-align: top;\n",
       "    }\n",
       "\n",
       "    .dataframe thead th {\n",
       "        text-align: right;\n",
       "    }\n",
       "</style>\n",
       "<table border=\"1\" class=\"dataframe\">\n",
       "  <thead>\n",
       "    <tr style=\"text-align: right;\">\n",
       "      <th></th>\n",
       "      <th>Tweets</th>\n",
       "      <th>len</th>\n",
       "      <th>ID</th>\n",
       "      <th>Date</th>\n",
       "      <th>Source</th>\n",
       "      <th>Likes</th>\n",
       "      <th>RTs</th>\n",
       "    </tr>\n",
       "  </thead>\n",
       "  <tbody>\n",
       "    <tr>\n",
       "      <th>0</th>\n",
       "      <td>...House Republicans are showing real LEADERSH...</td>\n",
       "      <td>140</td>\n",
       "      <td>1197954044393861120</td>\n",
       "      <td>2019-11-22 19:04:35</td>\n",
       "      <td>Twitter for iPhone</td>\n",
       "      <td>17994</td>\n",
       "      <td>4997</td>\n",
       "    </tr>\n",
       "    <tr>\n",
       "      <th>1</th>\n",
       "      <td>...Pelosi and her Do Nothing Democrats drug pr...</td>\n",
       "      <td>139</td>\n",
       "      <td>1197954043420827648</td>\n",
       "      <td>2019-11-22 19:04:35</td>\n",
       "      <td>Twitter for iPhone</td>\n",
       "      <td>17002</td>\n",
       "      <td>4548</td>\n",
       "    </tr>\n",
       "    <tr>\n",
       "      <th>2</th>\n",
       "      <td>...While we had the first prescription drug pr...</td>\n",
       "      <td>139</td>\n",
       "      <td>1197954042342719488</td>\n",
       "      <td>2019-11-22 19:04:35</td>\n",
       "      <td>Twitter for iPhone</td>\n",
       "      <td>8013</td>\n",
       "      <td>2564</td>\n",
       "    </tr>\n",
       "    <tr>\n",
       "      <th>3</th>\n",
       "      <td>.@SecAzar and I will soon release a plan to le...</td>\n",
       "      <td>140</td>\n",
       "      <td>1197954041139146754</td>\n",
       "      <td>2019-11-22 19:04:34</td>\n",
       "      <td>Twitter for iPhone</td>\n",
       "      <td>27680</td>\n",
       "      <td>8086</td>\n",
       "    </tr>\n",
       "    <tr>\n",
       "      <th>4</th>\n",
       "      <td>Thank you to @senatemajldr Mitch McConnell and...</td>\n",
       "      <td>140</td>\n",
       "      <td>1197951285238083585</td>\n",
       "      <td>2019-11-22 18:53:37</td>\n",
       "      <td>Twitter for iPhone</td>\n",
       "      <td>30766</td>\n",
       "      <td>8151</td>\n",
       "    </tr>\n",
       "  </tbody>\n",
       "</table>\n",
       "</div>"
      ],
      "text/plain": [
       "                                              Tweets  len  \\\n",
       "0  ...House Republicans are showing real LEADERSH...  140   \n",
       "1  ...Pelosi and her Do Nothing Democrats drug pr...  139   \n",
       "2  ...While we had the first prescription drug pr...  139   \n",
       "3  .@SecAzar and I will soon release a plan to le...  140   \n",
       "4  Thank you to @senatemajldr Mitch McConnell and...  140   \n",
       "\n",
       "                    ID                Date              Source  Likes   RTs  \n",
       "0  1197954044393861120 2019-11-22 19:04:35  Twitter for iPhone  17994  4997  \n",
       "1  1197954043420827648 2019-11-22 19:04:35  Twitter for iPhone  17002  4548  \n",
       "2  1197954042342719488 2019-11-22 19:04:35  Twitter for iPhone   8013  2564  \n",
       "3  1197954041139146754 2019-11-22 19:04:34  Twitter for iPhone  27680  8086  \n",
       "4  1197951285238083585 2019-11-22 18:53:37  Twitter for iPhone  30766  8151  "
      ]
     },
     "execution_count": 52,
     "metadata": {},
     "output_type": "execute_result"
    }
   ],
   "source": [
    "data.head()"
   ]
  },
  {
   "cell_type": "markdown",
   "metadata": {},
   "source": [
    "<h3>Interpretation of the data</h3>"
   ]
  },
  {
   "cell_type": "code",
   "execution_count": 53,
   "metadata": {},
   "outputs": [],
   "source": [
    "likes_max = np.max(data['Likes'])\n",
    "retweet_max  = np.max(data['RTs'])"
   ]
  },
  {
   "cell_type": "code",
   "execution_count": 54,
   "metadata": {},
   "outputs": [],
   "source": [
    "likes = data[data['Likes'] == likes_max].index[0]\n",
    "retweets  = data[data.RTs == retweet_max].index[0]"
   ]
  },
  {
   "cell_type": "code",
   "execution_count": 55,
   "metadata": {},
   "outputs": [
    {
     "data": {
      "text/plain": [
       "131"
      ]
     },
     "execution_count": 55,
     "metadata": {},
     "output_type": "execute_result"
    }
   ],
   "source": [
    "retweets"
   ]
  },
  {
   "cell_type": "code",
   "execution_count": 56,
   "metadata": {},
   "outputs": [
    {
     "name": "stdout",
     "output_type": "stream",
     "text": [
      "The tweet with most likes is: \n",
      "A great day for Republicans, a great day for our Country!\n",
      "Number of likes: 159914\n",
      "57 characters.\n",
      "Tweeted at 2019-11-20 01:06:48\n"
     ]
    }
   ],
   "source": [
    "# Max FAVs:\n",
    "print(\"The tweet with most likes is: \\n{}\".format(data['Tweets'][likes]))\n",
    "print(\"Number of likes: {}\".format(likes_max))\n",
    "print(\"{} characters.\".format(data['len'][likes]))\n",
    "print(\"Tweeted at {s}\".format(s=data['Date'][likes]))"
   ]
  },
  {
   "cell_type": "code",
   "execution_count": 57,
   "metadata": {},
   "outputs": [
    {
     "data": {
      "text/html": [
       "<div>\n",
       "<style scoped>\n",
       "    .dataframe tbody tr th:only-of-type {\n",
       "        vertical-align: middle;\n",
       "    }\n",
       "\n",
       "    .dataframe tbody tr th {\n",
       "        vertical-align: top;\n",
       "    }\n",
       "\n",
       "    .dataframe thead th {\n",
       "        text-align: right;\n",
       "    }\n",
       "</style>\n",
       "<table border=\"1\" class=\"dataframe\">\n",
       "  <thead>\n",
       "    <tr style=\"text-align: right;\">\n",
       "      <th></th>\n",
       "      <th>Tweets</th>\n",
       "      <th>len</th>\n",
       "      <th>ID</th>\n",
       "      <th>Date</th>\n",
       "      <th>Source</th>\n",
       "      <th>Likes</th>\n",
       "      <th>RTs</th>\n",
       "    </tr>\n",
       "  </thead>\n",
       "  <tbody>\n",
       "    <tr>\n",
       "      <th>97</th>\n",
       "      <td>A great day for Republicans, a great day for o...</td>\n",
       "      <td>57</td>\n",
       "      <td>1196958035127783427</td>\n",
       "      <td>2019-11-20 01:06:48</td>\n",
       "      <td>Twitter for iPhone</td>\n",
       "      <td>159914</td>\n",
       "      <td>29064</td>\n",
       "    </tr>\n",
       "    <tr>\n",
       "      <th>131</th>\n",
       "      <td>Nancy Pelosi just stated that “it is dangerous...</td>\n",
       "      <td>140</td>\n",
       "      <td>1196658170984357888</td>\n",
       "      <td>2019-11-19 05:15:15</td>\n",
       "      <td>Twitter for iPhone</td>\n",
       "      <td>145789</td>\n",
       "      <td>43003</td>\n",
       "    </tr>\n",
       "    <tr>\n",
       "      <th>64</th>\n",
       "      <td>Today I opened a major Apple Manufacturing pla...</td>\n",
       "      <td>140</td>\n",
       "      <td>1197293250115014656</td>\n",
       "      <td>2019-11-20 23:18:50</td>\n",
       "      <td>Twitter for iPhone</td>\n",
       "      <td>132883</td>\n",
       "      <td>33214</td>\n",
       "    </tr>\n",
       "    <tr>\n",
       "      <th>151</th>\n",
       "      <td>Where is the Fake Whistleblower?</td>\n",
       "      <td>32</td>\n",
       "      <td>1196159184431177729</td>\n",
       "      <td>2019-11-17 20:12:27</td>\n",
       "      <td>Twitter for iPhone</td>\n",
       "      <td>132241</td>\n",
       "      <td>27485</td>\n",
       "    </tr>\n",
       "  </tbody>\n",
       "</table>\n",
       "</div>"
      ],
      "text/plain": [
       "                                                Tweets  len  \\\n",
       "97   A great day for Republicans, a great day for o...   57   \n",
       "131  Nancy Pelosi just stated that “it is dangerous...  140   \n",
       "64   Today I opened a major Apple Manufacturing pla...  140   \n",
       "151                   Where is the Fake Whistleblower?   32   \n",
       "\n",
       "                      ID                Date              Source   Likes  \\\n",
       "97   1196958035127783427 2019-11-20 01:06:48  Twitter for iPhone  159914   \n",
       "131  1196658170984357888 2019-11-19 05:15:15  Twitter for iPhone  145789   \n",
       "64   1197293250115014656 2019-11-20 23:18:50  Twitter for iPhone  132883   \n",
       "151  1196159184431177729 2019-11-17 20:12:27  Twitter for iPhone  132241   \n",
       "\n",
       "       RTs  \n",
       "97   29064  \n",
       "131  43003  \n",
       "64   33214  \n",
       "151  27485  "
      ]
     },
     "execution_count": 57,
     "metadata": {},
     "output_type": "execute_result"
    }
   ],
   "source": [
    "data.sort_values(by='Likes',ascending=False).head(4)"
   ]
  },
  {
   "cell_type": "markdown",
   "metadata": {},
   "source": [
    "<h3>Making Graphs</h3>"
   ]
  },
  {
   "cell_type": "code",
   "execution_count": 58,
   "metadata": {},
   "outputs": [],
   "source": [
    "t_likes = pd.Series(data=data['Likes'].values, index=data['Date'])"
   ]
  },
  {
   "cell_type": "code",
   "execution_count": 59,
   "metadata": {},
   "outputs": [],
   "source": [
    "t_retweets = pd.Series(data=data['RTs'].values, index=data['Date'])"
   ]
  },
  {
   "cell_type": "code",
   "execution_count": 60,
   "metadata": {},
   "outputs": [
    {
     "data": {
      "image/png": "[encoded data removed]",
      "text/plain": [
       "<Figure size 864x432 with 1 Axes>"
      ]
     },
     "metadata": {},
     "output_type": "display_data"
    }
   ],
   "source": [
    "t_likes.plot(title='Donald Trump',\n",
    "             figsize=(12,6),\n",
    "             legend=True,\n",
    "             label='Likes');\n",
    "t_retweets.plot(legend=True,label='Retweets');"
   ]
  },
  {
   "cell_type": "markdown",
   "metadata": {},
   "source": [
    "<h3>Sentiment Analysis of the Tweets</h3>"
   ]
  },
  {
   "cell_type": "code",
   "execution_count": 61,
   "metadata": {},
   "outputs": [],
   "source": [
    "from textblob import TextBlob\n",
    "import re"
   ]
  },
  {
   "cell_type": "markdown",
   "metadata": {},
   "source": [
    "Define 2 different utility functions"
   ]
  },
  {
   "cell_type": "code",
   "execution_count": 62,
   "metadata": {},
   "outputs": [],
   "source": [
    "def clean_tweet(tweet):\n",
    "    '''\n",
    "    Utility function to clean the text in a tweet by removing \n",
    "    links and special characters using regex.\n",
    "    '''\n",
    "    return ' '.join(re.sub(\"(@[A-Za-z0-9]+)|([^0-9A-Za-z \\t])|(\\w+:\\/\\/\\S+)\", \" \", tweet).split())\n",
    "\n",
    "def analyze_sentiment(tweet):\n",
    "    '''\n",
    "    Utility function to classify the polarity of a tweet\n",
    "    using textblob.\n",
    "    '''\n",
    "    #analysis = TextBlob(clean_tweet(tweet))\n",
    "    analysis = TextBlob(tweet)\n",
    "    if analysis.sentiment.polarity > 0:\n",
    "        return 1\n",
    "    elif analysis.sentiment.polarity == 0:\n",
    "        return 0\n",
    "    else:\n",
    "        return -1"
   ]
  },
  {
   "cell_type": "code",
   "execution_count": 63,
   "metadata": {},
   "outputs": [],
   "source": [
    "x  = [ analyze_sentiment(tweet) for tweet in data['Tweets'] ]"
   ]
  },
  {
   "cell_type": "code",
   "execution_count": 64,
   "metadata": {},
   "outputs": [],
   "source": [
    "data['SA'] = np.array(x)"
   ]
  },
  {
   "cell_type": "code",
   "execution_count": 65,
   "metadata": {},
   "outputs": [
    {
     "data": {
      "text/html": [
       "<div>\n",
       "<style scoped>\n",
       "    .dataframe tbody tr th:only-of-type {\n",
       "        vertical-align: middle;\n",
       "    }\n",
       "\n",
       "    .dataframe tbody tr th {\n",
       "        vertical-align: top;\n",
       "    }\n",
       "\n",
       "    .dataframe thead th {\n",
       "        text-align: right;\n",
       "    }\n",
       "</style>\n",
       "<table border=\"1\" class=\"dataframe\">\n",
       "  <thead>\n",
       "    <tr style=\"text-align: right;\">\n",
       "      <th></th>\n",
       "      <th>Tweets</th>\n",
       "      <th>len</th>\n",
       "      <th>ID</th>\n",
       "      <th>Date</th>\n",
       "      <th>Source</th>\n",
       "      <th>Likes</th>\n",
       "      <th>RTs</th>\n",
       "      <th>SA</th>\n",
       "    </tr>\n",
       "  </thead>\n",
       "  <tbody>\n",
       "    <tr>\n",
       "      <th>0</th>\n",
       "      <td>...House Republicans are showing real LEADERSH...</td>\n",
       "      <td>140</td>\n",
       "      <td>1197954044393861120</td>\n",
       "      <td>2019-11-22 19:04:35</td>\n",
       "      <td>Twitter for iPhone</td>\n",
       "      <td>17994</td>\n",
       "      <td>4997</td>\n",
       "      <td>1</td>\n",
       "    </tr>\n",
       "    <tr>\n",
       "      <th>1</th>\n",
       "      <td>...Pelosi and her Do Nothing Democrats drug pr...</td>\n",
       "      <td>139</td>\n",
       "      <td>1197954043420827648</td>\n",
       "      <td>2019-11-22 19:04:35</td>\n",
       "      <td>Twitter for iPhone</td>\n",
       "      <td>17002</td>\n",
       "      <td>4548</td>\n",
       "      <td>0</td>\n",
       "    </tr>\n",
       "    <tr>\n",
       "      <th>2</th>\n",
       "      <td>...While we had the first prescription drug pr...</td>\n",
       "      <td>139</td>\n",
       "      <td>1197954042342719488</td>\n",
       "      <td>2019-11-22 19:04:35</td>\n",
       "      <td>Twitter for iPhone</td>\n",
       "      <td>8013</td>\n",
       "      <td>2564</td>\n",
       "      <td>1</td>\n",
       "    </tr>\n",
       "    <tr>\n",
       "      <th>3</th>\n",
       "      <td>.@SecAzar and I will soon release a plan to le...</td>\n",
       "      <td>140</td>\n",
       "      <td>1197954041139146754</td>\n",
       "      <td>2019-11-22 19:04:34</td>\n",
       "      <td>Twitter for iPhone</td>\n",
       "      <td>27680</td>\n",
       "      <td>8086</td>\n",
       "      <td>1</td>\n",
       "    </tr>\n",
       "    <tr>\n",
       "      <th>4</th>\n",
       "      <td>Thank you to @senatemajldr Mitch McConnell and...</td>\n",
       "      <td>140</td>\n",
       "      <td>1197951285238083585</td>\n",
       "      <td>2019-11-22 18:53:37</td>\n",
       "      <td>Twitter for iPhone</td>\n",
       "      <td>30766</td>\n",
       "      <td>8151</td>\n",
       "      <td>1</td>\n",
       "    </tr>\n",
       "  </tbody>\n",
       "</table>\n",
       "</div>"
      ],
      "text/plain": [
       "                                              Tweets  len  \\\n",
       "0  ...House Republicans are showing real LEADERSH...  140   \n",
       "1  ...Pelosi and her Do Nothing Democrats drug pr...  139   \n",
       "2  ...While we had the first prescription drug pr...  139   \n",
       "3  .@SecAzar and I will soon release a plan to le...  140   \n",
       "4  Thank you to @senatemajldr Mitch McConnell and...  140   \n",
       "\n",
       "                    ID                Date              Source  Likes   RTs  \\\n",
       "0  1197954044393861120 2019-11-22 19:04:35  Twitter for iPhone  17994  4997   \n",
       "1  1197954043420827648 2019-11-22 19:04:35  Twitter for iPhone  17002  4548   \n",
       "2  1197954042342719488 2019-11-22 19:04:35  Twitter for iPhone   8013  2564   \n",
       "3  1197954041139146754 2019-11-22 19:04:34  Twitter for iPhone  27680  8086   \n",
       "4  1197951285238083585 2019-11-22 18:53:37  Twitter for iPhone  30766  8151   \n",
       "\n",
       "   SA  \n",
       "0   1  \n",
       "1   0  \n",
       "2   1  \n",
       "3   1  \n",
       "4   1  "
      ]
     },
     "execution_count": 65,
     "metadata": {},
     "output_type": "execute_result"
    }
   ],
   "source": [
    "data.sort_values(by='Date',ascending=False,inplace=True)\n",
    "data.head()"
   ]
  },
  {
   "cell_type": "markdown",
   "metadata": {},
   "source": [
    "The time has to be removed from the date"
   ]
  },
  {
   "cell_type": "code",
   "execution_count": 66,
   "metadata": {},
   "outputs": [],
   "source": [
    "data['Date']=data['Date'].apply(lambda x : pd.to_datetime(pd.to_datetime(x).strftime('%Y%m%d')))"
   ]
  },
  {
   "cell_type": "code",
   "execution_count": 67,
   "metadata": {},
   "outputs": [],
   "source": [
    "df = data.groupby('Date').sum()"
   ]
  },
  {
   "cell_type": "code",
   "execution_count": 68,
   "metadata": {},
   "outputs": [
    {
     "data": {
      "text/html": [
       "<div>\n",
       "<style scoped>\n",
       "    .dataframe tbody tr th:only-of-type {\n",
       "        vertical-align: middle;\n",
       "    }\n",
       "\n",
       "    .dataframe tbody tr th {\n",
       "        vertical-align: top;\n",
       "    }\n",
       "\n",
       "    .dataframe thead th {\n",
       "        text-align: right;\n",
       "    }\n",
       "</style>\n",
       "<table border=\"1\" class=\"dataframe\">\n",
       "  <thead>\n",
       "    <tr style=\"text-align: right;\">\n",
       "      <th></th>\n",
       "      <th>len</th>\n",
       "      <th>ID</th>\n",
       "      <th>Likes</th>\n",
       "      <th>RTs</th>\n",
       "      <th>SA</th>\n",
       "    </tr>\n",
       "    <tr>\n",
       "      <th>Date</th>\n",
       "      <th></th>\n",
       "      <th></th>\n",
       "      <th></th>\n",
       "      <th></th>\n",
       "      <th></th>\n",
       "    </tr>\n",
       "  </thead>\n",
       "  <tbody>\n",
       "    <tr>\n",
       "      <th>2019-11-16</th>\n",
       "      <td>169.0</td>\n",
       "      <td>2.391551e+18</td>\n",
       "      <td>51403.0</td>\n",
       "      <td>23114.0</td>\n",
       "      <td>1.0</td>\n",
       "    </tr>\n",
       "    <tr>\n",
       "      <th>2019-11-17</th>\n",
       "      <td>4186.0</td>\n",
       "      <td>5.860865e+19</td>\n",
       "      <td>1706173.0</td>\n",
       "      <td>675842.0</td>\n",
       "      <td>2.0</td>\n",
       "    </tr>\n",
       "    <tr>\n",
       "      <th>2019-11-18</th>\n",
       "      <td>1346.0</td>\n",
       "      <td>1.555356e+19</td>\n",
       "      <td>846866.0</td>\n",
       "      <td>248093.0</td>\n",
       "      <td>2.0</td>\n",
       "    </tr>\n",
       "    <tr>\n",
       "      <th>2019-11-19</th>\n",
       "      <td>4685.0</td>\n",
       "      <td>4.428296e+19</td>\n",
       "      <td>535406.0</td>\n",
       "      <td>513236.0</td>\n",
       "      <td>8.0</td>\n",
       "    </tr>\n",
       "    <tr>\n",
       "      <th>2019-11-20</th>\n",
       "      <td>4104.0</td>\n",
       "      <td>4.309765e+19</td>\n",
       "      <td>1278490.0</td>\n",
       "      <td>614829.0</td>\n",
       "      <td>2.0</td>\n",
       "    </tr>\n",
       "  </tbody>\n",
       "</table>\n",
       "</div>"
      ],
      "text/plain": [
       "               len            ID      Likes       RTs   SA\n",
       "Date                                                      \n",
       "2019-11-16   169.0  2.391551e+18    51403.0   23114.0  1.0\n",
       "2019-11-17  4186.0  5.860865e+19  1706173.0  675842.0  2.0\n",
       "2019-11-18  1346.0  1.555356e+19   846866.0  248093.0  2.0\n",
       "2019-11-19  4685.0  4.428296e+19   535406.0  513236.0  8.0\n",
       "2019-11-20  4104.0  4.309765e+19  1278490.0  614829.0  2.0"
      ]
     },
     "execution_count": 68,
     "metadata": {},
     "output_type": "execute_result"
    }
   ],
   "source": [
    "df.head()"
   ]
  },
  {
   "cell_type": "code",
   "execution_count": 69,
   "metadata": {},
   "outputs": [
    {
     "name": "stderr",
     "output_type": "stream",
     "text": [
      "/Users/jandespiegeleer/.pyenv/versions/3.6.5/envs/seminar/lib/python3.6/site-packages/ipykernel_launcher.py:1: FutureWarning: Currently, 'apply' passes the values as ndarrays to the applied function. In the future, this will change to passing it as Series objects. You need to specify 'raw=True' to keep the current behaviour, and you can pass 'raw=False' to silence this warning\n",
      "  \"\"\"Entry point for launching an IPython kernel.\n"
     ]
    }
   ],
   "source": [
    "df['mood']= df['SA'].rolling(window=5).apply(lambda x : np.sum(x))"
   ]
  },
  {
   "cell_type": "code",
   "execution_count": 70,
   "metadata": {},
   "outputs": [
    {
     "data": {
      "image/png": "[encoded data removed]",
      "text/plain": [
       "<Figure size 1008x576 with 1 Axes>"
      ]
     },
     "metadata": {},
     "output_type": "display_data"
    }
   ],
   "source": [
    "fig = plt.subplots(1,1,figsize=(14,8))\n",
    "plt.plot(df.index,df['mood'])\n",
    "plt.title('The Mood of the President',fontsize=14);"
   ]
  },
  {
   "cell_type": "code",
   "execution_count": 71,
   "metadata": {},
   "outputs": [],
   "source": [
    "pos_tweets = [ tweet for index,tweet in enumerate(data['Tweets']) if data['SA'][index] > 0]\n",
    "neu_tweets = [ tweet for index, tweet in enumerate(data['Tweets']) if data['SA'][index] == 0]\n",
    "neg_tweets = [ tweet for index, tweet in enumerate(data['Tweets']) if data['SA'][index] < 0]"
   ]
  },
  {
   "cell_type": "code",
   "execution_count": 72,
   "metadata": {},
   "outputs": [
    {
     "name": "stdout",
     "output_type": "stream",
     "text": [
      "63\n",
      "102\n",
      "35\n"
     ]
    }
   ],
   "source": [
    "print(len(pos_tweets))\n",
    "print(len(neu_tweets))\n",
    "print(len(neg_tweets))"
   ]
  },
  {
   "cell_type": "markdown",
   "metadata": {},
   "source": [
    "<h4>Most Liked positive tweet</h4>"
   ]
  },
  {
   "cell_type": "code",
   "execution_count": 73,
   "metadata": {},
   "outputs": [
    {
     "data": {
      "text/html": [
       "<div>\n",
       "<style scoped>\n",
       "    .dataframe tbody tr th:only-of-type {\n",
       "        vertical-align: middle;\n",
       "    }\n",
       "\n",
       "    .dataframe tbody tr th {\n",
       "        vertical-align: top;\n",
       "    }\n",
       "\n",
       "    .dataframe thead th {\n",
       "        text-align: right;\n",
       "    }\n",
       "</style>\n",
       "<table border=\"1\" class=\"dataframe\">\n",
       "  <thead>\n",
       "    <tr style=\"text-align: right;\">\n",
       "      <th></th>\n",
       "      <th>Tweets</th>\n",
       "      <th>len</th>\n",
       "      <th>ID</th>\n",
       "      <th>Date</th>\n",
       "      <th>Source</th>\n",
       "      <th>Likes</th>\n",
       "      <th>RTs</th>\n",
       "      <th>SA</th>\n",
       "    </tr>\n",
       "  </thead>\n",
       "  <tbody>\n",
       "    <tr>\n",
       "      <th>97</th>\n",
       "      <td>A great day for Republicans, a great day for o...</td>\n",
       "      <td>57</td>\n",
       "      <td>1196958035127783427</td>\n",
       "      <td>2019-11-20</td>\n",
       "      <td>Twitter for iPhone</td>\n",
       "      <td>159914</td>\n",
       "      <td>29064</td>\n",
       "      <td>1</td>\n",
       "    </tr>\n",
       "    <tr>\n",
       "      <th>64</th>\n",
       "      <td>Today I opened a major Apple Manufacturing pla...</td>\n",
       "      <td>140</td>\n",
       "      <td>1197293250115014656</td>\n",
       "      <td>2019-11-20</td>\n",
       "      <td>Twitter for iPhone</td>\n",
       "      <td>132883</td>\n",
       "      <td>33214</td>\n",
       "      <td>1</td>\n",
       "    </tr>\n",
       "    <tr>\n",
       "      <th>144</th>\n",
       "      <td>Never has the Republican Party been so united ...</td>\n",
       "      <td>140</td>\n",
       "      <td>1196405099741896705</td>\n",
       "      <td>2019-11-18</td>\n",
       "      <td>Twitter for iPhone</td>\n",
       "      <td>128948</td>\n",
       "      <td>30197</td>\n",
       "      <td>1</td>\n",
       "    </tr>\n",
       "    <tr>\n",
       "      <th>53</th>\n",
       "      <td>The Republican Party, and me, had a GREAT day ...</td>\n",
       "      <td>144</td>\n",
       "      <td>1197493067571486720</td>\n",
       "      <td>2019-11-21</td>\n",
       "      <td>Twitter for iPhone</td>\n",
       "      <td>114470</td>\n",
       "      <td>27301</td>\n",
       "      <td>1</td>\n",
       "    </tr>\n",
       "    <tr>\n",
       "      <th>41</th>\n",
       "      <td>I have been watching people making phone calls...</td>\n",
       "      <td>140</td>\n",
       "      <td>1197521967777222656</td>\n",
       "      <td>2019-11-21</td>\n",
       "      <td>Twitter for iPhone</td>\n",
       "      <td>109002</td>\n",
       "      <td>23842</td>\n",
       "      <td>1</td>\n",
       "    </tr>\n",
       "    <tr>\n",
       "      <th>182</th>\n",
       "      <td>Our great Farmers will recieve another major r...</td>\n",
       "      <td>139</td>\n",
       "      <td>1196097712925691906</td>\n",
       "      <td>2019-11-17</td>\n",
       "      <td>Twitter for iPhone</td>\n",
       "      <td>102376</td>\n",
       "      <td>25055</td>\n",
       "      <td>1</td>\n",
       "    </tr>\n",
       "    <tr>\n",
       "      <th>193</th>\n",
       "      <td>Visited a great family of a young man under ma...</td>\n",
       "      <td>140</td>\n",
       "      <td>1195931893998456832</td>\n",
       "      <td>2019-11-17</td>\n",
       "      <td>Twitter for iPhone</td>\n",
       "      <td>90023</td>\n",
       "      <td>17976</td>\n",
       "      <td>1</td>\n",
       "    </tr>\n",
       "    <tr>\n",
       "      <th>98</th>\n",
       "      <td>I agree, but in the end we will win and save o...</td>\n",
       "      <td>106</td>\n",
       "      <td>1196943910624538625</td>\n",
       "      <td>2019-11-20</td>\n",
       "      <td>Twitter for iPhone</td>\n",
       "      <td>82789</td>\n",
       "      <td>22345</td>\n",
       "      <td>1</td>\n",
       "    </tr>\n",
       "    <tr>\n",
       "      <th>187</th>\n",
       "      <td>A new Republican Star is born. Great going @El...</td>\n",
       "      <td>82</td>\n",
       "      <td>1196063349844430849</td>\n",
       "      <td>2019-11-17</td>\n",
       "      <td>Twitter for iPhone</td>\n",
       "      <td>79922</td>\n",
       "      <td>20285</td>\n",
       "      <td>1</td>\n",
       "    </tr>\n",
       "    <tr>\n",
       "      <th>38</th>\n",
       "      <td>Iran has become so unstable that the regime ha...</td>\n",
       "      <td>140</td>\n",
       "      <td>1197573996960727041</td>\n",
       "      <td>2019-11-21</td>\n",
       "      <td>Twitter for iPhone</td>\n",
       "      <td>79779</td>\n",
       "      <td>24005</td>\n",
       "      <td>1</td>\n",
       "    </tr>\n",
       "    <tr>\n",
       "      <th>135</th>\n",
       "      <td>At my meeting with Jay Powell this morning, I ...</td>\n",
       "      <td>140</td>\n",
       "      <td>1196632739266596865</td>\n",
       "      <td>2019-11-19</td>\n",
       "      <td>Twitter for iPhone</td>\n",
       "      <td>77020</td>\n",
       "      <td>18467</td>\n",
       "      <td>1</td>\n",
       "    </tr>\n",
       "    <tr>\n",
       "      <th>179</th>\n",
       "      <td>The Do Nothing Dems are now doing even less - ...</td>\n",
       "      <td>77</td>\n",
       "      <td>1196109916769005569</td>\n",
       "      <td>2019-11-17</td>\n",
       "      <td>Twitter for iPhone</td>\n",
       "      <td>76537</td>\n",
       "      <td>16179</td>\n",
       "      <td>1</td>\n",
       "    </tr>\n",
       "    <tr>\n",
       "      <th>141</th>\n",
       "      <td>Just finished a very good &amp;amp; cordial meetin...</td>\n",
       "      <td>144</td>\n",
       "      <td>1196458467982270464</td>\n",
       "      <td>2019-11-18</td>\n",
       "      <td>Twitter for iPhone</td>\n",
       "      <td>75828</td>\n",
       "      <td>17524</td>\n",
       "      <td>1</td>\n",
       "    </tr>\n",
       "    <tr>\n",
       "      <th>73</th>\n",
       "      <td>....”I WANT NOTHING! I WANT NOTHING! I WANT NO...</td>\n",
       "      <td>140</td>\n",
       "      <td>1197227388683206656</td>\n",
       "      <td>2019-11-20</td>\n",
       "      <td>Twitter for iPhone</td>\n",
       "      <td>73544</td>\n",
       "      <td>19601</td>\n",
       "      <td>1</td>\n",
       "    </tr>\n",
       "    <tr>\n",
       "      <th>60</th>\n",
       "      <td>“All four of Gordon Sondland’s lawyers are Dem...</td>\n",
       "      <td>121</td>\n",
       "      <td>1197321672841318400</td>\n",
       "      <td>2019-11-21</td>\n",
       "      <td>Twitter for iPhone</td>\n",
       "      <td>66041</td>\n",
       "      <td>17574</td>\n",
       "      <td>1</td>\n",
       "    </tr>\n",
       "    <tr>\n",
       "      <th>132</th>\n",
       "      <td>The Do Nothing Democrats have disgraced our gr...</td>\n",
       "      <td>82</td>\n",
       "      <td>1196634663743361025</td>\n",
       "      <td>2019-11-19</td>\n",
       "      <td>Twitter for iPhone</td>\n",
       "      <td>65724</td>\n",
       "      <td>19132</td>\n",
       "      <td>1</td>\n",
       "    </tr>\n",
       "    <tr>\n",
       "      <th>40</th>\n",
       "      <td>Ken Starr, Former Independent Counsel: “Does t...</td>\n",
       "      <td>140</td>\n",
       "      <td>1197534762669346820</td>\n",
       "      <td>2019-11-21</td>\n",
       "      <td>Twitter for iPhone</td>\n",
       "      <td>62322</td>\n",
       "      <td>17219</td>\n",
       "      <td>1</td>\n",
       "    </tr>\n",
       "    <tr>\n",
       "      <th>137</th>\n",
       "      <td>GREAT NEWS! #MAGA #KAG https://t.co/GXDE2IlGGu</td>\n",
       "      <td>46</td>\n",
       "      <td>1196540711086243841</td>\n",
       "      <td>2019-11-18</td>\n",
       "      <td>Twitter for iPhone</td>\n",
       "      <td>61012</td>\n",
       "      <td>16132</td>\n",
       "      <td>1</td>\n",
       "    </tr>\n",
       "    <tr>\n",
       "      <th>57</th>\n",
       "      <td>Poll: Trump leads top 2020 Democrats in Wiscon...</td>\n",
       "      <td>74</td>\n",
       "      <td>1197324462703538181</td>\n",
       "      <td>2019-11-21</td>\n",
       "      <td>Twitter for iPhone</td>\n",
       "      <td>57205</td>\n",
       "      <td>15272</td>\n",
       "      <td>1</td>\n",
       "    </tr>\n",
       "    <tr>\n",
       "      <th>54</th>\n",
       "      <td>During my visit yesterday to Austin, Texas, fo...</td>\n",
       "      <td>144</td>\n",
       "      <td>1197492772850348034</td>\n",
       "      <td>2019-11-21</td>\n",
       "      <td>Twitter for iPhone</td>\n",
       "      <td>53533</td>\n",
       "      <td>12673</td>\n",
       "      <td>1</td>\n",
       "    </tr>\n",
       "  </tbody>\n",
       "</table>\n",
       "</div>"
      ],
      "text/plain": [
       "                                                Tweets  len  \\\n",
       "97   A great day for Republicans, a great day for o...   57   \n",
       "64   Today I opened a major Apple Manufacturing pla...  140   \n",
       "144  Never has the Republican Party been so united ...  140   \n",
       "53   The Republican Party, and me, had a GREAT day ...  144   \n",
       "41   I have been watching people making phone calls...  140   \n",
       "182  Our great Farmers will recieve another major r...  139   \n",
       "193  Visited a great family of a young man under ma...  140   \n",
       "98   I agree, but in the end we will win and save o...  106   \n",
       "187  A new Republican Star is born. Great going @El...   82   \n",
       "38   Iran has become so unstable that the regime ha...  140   \n",
       "135  At my meeting with Jay Powell this morning, I ...  140   \n",
       "179  The Do Nothing Dems are now doing even less - ...   77   \n",
       "141  Just finished a very good &amp; cordial meetin...  144   \n",
       "73   ....”I WANT NOTHING! I WANT NOTHING! I WANT NO...  140   \n",
       "60   “All four of Gordon Sondland’s lawyers are Dem...  121   \n",
       "132  The Do Nothing Democrats have disgraced our gr...   82   \n",
       "40   Ken Starr, Former Independent Counsel: “Does t...  140   \n",
       "137     GREAT NEWS! #MAGA #KAG https://t.co/GXDE2IlGGu   46   \n",
       "57   Poll: Trump leads top 2020 Democrats in Wiscon...   74   \n",
       "54   During my visit yesterday to Austin, Texas, fo...  144   \n",
       "\n",
       "                      ID       Date              Source   Likes    RTs  SA  \n",
       "97   1196958035127783427 2019-11-20  Twitter for iPhone  159914  29064   1  \n",
       "64   1197293250115014656 2019-11-20  Twitter for iPhone  132883  33214   1  \n",
       "144  1196405099741896705 2019-11-18  Twitter for iPhone  128948  30197   1  \n",
       "53   1197493067571486720 2019-11-21  Twitter for iPhone  114470  27301   1  \n",
       "41   1197521967777222656 2019-11-21  Twitter for iPhone  109002  23842   1  \n",
       "182  1196097712925691906 2019-11-17  Twitter for iPhone  102376  25055   1  \n",
       "193  1195931893998456832 2019-11-17  Twitter for iPhone   90023  17976   1  \n",
       "98   1196943910624538625 2019-11-20  Twitter for iPhone   82789  22345   1  \n",
       "187  1196063349844430849 2019-11-17  Twitter for iPhone   79922  20285   1  \n",
       "38   1197573996960727041 2019-11-21  Twitter for iPhone   79779  24005   1  \n",
       "135  1196632739266596865 2019-11-19  Twitter for iPhone   77020  18467   1  \n",
       "179  1196109916769005569 2019-11-17  Twitter for iPhone   76537  16179   1  \n",
       "141  1196458467982270464 2019-11-18  Twitter for iPhone   75828  17524   1  \n",
       "73   1197227388683206656 2019-11-20  Twitter for iPhone   73544  19601   1  \n",
       "60   1197321672841318400 2019-11-21  Twitter for iPhone   66041  17574   1  \n",
       "132  1196634663743361025 2019-11-19  Twitter for iPhone   65724  19132   1  \n",
       "40   1197534762669346820 2019-11-21  Twitter for iPhone   62322  17219   1  \n",
       "137  1196540711086243841 2019-11-18  Twitter for iPhone   61012  16132   1  \n",
       "57   1197324462703538181 2019-11-21  Twitter for iPhone   57205  15272   1  \n",
       "54   1197492772850348034 2019-11-21  Twitter for iPhone   53533  12673   1  "
      ]
     },
     "execution_count": 73,
     "metadata": {},
     "output_type": "execute_result"
    }
   ],
   "source": [
    "df_positive = data[data['SA']>0].copy()\n",
    "df_positive.sort_values(by='Likes',ascending=False,inplace=True)\n",
    "df_positive.head(20)"
   ]
  },
  {
   "cell_type": "markdown",
   "metadata": {},
   "source": [
    "<b> What about the stock market </b>"
   ]
  },
  {
   "cell_type": "code",
   "execution_count": 74,
   "metadata": {},
   "outputs": [],
   "source": [
    "from googlefinance.client import get_price_data"
   ]
  },
  {
   "cell_type": "code",
   "execution_count": 75,
   "metadata": {},
   "outputs": [],
   "source": [
    "param_SPX = {'q': \".INX\",\"p\" : \"1Y\",'i': \"86400\"}"
   ]
  },
  {
   "cell_type": "code",
   "execution_count": 76,
   "metadata": {},
   "outputs": [
    {
     "data": {
      "text/html": [
       "<div>\n",
       "<style scoped>\n",
       "    .dataframe tbody tr th:only-of-type {\n",
       "        vertical-align: middle;\n",
       "    }\n",
       "\n",
       "    .dataframe tbody tr th {\n",
       "        vertical-align: top;\n",
       "    }\n",
       "\n",
       "    .dataframe thead th {\n",
       "        text-align: right;\n",
       "    }\n",
       "</style>\n",
       "<table border=\"1\" class=\"dataframe\">\n",
       "  <thead>\n",
       "    <tr style=\"text-align: right;\">\n",
       "      <th></th>\n",
       "      <th>Open</th>\n",
       "      <th>High</th>\n",
       "      <th>Low</th>\n",
       "      <th>Close</th>\n",
       "      <th>Volume</th>\n",
       "    </tr>\n",
       "  </thead>\n",
       "  <tbody>\n",
       "  </tbody>\n",
       "</table>\n",
       "</div>"
      ],
      "text/plain": [
       "Empty DataFrame\n",
       "Columns: [Open, High, Low, Close, Volume]\n",
       "Index: []"
      ]
     },
     "execution_count": 76,
     "metadata": {},
     "output_type": "execute_result"
    }
   ],
   "source": [
    "df_SPX = get_price_data(param_SPX)\n",
    "df_SPX.head()"
   ]
  },
  {
   "cell_type": "code",
   "execution_count": 77,
   "metadata": {},
   "outputs": [
    {
     "name": "stderr",
     "output_type": "stream",
     "text": [
      "/Users/jandespiegeleer/.pyenv/versions/3.6.5/envs/seminar/lib/python3.6/site-packages/ipykernel_launcher.py:3: FutureWarning: Sorting because non-concatenation axis is not aligned. A future version\n",
      "of pandas will change to not sort by default.\n",
      "\n",
      "To accept the future behavior, pass 'sort=True'.\n",
      "\n",
      "To retain the current behavior and silence the warning, pass sort=False\n",
      "\n",
      "  This is separate from the ipykernel package so we can avoid doing imports until\n"
     ]
    }
   ],
   "source": [
    "df_SPX.index = pd.to_datetime(df_SPX.index).strftime('%Y%m%d')\n",
    "df.index = pd.to_datetime(df.index).strftime('%Y%m%d')\n",
    "df_combination = pd.concat([df_SPX['Close'],df['mood']],axis=1)\n",
    "df_combination.dropna(how='any',inplace=True)"
   ]
  },
  {
   "cell_type": "code",
   "execution_count": 78,
   "metadata": {},
   "outputs": [
    {
     "ename": "IndexError",
     "evalue": "index 0 is out of bounds for axis 0 with size 0",
     "output_type": "error",
     "traceback": [
      "\u001b[0;31m---------------------------------------------------------------------------\u001b[0m",
      "\u001b[0;31mIndexError\u001b[0m                                Traceback (most recent call last)",
      "\u001b[0;32m<ipython-input-78-4ddfe93c3840>\u001b[0m in \u001b[0;36m<module>\u001b[0;34m()\u001b[0m\n\u001b[0;32m----> 1\u001b[0;31m \u001b[0mdf_combination\u001b[0m\u001b[0;34m[\u001b[0m\u001b[0;34m'mood'\u001b[0m\u001b[0;34m]\u001b[0m\u001b[0;34m=\u001b[0m \u001b[0;36m100\u001b[0m\u001b[0;34m*\u001b[0m\u001b[0mdf_combination\u001b[0m\u001b[0;34m[\u001b[0m\u001b[0;34m'mood'\u001b[0m\u001b[0;34m]\u001b[0m\u001b[0;34m/\u001b[0m\u001b[0mdf_combination\u001b[0m\u001b[0;34m[\u001b[0m\u001b[0;34m'mood'\u001b[0m\u001b[0;34m]\u001b[0m\u001b[0;34m.\u001b[0m\u001b[0mvalues\u001b[0m\u001b[0;34m[\u001b[0m\u001b[0;36m0\u001b[0m\u001b[0;34m]\u001b[0m\u001b[0;34m\u001b[0m\u001b[0m\n\u001b[0m\u001b[1;32m      2\u001b[0m \u001b[0mdf_combination\u001b[0m\u001b[0;34m[\u001b[0m\u001b[0;34m'Close'\u001b[0m\u001b[0;34m]\u001b[0m\u001b[0;34m=\u001b[0m \u001b[0;36m100\u001b[0m\u001b[0;34m*\u001b[0m\u001b[0mdf_combination\u001b[0m\u001b[0;34m[\u001b[0m\u001b[0;34m'Close'\u001b[0m\u001b[0;34m]\u001b[0m\u001b[0;34m/\u001b[0m\u001b[0mdf_combination\u001b[0m\u001b[0;34m[\u001b[0m\u001b[0;34m'Close'\u001b[0m\u001b[0;34m]\u001b[0m\u001b[0;34m.\u001b[0m\u001b[0mvalues\u001b[0m\u001b[0;34m[\u001b[0m\u001b[0;36m0\u001b[0m\u001b[0;34m]\u001b[0m\u001b[0;34m\u001b[0m\u001b[0m\n",
      "\u001b[0;31mIndexError\u001b[0m: index 0 is out of bounds for axis 0 with size 0"
     ]
    }
   ],
   "source": [
    "df_combination['mood']= 100*df_combination['mood']/df_combination['mood'].values[0]\n",
    "df_combination['Close']= 100*df_combination['Close']/df_combination['Close'].values[0]"
   ]
  },
  {
   "cell_type": "code",
   "execution_count": null,
   "metadata": {},
   "outputs": [],
   "source": [
    "fig, ax = plt.subplots(2,1,figsize=(15,10),sharex=True)\n",
    "ax[0].plot(df_combination.index,df_combination['mood'])\n",
    "ax[0].set_title('Mood of the President')\n",
    "ax[1].plot(df_combination.index,df_combination['Close'])\n",
    "ax[1].set_title('S&P 500');"
   ]
  },
  {
   "cell_type": "code",
   "execution_count": null,
   "metadata": {},
   "outputs": [],
   "source": []
  }
 ],
 "metadata": {
  "anaconda-cloud": {},
  "kernelspec": {
   "display_name": "Python 3",
   "language": "python",
   "name": "python3"
  },
  "language_info": {
   "codemirror_mode": {
    "name": "ipython",
    "version": 3
   },
   "file_extension": ".py",
   "mimetype": "text/x-python",
   "name": "python",
   "nbconvert_exporter": "python",
   "pygments_lexer": "ipython3",
   "version": "3.6.5"
  },
  "toc": {
   "base_numbering": 1,
   "nav_menu": {},
   "number_sections": true,
   "sideBar": true,
   "skip_h1_title": false,
   "title_cell": "Table of Contents",
   "title_sidebar": "Contents",
   "toc_cell": false,
   "toc_position": {},
   "toc_section_display": true,
   "toc_window_display": false
  },
  "varInspector": {
   "cols": {
    "lenName": 16,
    "lenType": 16,
    "lenVar": 40
   },
   "kernels_config": {
    "python": {
     "delete_cmd_postfix": "",
     "delete_cmd_prefix": "del ",
     "library": "var_list.py",
     "varRefreshCmd": "print(var_dic_list())"
    },
    "r": {
     "delete_cmd_postfix": ") ",
     "delete_cmd_prefix": "rm(",
     "library": "var_list.r",
     "varRefreshCmd": "cat(var_dic_list()) "
    }
   },
   "types_to_exclude": [
    "module",
    "function",
    "builtin_function_or_method",
    "instance",
    "_Feature"
   ],
   "window_display": false
  }
 },
 "nbformat": 4,
 "nbformat_minor": 2
}
