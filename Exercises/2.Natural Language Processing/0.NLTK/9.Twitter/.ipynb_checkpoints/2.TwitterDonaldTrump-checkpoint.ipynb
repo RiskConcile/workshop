{
 "cells": [
  {
   "cell_type": "code",
   "execution_count": 1,
   "metadata": {},
   "outputs": [
    {
     "name": "stdout",
     "output_type": "stream",
     "text": [
      "my API Connected !\n"
     ]
    }
   ],
   "source": [
    "%run connect_twitter.ipynb"
   ]
  },
  {
   "cell_type": "code",
   "execution_count": 2,
   "metadata": {},
   "outputs": [],
   "source": [
    "import pandas as pd\n",
    "import numpy as np\n",
    "import seaborn as sns\n",
    "import matplotlib.pyplot as plt\n",
    "%matplotlib inline"
   ]
  },
  {
   "cell_type": "markdown",
   "metadata": {},
   "source": [
    "<h3>Gathering Data</h3><br>\n",
    "Find 200 most recent tweets fom user @realDonaldTrump:"
   ]
  },
  {
   "cell_type": "code",
   "execution_count": 3,
   "metadata": {},
   "outputs": [],
   "source": [
    "name = '@realDonaldTrump'\n",
    "nbr_tweets = 200\n",
    "results = myapi.user_timeline(id=name, count=nbr_tweets)"
   ]
  },
  {
   "cell_type": "code",
   "execution_count": 5,
   "metadata": {},
   "outputs": [
    {
     "data": {
      "text/plain": [
       "tweepy.models.ResultSet"
      ]
     },
     "execution_count": 5,
     "metadata": {},
     "output_type": "execute_result"
    }
   ],
   "source": [
    "type(results)"
   ]
  },
  {
   "cell_type": "code",
   "execution_count": 6,
   "metadata": {},
   "outputs": [],
   "source": [
    "data=[tweet.text for tweet in results]\n"
   ]
  },
  {
   "cell_type": "markdown",
   "metadata": {},
   "source": [
    "Assemble the text into a dataframe"
   ]
  },
  {
   "cell_type": "code",
   "execution_count": 7,
   "metadata": {},
   "outputs": [],
   "source": [
    "data = pd.DataFrame(data=[tweet.text for tweet in results],\n",
    "                    columns=['Tweets'])"
   ]
  },
  {
   "cell_type": "code",
   "execution_count": 8,
   "metadata": {},
   "outputs": [
    {
     "data": {
      "text/html": [
       "<div>\n",
       "<style scoped>\n",
       "    .dataframe tbody tr th:only-of-type {\n",
       "        vertical-align: middle;\n",
       "    }\n",
       "\n",
       "    .dataframe tbody tr th {\n",
       "        vertical-align: top;\n",
       "    }\n",
       "\n",
       "    .dataframe thead th {\n",
       "        text-align: right;\n",
       "    }\n",
       "</style>\n",
       "<table border=\"1\" class=\"dataframe\">\n",
       "  <thead>\n",
       "    <tr style=\"text-align: right;\">\n",
       "      <th></th>\n",
       "      <th>Tweets</th>\n",
       "    </tr>\n",
       "  </thead>\n",
       "  <tbody>\n",
       "    <tr>\n",
       "      <th>0</th>\n",
       "      <td>...Follow the money! The spy was there early i...</td>\n",
       "    </tr>\n",
       "    <tr>\n",
       "      <th>1</th>\n",
       "      <td>If the person placed very early into my campai...</td>\n",
       "    </tr>\n",
       "    <tr>\n",
       "      <th>2</th>\n",
       "      <td>For the first time since Roe v. Wade, America ...</td>\n",
       "    </tr>\n",
       "    <tr>\n",
       "      <th>3</th>\n",
       "      <td>It was my honor to welcome @NASCAR Cup Series ...</td>\n",
       "    </tr>\n",
       "    <tr>\n",
       "      <th>4</th>\n",
       "      <td>Today, it was my great honor to welcome Presid...</td>\n",
       "    </tr>\n",
       "  </tbody>\n",
       "</table>\n",
       "</div>"
      ],
      "text/plain": [
       "                                              Tweets\n",
       "0  ...Follow the money! The spy was there early i...\n",
       "1  If the person placed very early into my campai...\n",
       "2  For the first time since Roe v. Wade, America ...\n",
       "3  It was my honor to welcome @NASCAR Cup Series ...\n",
       "4  Today, it was my great honor to welcome Presid..."
      ]
     },
     "execution_count": 8,
     "metadata": {},
     "output_type": "execute_result"
    }
   ],
   "source": [
    "data.head()"
   ]
  },
  {
   "cell_type": "markdown",
   "metadata": {},
   "source": [
    "The interesting part from here is the quantity of metadata contained in a single tweet. If we want to obtain data such as the creation date, or the source of creation, we can access the info with this attributes. An example is the following:"
   ]
  },
  {
   "cell_type": "code",
   "execution_count": 10,
   "metadata": {},
   "outputs": [
    {
     "name": "stdout",
     "output_type": "stream",
     "text": [
      "['__class__', '__delattr__', '__dict__', '__dir__', '__doc__', '__eq__', '__format__', '__ge__', '__getattribute__', '__getstate__', '__gt__', '__hash__', '__init__', '__init_subclass__', '__le__', '__lt__', '__module__', '__ne__', '__new__', '__reduce__', '__reduce_ex__', '__repr__', '__setattr__', '__sizeof__', '__str__', '__subclasshook__', '__weakref__', '_api', '_json', 'author', 'contributors', 'coordinates', 'created_at', 'destroy', 'entities', 'favorite', 'favorite_count', 'favorited', 'geo', 'id', 'id_str', 'in_reply_to_screen_name', 'in_reply_to_status_id', 'in_reply_to_status_id_str', 'in_reply_to_user_id', 'in_reply_to_user_id_str', 'is_quote_status', 'lang', 'parse', 'parse_list', 'place', 'retweet', 'retweet_count', 'retweeted', 'retweets', 'source', 'source_url', 'text', 'truncated', 'user']\n"
     ]
    }
   ],
   "source": [
    "print(dir(results[0]))"
   ]
  },
  {
   "cell_type": "markdown",
   "metadata": {},
   "source": [
    "Getting the meta data from the first tweet in the lsit"
   ]
  },
  {
   "cell_type": "code",
   "execution_count": 11,
   "metadata": {},
   "outputs": [
    {
     "name": "stdout",
     "output_type": "stream",
     "text": [
      "id: 999096013674680321\n",
      "created at: 2018-05-23 01:13:46\n",
      "source: Twitter for iPhone\n",
      "likes: 35754\n",
      "retweets: 11210\n",
      "geo-location: None\n",
      "message: ...Follow the money! The spy was there early in the campaign and yet never reported Collusion with Russia, because… https://t.co/gJGldziTWv\n"
     ]
    }
   ],
   "source": [
    "print('id:',results[0].id)\n",
    "print('created at:',results[0].created_at)\n",
    "print('source:',results[0].source)\n",
    "print('likes:',results[0].favorite_count)\n",
    "print('retweets:',results[0].retweet_count)\n",
    "print('geo-location:',results[0].geo)\n",
    "print('message:',results[0].text)"
   ]
  },
  {
   "cell_type": "markdown",
   "metadata": {},
   "source": [
    "<h4>Adding more data to the dataframe </h4>"
   ]
  },
  {
   "cell_type": "code",
   "execution_count": 12,
   "metadata": {},
   "outputs": [],
   "source": [
    "data['len']  = np.array([len(tweet.text) for tweet in results])\n",
    "data['ID']   = np.array([tweet.id for tweet in results])\n",
    "data['Date'] = np.array([tweet.created_at for tweet in results])\n",
    "data['Source'] = np.array([tweet.source for tweet in results])\n",
    "data['Likes']  = np.array([tweet.favorite_count for tweet in results])\n",
    "data['RTs']    = np.array([tweet.retweet_count for tweet in results])"
   ]
  },
  {
   "cell_type": "code",
   "execution_count": 13,
   "metadata": {},
   "outputs": [
    {
     "data": {
      "text/html": [
       "<div>\n",
       "<style scoped>\n",
       "    .dataframe tbody tr th:only-of-type {\n",
       "        vertical-align: middle;\n",
       "    }\n",
       "\n",
       "    .dataframe tbody tr th {\n",
       "        vertical-align: top;\n",
       "    }\n",
       "\n",
       "    .dataframe thead th {\n",
       "        text-align: right;\n",
       "    }\n",
       "</style>\n",
       "<table border=\"1\" class=\"dataframe\">\n",
       "  <thead>\n",
       "    <tr style=\"text-align: right;\">\n",
       "      <th></th>\n",
       "      <th>Tweets</th>\n",
       "      <th>len</th>\n",
       "      <th>ID</th>\n",
       "      <th>Date</th>\n",
       "      <th>Source</th>\n",
       "      <th>Likes</th>\n",
       "      <th>RTs</th>\n",
       "    </tr>\n",
       "  </thead>\n",
       "  <tbody>\n",
       "    <tr>\n",
       "      <th>0</th>\n",
       "      <td>...Follow the money! The spy was there early i...</td>\n",
       "      <td>139</td>\n",
       "      <td>999096013674680321</td>\n",
       "      <td>2018-05-23 01:13:46</td>\n",
       "      <td>Twitter for iPhone</td>\n",
       "      <td>35754</td>\n",
       "      <td>11210</td>\n",
       "    </tr>\n",
       "    <tr>\n",
       "      <th>1</th>\n",
       "      <td>If the person placed very early into my campai...</td>\n",
       "      <td>140</td>\n",
       "      <td>999096011174924289</td>\n",
       "      <td>2018-05-23 01:13:46</td>\n",
       "      <td>Twitter for iPhone</td>\n",
       "      <td>37530</td>\n",
       "      <td>11783</td>\n",
       "    </tr>\n",
       "    <tr>\n",
       "      <th>2</th>\n",
       "      <td>For the first time since Roe v. Wade, America ...</td>\n",
       "      <td>140</td>\n",
       "      <td>999087688983764992</td>\n",
       "      <td>2018-05-23 00:40:41</td>\n",
       "      <td>Twitter for iPhone</td>\n",
       "      <td>40277</td>\n",
       "      <td>10673</td>\n",
       "    </tr>\n",
       "    <tr>\n",
       "      <th>3</th>\n",
       "      <td>It was my honor to welcome @NASCAR Cup Series ...</td>\n",
       "      <td>137</td>\n",
       "      <td>999010902472122368</td>\n",
       "      <td>2018-05-22 19:35:34</td>\n",
       "      <td>Twitter for iPhone</td>\n",
       "      <td>40242</td>\n",
       "      <td>8100</td>\n",
       "    </tr>\n",
       "    <tr>\n",
       "      <th>4</th>\n",
       "      <td>Today, it was my great honor to welcome Presid...</td>\n",
       "      <td>134</td>\n",
       "      <td>998992271629570048</td>\n",
       "      <td>2018-05-22 18:21:32</td>\n",
       "      <td>Twitter for iPhone</td>\n",
       "      <td>50721</td>\n",
       "      <td>10753</td>\n",
       "    </tr>\n",
       "  </tbody>\n",
       "</table>\n",
       "</div>"
      ],
      "text/plain": [
       "                                              Tweets  len                  ID  \\\n",
       "0  ...Follow the money! The spy was there early i...  139  999096013674680321   \n",
       "1  If the person placed very early into my campai...  140  999096011174924289   \n",
       "2  For the first time since Roe v. Wade, America ...  140  999087688983764992   \n",
       "3  It was my honor to welcome @NASCAR Cup Series ...  137  999010902472122368   \n",
       "4  Today, it was my great honor to welcome Presid...  134  998992271629570048   \n",
       "\n",
       "                 Date              Source  Likes    RTs  \n",
       "0 2018-05-23 01:13:46  Twitter for iPhone  35754  11210  \n",
       "1 2018-05-23 01:13:46  Twitter for iPhone  37530  11783  \n",
       "2 2018-05-23 00:40:41  Twitter for iPhone  40277  10673  \n",
       "3 2018-05-22 19:35:34  Twitter for iPhone  40242   8100  \n",
       "4 2018-05-22 18:21:32  Twitter for iPhone  50721  10753  "
      ]
     },
     "execution_count": 13,
     "metadata": {},
     "output_type": "execute_result"
    }
   ],
   "source": [
    "data.head()"
   ]
  },
  {
   "cell_type": "markdown",
   "metadata": {},
   "source": [
    "<h3>Interpretation of the data</h3>"
   ]
  },
  {
   "cell_type": "code",
   "execution_count": 14,
   "metadata": {},
   "outputs": [],
   "source": [
    "likes_max = np.max(data['Likes'])\n",
    "retweet_max  = np.max(data['RTs'])"
   ]
  },
  {
   "cell_type": "code",
   "execution_count": 16,
   "metadata": {},
   "outputs": [],
   "source": [
    "likes = data[data['Likes'] == likes_max].index[0]\n",
    "retweets  = data[data.RTs == retweet_max].index[0]"
   ]
  },
  {
   "cell_type": "code",
   "execution_count": 17,
   "metadata": {},
   "outputs": [
    {
     "data": {
      "text/plain": [
       "190"
      ]
     },
     "execution_count": 17,
     "metadata": {},
     "output_type": "execute_result"
    }
   ],
   "source": [
    "retweets"
   ]
  },
  {
   "cell_type": "code",
   "execution_count": 18,
   "metadata": {},
   "outputs": [
    {
     "name": "stdout",
     "output_type": "stream",
     "text": [
      "The tweet with most likes is: \n",
      "Thank you Kanye, very cool! https://t.co/vRIC87M21X\n",
      "Number of likes: 361687\n",
      "51 characters.\n",
      "Tweeted at 2018-04-25 19:33:07\n"
     ]
    }
   ],
   "source": [
    "# Max FAVs:\n",
    "print(\"The tweet with most likes is: \\n{}\".format(data['Tweets'][likes]))\n",
    "print(\"Number of likes: {}\".format(likes_max))\n",
    "print(\"{} characters.\".format(data['len'][likes]))\n",
    "print(\"Tweeted at {s}\".format(s=data['Date'][likes]))"
   ]
  },
  {
   "cell_type": "code",
   "execution_count": 16,
   "metadata": {},
   "outputs": [
    {
     "data": {
      "text/html": [
       "<div>\n",
       "<style scoped>\n",
       "    .dataframe tbody tr th:only-of-type {\n",
       "        vertical-align: middle;\n",
       "    }\n",
       "\n",
       "    .dataframe tbody tr th {\n",
       "        vertical-align: top;\n",
       "    }\n",
       "\n",
       "    .dataframe thead th {\n",
       "        text-align: right;\n",
       "    }\n",
       "</style>\n",
       "<table border=\"1\" class=\"dataframe\">\n",
       "  <thead>\n",
       "    <tr style=\"text-align: right;\">\n",
       "      <th></th>\n",
       "      <th>Tweets</th>\n",
       "      <th>len</th>\n",
       "      <th>ID</th>\n",
       "      <th>Date</th>\n",
       "      <th>Source</th>\n",
       "      <th>Likes</th>\n",
       "      <th>RTs</th>\n",
       "    </tr>\n",
       "  </thead>\n",
       "  <tbody>\n",
       "    <tr>\n",
       "      <th>185</th>\n",
       "      <td>Thank you Kanye, very cool! https://t.co/vRIC8...</td>\n",
       "      <td>51</td>\n",
       "      <td>989225812166696960</td>\n",
       "      <td>2018-04-25 19:33:07</td>\n",
       "      <td>Twitter for iPhone</td>\n",
       "      <td>361736</td>\n",
       "      <td>108137</td>\n",
       "    </tr>\n",
       "    <tr>\n",
       "      <th>83</th>\n",
       "      <td>Five Most Wanted leaders of ISIS just captured!</td>\n",
       "      <td>47</td>\n",
       "      <td>994586105822564353</td>\n",
       "      <td>2018-05-10 14:33:00</td>\n",
       "      <td>Twitter for iPhone</td>\n",
       "      <td>301804</td>\n",
       "      <td>68903</td>\n",
       "    </tr>\n",
       "    <tr>\n",
       "      <th>82</th>\n",
       "      <td>The highly anticipated meeting between Kim Jon...</td>\n",
       "      <td>140</td>\n",
       "      <td>994587349718847489</td>\n",
       "      <td>2018-05-10 14:37:57</td>\n",
       "      <td>Twitter for iPhone</td>\n",
       "      <td>237822</td>\n",
       "      <td>62960</td>\n",
       "    </tr>\n",
       "    <tr>\n",
       "      <th>184</th>\n",
       "      <td>MAGA! https://t.co/jFf5ONASlv</td>\n",
       "      <td>29</td>\n",
       "      <td>989252420294336512</td>\n",
       "      <td>2018-04-25 21:18:51</td>\n",
       "      <td>Twitter for iPhone</td>\n",
       "      <td>233292</td>\n",
       "      <td>60118</td>\n",
       "    </tr>\n",
       "  </tbody>\n",
       "</table>\n",
       "</div>"
      ],
      "text/plain": [
       "                                                Tweets  len  \\\n",
       "185  Thank you Kanye, very cool! https://t.co/vRIC8...   51   \n",
       "83     Five Most Wanted leaders of ISIS just captured!   47   \n",
       "82   The highly anticipated meeting between Kim Jon...  140   \n",
       "184                      MAGA! https://t.co/jFf5ONASlv   29   \n",
       "\n",
       "                     ID                Date              Source   Likes  \\\n",
       "185  989225812166696960 2018-04-25 19:33:07  Twitter for iPhone  361736   \n",
       "83   994586105822564353 2018-05-10 14:33:00  Twitter for iPhone  301804   \n",
       "82   994587349718847489 2018-05-10 14:37:57  Twitter for iPhone  237822   \n",
       "184  989252420294336512 2018-04-25 21:18:51  Twitter for iPhone  233292   \n",
       "\n",
       "        RTs  \n",
       "185  108137  \n",
       "83    68903  \n",
       "82    62960  \n",
       "184   60118  "
      ]
     },
     "execution_count": 16,
     "metadata": {},
     "output_type": "execute_result"
    }
   ],
   "source": [
    "data.sort_values(by='Likes',ascending=False).head(4)"
   ]
  },
  {
   "cell_type": "markdown",
   "metadata": {},
   "source": [
    "<h3>Making Graphs</h3>"
   ]
  },
  {
   "cell_type": "code",
   "execution_count": 19,
   "metadata": {},
   "outputs": [],
   "source": [
    "t_likes = pd.Series(data=data['Likes'].values, index=data['Date'])"
   ]
  },
  {
   "cell_type": "code",
   "execution_count": 20,
   "metadata": {},
   "outputs": [],
   "source": [
    "t_retweets = pd.Series(data=data['RTs'].values, index=data['Date'])"
   ]
  },
  {
   "cell_type": "code",
   "execution_count": 22,
   "metadata": {},
   "outputs": [
    {
     "data": {
      "image/png": "[encoded data removed]",
      "text/plain": [
       "<matplotlib.figure.Figure at 0x1a11f50a20>"
      ]
     },
     "metadata": {},
     "output_type": "display_data"
    }
   ],
   "source": [
    "t_likes.plot(title='Donald Trump',\n",
    "             figsize=(12,6),\n",
    "             legend=True,\n",
    "             label='Likes');\n",
    "t_retweets.plot(legend=True,label='Retweets');"
   ]
  },
  {
   "cell_type": "markdown",
   "metadata": {},
   "source": [
    "<h3>Sentiment Analysis of the Tweets</h3>"
   ]
  },
  {
   "cell_type": "code",
   "execution_count": 25,
   "metadata": {},
   "outputs": [],
   "source": [
    "from textblob import TextBlob\n",
    "import re"
   ]
  },
  {
   "cell_type": "markdown",
   "metadata": {},
   "source": [
    "Define 2 different utility functions"
   ]
  },
  {
   "cell_type": "code",
   "execution_count": 26,
   "metadata": {},
   "outputs": [],
   "source": [
    "def clean_tweet(tweet):\n",
    "    '''\n",
    "    Utility function to clean the text in a tweet by removing \n",
    "    links and special characters using regex.\n",
    "    '''\n",
    "    return ' '.join(re.sub(\"(@[A-Za-z0-9]+)|([^0-9A-Za-z \\t])|(\\w+:\\/\\/\\S+)\", \" \", tweet).split())\n",
    "\n",
    "def analyze_sentiment(tweet):\n",
    "    '''\n",
    "    Utility function to classify the polarity of a tweet\n",
    "    using textblob.\n",
    "    '''\n",
    "    #analysis = TextBlob(clean_tweet(tweet))\n",
    "    analysis = TextBlob(tweet)\n",
    "    if analysis.sentiment.polarity > 0:\n",
    "        return 1\n",
    "    elif analysis.sentiment.polarity == 0:\n",
    "        return 0\n",
    "    else:\n",
    "        return -1"
   ]
  },
  {
   "cell_type": "code",
   "execution_count": 27,
   "metadata": {},
   "outputs": [],
   "source": [
    "x  = [ analyze_sentiment(tweet) for tweet in data['Tweets'] ]"
   ]
  },
  {
   "cell_type": "code",
   "execution_count": 28,
   "metadata": {},
   "outputs": [],
   "source": [
    "data['SA'] = np.array(x)"
   ]
  },
  {
   "cell_type": "code",
   "execution_count": 29,
   "metadata": {},
   "outputs": [
    {
     "data": {
      "text/html": [
       "<div>\n",
       "<style scoped>\n",
       "    .dataframe tbody tr th:only-of-type {\n",
       "        vertical-align: middle;\n",
       "    }\n",
       "\n",
       "    .dataframe tbody tr th {\n",
       "        vertical-align: top;\n",
       "    }\n",
       "\n",
       "    .dataframe thead th {\n",
       "        text-align: right;\n",
       "    }\n",
       "</style>\n",
       "<table border=\"1\" class=\"dataframe\">\n",
       "  <thead>\n",
       "    <tr style=\"text-align: right;\">\n",
       "      <th></th>\n",
       "      <th>Tweets</th>\n",
       "      <th>len</th>\n",
       "      <th>ID</th>\n",
       "      <th>Date</th>\n",
       "      <th>Source</th>\n",
       "      <th>Likes</th>\n",
       "      <th>RTs</th>\n",
       "      <th>SA</th>\n",
       "    </tr>\n",
       "  </thead>\n",
       "  <tbody>\n",
       "    <tr>\n",
       "      <th>0</th>\n",
       "      <td>...Follow the money! The spy was there early i...</td>\n",
       "      <td>139</td>\n",
       "      <td>999096013674680321</td>\n",
       "      <td>2018-05-23 01:13:46</td>\n",
       "      <td>Twitter for iPhone</td>\n",
       "      <td>35754</td>\n",
       "      <td>11210</td>\n",
       "      <td>1</td>\n",
       "    </tr>\n",
       "    <tr>\n",
       "      <th>1</th>\n",
       "      <td>If the person placed very early into my campai...</td>\n",
       "      <td>140</td>\n",
       "      <td>999096011174924289</td>\n",
       "      <td>2018-05-23 01:13:46</td>\n",
       "      <td>Twitter for iPhone</td>\n",
       "      <td>37530</td>\n",
       "      <td>11783</td>\n",
       "      <td>-1</td>\n",
       "    </tr>\n",
       "    <tr>\n",
       "      <th>2</th>\n",
       "      <td>For the first time since Roe v. Wade, America ...</td>\n",
       "      <td>140</td>\n",
       "      <td>999087688983764992</td>\n",
       "      <td>2018-05-23 00:40:41</td>\n",
       "      <td>Twitter for iPhone</td>\n",
       "      <td>40277</td>\n",
       "      <td>10673</td>\n",
       "      <td>1</td>\n",
       "    </tr>\n",
       "    <tr>\n",
       "      <th>3</th>\n",
       "      <td>It was my honor to welcome @NASCAR Cup Series ...</td>\n",
       "      <td>137</td>\n",
       "      <td>999010902472122368</td>\n",
       "      <td>2018-05-22 19:35:34</td>\n",
       "      <td>Twitter for iPhone</td>\n",
       "      <td>40242</td>\n",
       "      <td>8100</td>\n",
       "      <td>1</td>\n",
       "    </tr>\n",
       "    <tr>\n",
       "      <th>4</th>\n",
       "      <td>Today, it was my great honor to welcome Presid...</td>\n",
       "      <td>134</td>\n",
       "      <td>998992271629570048</td>\n",
       "      <td>2018-05-22 18:21:32</td>\n",
       "      <td>Twitter for iPhone</td>\n",
       "      <td>50721</td>\n",
       "      <td>10753</td>\n",
       "      <td>1</td>\n",
       "    </tr>\n",
       "  </tbody>\n",
       "</table>\n",
       "</div>"
      ],
      "text/plain": [
       "                                              Tweets  len                  ID  \\\n",
       "0  ...Follow the money! The spy was there early i...  139  999096013674680321   \n",
       "1  If the person placed very early into my campai...  140  999096011174924289   \n",
       "2  For the first time since Roe v. Wade, America ...  140  999087688983764992   \n",
       "3  It was my honor to welcome @NASCAR Cup Series ...  137  999010902472122368   \n",
       "4  Today, it was my great honor to welcome Presid...  134  998992271629570048   \n",
       "\n",
       "                 Date              Source  Likes    RTs  SA  \n",
       "0 2018-05-23 01:13:46  Twitter for iPhone  35754  11210   1  \n",
       "1 2018-05-23 01:13:46  Twitter for iPhone  37530  11783  -1  \n",
       "2 2018-05-23 00:40:41  Twitter for iPhone  40277  10673   1  \n",
       "3 2018-05-22 19:35:34  Twitter for iPhone  40242   8100   1  \n",
       "4 2018-05-22 18:21:32  Twitter for iPhone  50721  10753   1  "
      ]
     },
     "execution_count": 29,
     "metadata": {},
     "output_type": "execute_result"
    }
   ],
   "source": [
    "data.sort_values(by='Date',ascending=False,inplace=True)\n",
    "data.head()"
   ]
  },
  {
   "cell_type": "markdown",
   "metadata": {},
   "source": [
    "The time has to be removed from the date"
   ]
  },
  {
   "cell_type": "code",
   "execution_count": 30,
   "metadata": {},
   "outputs": [],
   "source": [
    "data['Date']=data['Date'].apply(lambda x : pd.to_datetime(pd.to_datetime(x).strftime('%Y%m%d')))"
   ]
  },
  {
   "cell_type": "code",
   "execution_count": 31,
   "metadata": {},
   "outputs": [],
   "source": [
    "df = data.groupby('Date').sum()"
   ]
  },
  {
   "cell_type": "code",
   "execution_count": 32,
   "metadata": {},
   "outputs": [
    {
     "data": {
      "text/html": [
       "<div>\n",
       "<style scoped>\n",
       "    .dataframe tbody tr th:only-of-type {\n",
       "        vertical-align: middle;\n",
       "    }\n",
       "\n",
       "    .dataframe tbody tr th {\n",
       "        vertical-align: top;\n",
       "    }\n",
       "\n",
       "    .dataframe thead th {\n",
       "        text-align: right;\n",
       "    }\n",
       "</style>\n",
       "<table border=\"1\" class=\"dataframe\">\n",
       "  <thead>\n",
       "    <tr style=\"text-align: right;\">\n",
       "      <th></th>\n",
       "      <th>len</th>\n",
       "      <th>ID</th>\n",
       "      <th>Likes</th>\n",
       "      <th>RTs</th>\n",
       "      <th>SA</th>\n",
       "    </tr>\n",
       "    <tr>\n",
       "      <th>Date</th>\n",
       "      <th></th>\n",
       "      <th></th>\n",
       "      <th></th>\n",
       "      <th></th>\n",
       "      <th></th>\n",
       "    </tr>\n",
       "  </thead>\n",
       "  <tbody>\n",
       "    <tr>\n",
       "      <th>2018-04-24</th>\n",
       "      <td>537.0</td>\n",
       "      <td>3.955442e+18</td>\n",
       "      <td>258079.0</td>\n",
       "      <td>55152.0</td>\n",
       "      <td>2.0</td>\n",
       "    </tr>\n",
       "    <tr>\n",
       "      <th>2018-04-25</th>\n",
       "      <td>778.0</td>\n",
       "      <td>6.924230e+18</td>\n",
       "      <td>959102.0</td>\n",
       "      <td>263896.0</td>\n",
       "      <td>6.0</td>\n",
       "    </tr>\n",
       "    <tr>\n",
       "      <th>2018-04-26</th>\n",
       "      <td>198.0</td>\n",
       "      <td>1.979280e+18</td>\n",
       "      <td>181491.0</td>\n",
       "      <td>34037.0</td>\n",
       "      <td>2.0</td>\n",
       "    </tr>\n",
       "    <tr>\n",
       "      <th>2018-04-27</th>\n",
       "      <td>1525.0</td>\n",
       "      <td>1.088855e+19</td>\n",
       "      <td>928447.0</td>\n",
       "      <td>233904.0</td>\n",
       "      <td>3.0</td>\n",
       "    </tr>\n",
       "    <tr>\n",
       "      <th>2018-04-28</th>\n",
       "      <td>1038.0</td>\n",
       "      <td>7.921789e+18</td>\n",
       "      <td>767884.0</td>\n",
       "      <td>185814.0</td>\n",
       "      <td>1.0</td>\n",
       "    </tr>\n",
       "  </tbody>\n",
       "</table>\n",
       "</div>"
      ],
      "text/plain": [
       "               len            ID     Likes       RTs   SA\n",
       "Date                                                     \n",
       "2018-04-24   537.0  3.955442e+18  258079.0   55152.0  2.0\n",
       "2018-04-25   778.0  6.924230e+18  959102.0  263896.0  6.0\n",
       "2018-04-26   198.0  1.979280e+18  181491.0   34037.0  2.0\n",
       "2018-04-27  1525.0  1.088855e+19  928447.0  233904.0  3.0\n",
       "2018-04-28  1038.0  7.921789e+18  767884.0  185814.0  1.0"
      ]
     },
     "execution_count": 32,
     "metadata": {},
     "output_type": "execute_result"
    }
   ],
   "source": [
    "df.head()"
   ]
  },
  {
   "cell_type": "code",
   "execution_count": 34,
   "metadata": {},
   "outputs": [],
   "source": [
    "df['mood']= df['SA'].rolling(window=5).apply(lambda x : np.sum(x))"
   ]
  },
  {
   "cell_type": "code",
   "execution_count": 35,
   "metadata": {},
   "outputs": [
    {
     "data": {
      "image/png": "[encoded data removed]",
      "text/plain": [
       "<matplotlib.figure.Figure at 0x1a1d091240>"
      ]
     },
     "metadata": {},
     "output_type": "display_data"
    }
   ],
   "source": [
    "fig = plt.subplots(1,1,figsize=(14,8))\n",
    "plt.plot(df.index,df['mood'])\n",
    "plt.title('The Mood of the President',fontsize=14);"
   ]
  },
  {
   "cell_type": "code",
   "execution_count": 36,
   "metadata": {},
   "outputs": [],
   "source": [
    "pos_tweets = [ tweet for index,tweet in enumerate(data['Tweets']) if data['SA'][index] > 0]\n",
    "neu_tweets = [ tweet for index, tweet in enumerate(data['Tweets']) if data['SA'][index] == 0]\n",
    "neg_tweets = [ tweet for index, tweet in enumerate(data['Tweets']) if data['SA'][index] < 0]"
   ]
  },
  {
   "cell_type": "code",
   "execution_count": 37,
   "metadata": {},
   "outputs": [
    {
     "name": "stdout",
     "output_type": "stream",
     "text": [
      "106\n",
      "50\n",
      "44\n"
     ]
    }
   ],
   "source": [
    "print(len(pos_tweets))\n",
    "print(len(neu_tweets))\n",
    "print(len(neg_tweets))"
   ]
  },
  {
   "cell_type": "markdown",
   "metadata": {},
   "source": [
    "<h4>Most Liked positive tweet</h4>"
   ]
  },
  {
   "cell_type": "code",
   "execution_count": 40,
   "metadata": {},
   "outputs": [
    {
     "data": {
      "text/html": [
       "<div>\n",
       "<style scoped>\n",
       "    .dataframe tbody tr th:only-of-type {\n",
       "        vertical-align: middle;\n",
       "    }\n",
       "\n",
       "    .dataframe tbody tr th {\n",
       "        vertical-align: top;\n",
       "    }\n",
       "\n",
       "    .dataframe thead th {\n",
       "        text-align: right;\n",
       "    }\n",
       "</style>\n",
       "<table border=\"1\" class=\"dataframe\">\n",
       "  <thead>\n",
       "    <tr style=\"text-align: right;\">\n",
       "      <th></th>\n",
       "      <th>Tweets</th>\n",
       "      <th>len</th>\n",
       "      <th>ID</th>\n",
       "      <th>Date</th>\n",
       "      <th>Source</th>\n",
       "      <th>Likes</th>\n",
       "      <th>RTs</th>\n",
       "      <th>SA</th>\n",
       "    </tr>\n",
       "  </thead>\n",
       "  <tbody>\n",
       "    <tr>\n",
       "      <th>190</th>\n",
       "      <td>Thank you Kanye, very cool! https://t.co/vRIC8...</td>\n",
       "      <td>51</td>\n",
       "      <td>989225812166696960</td>\n",
       "      <td>2018-04-25</td>\n",
       "      <td>Twitter for iPhone</td>\n",
       "      <td>361687</td>\n",
       "      <td>108111</td>\n",
       "      <td>1</td>\n",
       "    </tr>\n",
       "    <tr>\n",
       "      <th>88</th>\n",
       "      <td>Five Most Wanted leaders of ISIS just captured!</td>\n",
       "      <td>47</td>\n",
       "      <td>994586105822564353</td>\n",
       "      <td>2018-05-10</td>\n",
       "      <td>Twitter for iPhone</td>\n",
       "      <td>301792</td>\n",
       "      <td>68883</td>\n",
       "      <td>1</td>\n",
       "    </tr>\n",
       "    <tr>\n",
       "      <th>87</th>\n",
       "      <td>The highly anticipated meeting between Kim Jon...</td>\n",
       "      <td>140</td>\n",
       "      <td>994587349718847489</td>\n",
       "      <td>2018-05-10</td>\n",
       "      <td>Twitter for iPhone</td>\n",
       "      <td>237819</td>\n",
       "      <td>62943</td>\n",
       "      <td>1</td>\n",
       "    </tr>\n",
       "    <tr>\n",
       "      <th>90</th>\n",
       "      <td>On behalf of the American people, WELCOME HOME...</td>\n",
       "      <td>71</td>\n",
       "      <td>994517833357946882</td>\n",
       "      <td>2018-05-10</td>\n",
       "      <td>Twitter for iPhone</td>\n",
       "      <td>190525</td>\n",
       "      <td>49892</td>\n",
       "      <td>1</td>\n",
       "    </tr>\n",
       "    <tr>\n",
       "      <th>95</th>\n",
       "      <td>I am pleased to inform you that Secretary of S...</td>\n",
       "      <td>140</td>\n",
       "      <td>994192995737096192</td>\n",
       "      <td>2018-05-09</td>\n",
       "      <td>Twitter for iPhone</td>\n",
       "      <td>168835</td>\n",
       "      <td>45134</td>\n",
       "      <td>1</td>\n",
       "    </tr>\n",
       "    <tr>\n",
       "      <th>65</th>\n",
       "      <td>Our great First Lady is doing really well. Wil...</td>\n",
       "      <td>123</td>\n",
       "      <td>996366330436648960</td>\n",
       "      <td>2018-05-15</td>\n",
       "      <td>Twitter for iPhone</td>\n",
       "      <td>159078</td>\n",
       "      <td>21194</td>\n",
       "      <td>1</td>\n",
       "    </tr>\n",
       "    <tr>\n",
       "      <th>25</th>\n",
       "      <td>Great to have our incredible First Lady back h...</td>\n",
       "      <td>140</td>\n",
       "      <td>997909163379449857</td>\n",
       "      <td>2018-05-19</td>\n",
       "      <td>Twitter for iPhone</td>\n",
       "      <td>157535</td>\n",
       "      <td>23547</td>\n",
       "      <td>1</td>\n",
       "    </tr>\n",
       "    <tr>\n",
       "      <th>68</th>\n",
       "      <td>Heading over to Walter Reed Medical Center to ...</td>\n",
       "      <td>140</td>\n",
       "      <td>996135379802755072</td>\n",
       "      <td>2018-05-14</td>\n",
       "      <td>Twitter for iPhone</td>\n",
       "      <td>149174</td>\n",
       "      <td>22781</td>\n",
       "      <td>1</td>\n",
       "    </tr>\n",
       "    <tr>\n",
       "      <th>181</th>\n",
       "      <td>Kanye West has performed a great service to th...</td>\n",
       "      <td>140</td>\n",
       "      <td>989854486310113282</td>\n",
       "      <td>2018-04-27</td>\n",
       "      <td>Twitter for iPhone</td>\n",
       "      <td>145801</td>\n",
       "      <td>34186</td>\n",
       "      <td>1</td>\n",
       "    </tr>\n",
       "    <tr>\n",
       "      <th>165</th>\n",
       "      <td>Just got recent Poll - much higher than Presid...</td>\n",
       "      <td>106</td>\n",
       "      <td>990559834020962304</td>\n",
       "      <td>2018-04-29</td>\n",
       "      <td>Twitter for iPhone</td>\n",
       "      <td>145466</td>\n",
       "      <td>26892</td>\n",
       "      <td>1</td>\n",
       "    </tr>\n",
       "    <tr>\n",
       "      <th>184</th>\n",
       "      <td>KOREAN WAR TO END! The United States, and all ...</td>\n",
       "      <td>125</td>\n",
       "      <td>989820401596366849</td>\n",
       "      <td>2018-04-27</td>\n",
       "      <td>Twitter for iPhone</td>\n",
       "      <td>134275</td>\n",
       "      <td>39108</td>\n",
       "      <td>1</td>\n",
       "    </tr>\n",
       "    <tr>\n",
       "      <th>78</th>\n",
       "      <td>Happy Mother’s Day!!! https://t.co/zw71dnT7TJ</td>\n",
       "      <td>45</td>\n",
       "      <td>995642096676671495</td>\n",
       "      <td>2018-05-13</td>\n",
       "      <td>Twitter for iPhone</td>\n",
       "      <td>131922</td>\n",
       "      <td>29996</td>\n",
       "      <td>1</td>\n",
       "    </tr>\n",
       "    <tr>\n",
       "      <th>48</th>\n",
       "      <td>Congratulations America, we are now into the s...</td>\n",
       "      <td>140</td>\n",
       "      <td>997076300476055552</td>\n",
       "      <td>2018-05-17</td>\n",
       "      <td>Twitter for iPhone</td>\n",
       "      <td>125023</td>\n",
       "      <td>30135</td>\n",
       "      <td>1</td>\n",
       "    </tr>\n",
       "    <tr>\n",
       "      <th>98</th>\n",
       "      <td>The Fake News is working overtime. Just report...</td>\n",
       "      <td>140</td>\n",
       "      <td>994179864436596736</td>\n",
       "      <td>2018-05-09</td>\n",
       "      <td>Twitter for iPhone</td>\n",
       "      <td>120207</td>\n",
       "      <td>27764</td>\n",
       "      <td>1</td>\n",
       "    </tr>\n",
       "    <tr>\n",
       "      <th>159</th>\n",
       "      <td>I recently had a terrific meeting with a bipar...</td>\n",
       "      <td>139</td>\n",
       "      <td>991028027785138177</td>\n",
       "      <td>2018-04-30</td>\n",
       "      <td>Twitter for iPhone</td>\n",
       "      <td>115426</td>\n",
       "      <td>27273</td>\n",
       "      <td>1</td>\n",
       "    </tr>\n",
       "    <tr>\n",
       "      <th>47</th>\n",
       "      <td>Wow, word seems to be coming out that the Obam...</td>\n",
       "      <td>140</td>\n",
       "      <td>997095653875617792</td>\n",
       "      <td>2018-05-17</td>\n",
       "      <td>Twitter for iPhone</td>\n",
       "      <td>113914</td>\n",
       "      <td>33808</td>\n",
       "      <td>1</td>\n",
       "    </tr>\n",
       "    <tr>\n",
       "      <th>195</th>\n",
       "      <td>Congratulations to Republican Debbie Lesko on ...</td>\n",
       "      <td>140</td>\n",
       "      <td>989110172495810560</td>\n",
       "      <td>2018-04-25</td>\n",
       "      <td>Twitter for iPhone</td>\n",
       "      <td>112364</td>\n",
       "      <td>23211</td>\n",
       "      <td>1</td>\n",
       "    </tr>\n",
       "    <tr>\n",
       "      <th>182</th>\n",
       "      <td>Please do not forget the great help that my go...</td>\n",
       "      <td>140</td>\n",
       "      <td>989834048796266498</td>\n",
       "      <td>2018-04-27</td>\n",
       "      <td>Twitter for iPhone</td>\n",
       "      <td>112330</td>\n",
       "      <td>24854</td>\n",
       "      <td>1</td>\n",
       "    </tr>\n",
       "    <tr>\n",
       "      <th>80</th>\n",
       "      <td>Iran’s Military Budget is up more than 40% sin...</td>\n",
       "      <td>140</td>\n",
       "      <td>995424104286179328</td>\n",
       "      <td>2018-05-12</td>\n",
       "      <td>Twitter for iPhone</td>\n",
       "      <td>111920</td>\n",
       "      <td>28069</td>\n",
       "      <td>1</td>\n",
       "    </tr>\n",
       "    <tr>\n",
       "      <th>130</th>\n",
       "      <td>Because Jobs in the U.S. are doing so well, Am...</td>\n",
       "      <td>113</td>\n",
       "      <td>992350362450518016</td>\n",
       "      <td>2018-05-04</td>\n",
       "      <td>Twitter for iPhone</td>\n",
       "      <td>111096</td>\n",
       "      <td>22653</td>\n",
       "      <td>1</td>\n",
       "    </tr>\n",
       "  </tbody>\n",
       "</table>\n",
       "</div>"
      ],
      "text/plain": [
       "                                                Tweets  len  \\\n",
       "190  Thank you Kanye, very cool! https://t.co/vRIC8...   51   \n",
       "88     Five Most Wanted leaders of ISIS just captured!   47   \n",
       "87   The highly anticipated meeting between Kim Jon...  140   \n",
       "90   On behalf of the American people, WELCOME HOME...   71   \n",
       "95   I am pleased to inform you that Secretary of S...  140   \n",
       "65   Our great First Lady is doing really well. Wil...  123   \n",
       "25   Great to have our incredible First Lady back h...  140   \n",
       "68   Heading over to Walter Reed Medical Center to ...  140   \n",
       "181  Kanye West has performed a great service to th...  140   \n",
       "165  Just got recent Poll - much higher than Presid...  106   \n",
       "184  KOREAN WAR TO END! The United States, and all ...  125   \n",
       "78       Happy Mother’s Day!!! https://t.co/zw71dnT7TJ   45   \n",
       "48   Congratulations America, we are now into the s...  140   \n",
       "98   The Fake News is working overtime. Just report...  140   \n",
       "159  I recently had a terrific meeting with a bipar...  139   \n",
       "47   Wow, word seems to be coming out that the Obam...  140   \n",
       "195  Congratulations to Republican Debbie Lesko on ...  140   \n",
       "182  Please do not forget the great help that my go...  140   \n",
       "80   Iran’s Military Budget is up more than 40% sin...  140   \n",
       "130  Because Jobs in the U.S. are doing so well, Am...  113   \n",
       "\n",
       "                     ID       Date              Source   Likes     RTs  SA  \n",
       "190  989225812166696960 2018-04-25  Twitter for iPhone  361687  108111   1  \n",
       "88   994586105822564353 2018-05-10  Twitter for iPhone  301792   68883   1  \n",
       "87   994587349718847489 2018-05-10  Twitter for iPhone  237819   62943   1  \n",
       "90   994517833357946882 2018-05-10  Twitter for iPhone  190525   49892   1  \n",
       "95   994192995737096192 2018-05-09  Twitter for iPhone  168835   45134   1  \n",
       "65   996366330436648960 2018-05-15  Twitter for iPhone  159078   21194   1  \n",
       "25   997909163379449857 2018-05-19  Twitter for iPhone  157535   23547   1  \n",
       "68   996135379802755072 2018-05-14  Twitter for iPhone  149174   22781   1  \n",
       "181  989854486310113282 2018-04-27  Twitter for iPhone  145801   34186   1  \n",
       "165  990559834020962304 2018-04-29  Twitter for iPhone  145466   26892   1  \n",
       "184  989820401596366849 2018-04-27  Twitter for iPhone  134275   39108   1  \n",
       "78   995642096676671495 2018-05-13  Twitter for iPhone  131922   29996   1  \n",
       "48   997076300476055552 2018-05-17  Twitter for iPhone  125023   30135   1  \n",
       "98   994179864436596736 2018-05-09  Twitter for iPhone  120207   27764   1  \n",
       "159  991028027785138177 2018-04-30  Twitter for iPhone  115426   27273   1  \n",
       "47   997095653875617792 2018-05-17  Twitter for iPhone  113914   33808   1  \n",
       "195  989110172495810560 2018-04-25  Twitter for iPhone  112364   23211   1  \n",
       "182  989834048796266498 2018-04-27  Twitter for iPhone  112330   24854   1  \n",
       "80   995424104286179328 2018-05-12  Twitter for iPhone  111920   28069   1  \n",
       "130  992350362450518016 2018-05-04  Twitter for iPhone  111096   22653   1  "
      ]
     },
     "execution_count": 40,
     "metadata": {},
     "output_type": "execute_result"
    }
   ],
   "source": [
    "df_positive = data[data['SA']>0].copy()\n",
    "df_positive.sort_values(by='Likes',ascending=False,inplace=True)\n",
    "df_positive.head(20)"
   ]
  },
  {
   "cell_type": "markdown",
   "metadata": {},
   "source": [
    "<b> What about the stock market </b>"
   ]
  },
  {
   "cell_type": "code",
   "execution_count": 41,
   "metadata": {},
   "outputs": [],
   "source": [
    "from googlefinance.client import get_price_data"
   ]
  },
  {
   "cell_type": "code",
   "execution_count": 42,
   "metadata": {},
   "outputs": [],
   "source": [
    "param_SPX = {'q': \".INX\",\"p\" : \"1Y\",'i': \"86400\"}"
   ]
  },
  {
   "cell_type": "code",
   "execution_count": 45,
   "metadata": {},
   "outputs": [
    {
     "data": {
      "text/html": [
       "<div>\n",
       "<style scoped>\n",
       "    .dataframe tbody tr th:only-of-type {\n",
       "        vertical-align: middle;\n",
       "    }\n",
       "\n",
       "    .dataframe tbody tr th {\n",
       "        vertical-align: top;\n",
       "    }\n",
       "\n",
       "    .dataframe thead th {\n",
       "        text-align: right;\n",
       "    }\n",
       "</style>\n",
       "<table border=\"1\" class=\"dataframe\">\n",
       "  <thead>\n",
       "    <tr style=\"text-align: right;\">\n",
       "      <th></th>\n",
       "      <th>Open</th>\n",
       "      <th>High</th>\n",
       "      <th>Low</th>\n",
       "      <th>Close</th>\n",
       "      <th>Volume</th>\n",
       "    </tr>\n",
       "  </thead>\n",
       "  <tbody>\n",
       "    <tr>\n",
       "      <th>2017-05-23 22:00:00</th>\n",
       "      <td>2397.04</td>\n",
       "      <td>2400.85</td>\n",
       "      <td>2393.88</td>\n",
       "      <td>2398.42</td>\n",
       "      <td>1770956038</td>\n",
       "    </tr>\n",
       "    <tr>\n",
       "      <th>2017-05-24 22:00:00</th>\n",
       "      <td>2401.41</td>\n",
       "      <td>2405.58</td>\n",
       "      <td>2397.99</td>\n",
       "      <td>2404.39</td>\n",
       "      <td>1797590258</td>\n",
       "    </tr>\n",
       "    <tr>\n",
       "      <th>2017-05-25 22:00:00</th>\n",
       "      <td>2409.54</td>\n",
       "      <td>2418.71</td>\n",
       "      <td>2408.01</td>\n",
       "      <td>2415.07</td>\n",
       "      <td>2010590494</td>\n",
       "    </tr>\n",
       "    <tr>\n",
       "      <th>2017-05-26 22:00:00</th>\n",
       "      <td>2414.50</td>\n",
       "      <td>2416.68</td>\n",
       "      <td>2412.20</td>\n",
       "      <td>2415.82</td>\n",
       "      <td>1524512471</td>\n",
       "    </tr>\n",
       "    <tr>\n",
       "      <th>2017-05-30 22:00:00</th>\n",
       "      <td>2411.67</td>\n",
       "      <td>2415.26</td>\n",
       "      <td>2409.43</td>\n",
       "      <td>2412.91</td>\n",
       "      <td>1776698945</td>\n",
       "    </tr>\n",
       "  </tbody>\n",
       "</table>\n",
       "</div>"
      ],
      "text/plain": [
       "                        Open     High      Low    Close      Volume\n",
       "2017-05-23 22:00:00  2397.04  2400.85  2393.88  2398.42  1770956038\n",
       "2017-05-24 22:00:00  2401.41  2405.58  2397.99  2404.39  1797590258\n",
       "2017-05-25 22:00:00  2409.54  2418.71  2408.01  2415.07  2010590494\n",
       "2017-05-26 22:00:00  2414.50  2416.68  2412.20  2415.82  1524512471\n",
       "2017-05-30 22:00:00  2411.67  2415.26  2409.43  2412.91  1776698945"
      ]
     },
     "execution_count": 45,
     "metadata": {},
     "output_type": "execute_result"
    }
   ],
   "source": [
    "df_SPX = get_price_data(param_SPX)\n",
    "df_SPX.head()"
   ]
  },
  {
   "cell_type": "code",
   "execution_count": 47,
   "metadata": {},
   "outputs": [],
   "source": [
    "df_SPX.index = pd.to_datetime(df_SPX.index).strftime('%Y%m%d')\n",
    "df.index = pd.to_datetime(df.index).strftime('%Y%m%d')\n",
    "df_combination = pd.concat([df_SPX['Close'],df['mood']],axis=1)\n",
    "df_combination.dropna(how='any',inplace=True)"
   ]
  },
  {
   "cell_type": "code",
   "execution_count": 48,
   "metadata": {},
   "outputs": [],
   "source": [
    "df_combination['mood']= 100*df_combination['mood']/df_combination['mood'].values[0]\n",
    "df_combination['Close']= 100*df_combination['Close']/df_combination['Close'].values[0]"
   ]
  },
  {
   "cell_type": "code",
   "execution_count": 49,
   "metadata": {},
   "outputs": [
    {
     "data": {
      "image/png": "[encoded data removed]",
      "text/plain": [
       "<matplotlib.figure.Figure at 0x1a1d07fd68>"
      ]
     },
     "metadata": {},
     "output_type": "display_data"
    }
   ],
   "source": [
    "fig, ax = plt.subplots(2,1,figsize=(15,10),sharex=True)\n",
    "ax[0].plot(df_combination.index,df_combination['mood'])\n",
    "ax[0].set_title('Mood of the President')\n",
    "ax[1].plot(df_combination.index,df_combination['Close'])\n",
    "ax[1].set_title('S&P 500');"
   ]
  },
  {
   "cell_type": "code",
   "execution_count": null,
   "metadata": {},
   "outputs": [],
   "source": []
  }
 ],
 "metadata": {
  "anaconda-cloud": {},
  "kernelspec": {
   "display_name": "Python 3",
   "language": "python",
   "name": "python3"
  },
  "language_info": {
   "codemirror_mode": {
    "name": "ipython",
    "version": 3
   },
   "file_extension": ".py",
   "mimetype": "text/x-python",
   "name": "python",
   "nbconvert_exporter": "python",
   "pygments_lexer": "ipython3",
   "version": "3.6.5"
  }
 },
 "nbformat": 4,
 "nbformat_minor": 2
}
