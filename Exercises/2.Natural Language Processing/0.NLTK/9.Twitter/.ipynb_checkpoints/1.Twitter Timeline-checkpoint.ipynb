{
 "cells": [
  {
   "cell_type": "code",
   "execution_count": 1,
   "metadata": {},
   "outputs": [
    {
     "name": "stdout",
     "output_type": "stream",
     "text": [
      "my API Connected !\n"
     ]
    }
   ],
   "source": [
    "%run connect_twitter.ipynb"
   ]
  },
  {
   "cell_type": "code",
   "execution_count": 2,
   "metadata": {},
   "outputs": [],
   "source": [
    "import tweepy\n",
    "import re\n",
    "import webbrowser"
   ]
  },
  {
   "cell_type": "markdown",
   "metadata": {},
   "source": [
    "Collecting the tweets. <br>\n",
    "By default 20 tweets are assembled from the time_line"
   ]
  },
  {
   "cell_type": "code",
   "execution_count": 3,
   "metadata": {},
   "outputs": [
    {
     "name": "stdout",
     "output_type": "stream",
     "text": [
      "nbr tweets: 19\n"
     ]
    }
   ],
   "source": [
    "public_tweets =  myapi.home_timeline()\n",
    "print('nbr tweets:',len(public_tweets[:]))"
   ]
  },
  {
   "cell_type": "markdown",
   "metadata": {},
   "source": [
    "Collecting URL adresses from the feed"
   ]
  },
  {
   "cell_type": "code",
   "execution_count": 4,
   "metadata": {
    "scrolled": true
   },
   "outputs": [
    {
     "name": "stdout",
     "output_type": "stream",
     "text": [
      "2018-05-23 (location:Brussel, België)\n",
      "Het napalmmeisje: \"Die foto was een geschenk\" https://t.co/XejDJBoH6p #vrtnws \n",
      "\n",
      "2018-05-23 (location:New York, NY)\n",
      "Paul Tweed made his name capitalizing on the favorable defamation and privacy laws of the British Isles in order to… https://t.co/fQhPypsCw2 \n",
      "\n",
      "2018-05-23 (location:New York, NY)\n",
      "RT @andypeaps: Trump isn’t playing his strong hand in China trade spat  https://t.co/YjppjFCg5r via @WSJ \n",
      "\n",
      "2018-05-23 (location:New York, NY)\n",
      "The share of the country defined as white and non-Hispanic is shrinking. The United States is expected to reach “mi… https://t.co/c1u269YqLe \n",
      "\n",
      "2018-05-23 (location:New York, NY)\n",
      "RT @saumvaish: Chinese tech unicorns are converting to this method to raise cash https://t.co/nRfmwNrKfg \n",
      "\n"
     ]
    }
   ],
   "source": [
    "\n",
    "url_list = []\n",
    "for tweet in public_tweets[0:5]:\n",
    "    print(tweet.created_at.strftime('%Y-%m-%d') + ' (location:' + tweet.user.location + ')')\n",
    "    print(tweet.text,'\\n')\n",
    "    url = re.findall('http[s]?://(?:[a-zA-Z]|[0-9]|[$-_@.&+]|[!*\\(\\),]|(?:%[0-9a-fA-F][0-9a-fA-F]))+', tweet.text)\n",
    "    if url!=[]:\n",
    "        url_list.append(url)"
   ]
  },
  {
   "cell_type": "code",
   "execution_count": 5,
   "metadata": {},
   "outputs": [
    {
     "data": {
      "text/plain": [
       "[['https://t.co/XejDJBoH6p'],\n",
       " ['https://t.co/fQhPypsCw2'],\n",
       " ['https://t.co/YjppjFCg5r'],\n",
       " ['https://t.co/c1u269YqLe'],\n",
       " ['https://t.co/nRfmwNrKfg']]"
      ]
     },
     "execution_count": 5,
     "metadata": {},
     "output_type": "execute_result"
    }
   ],
   "source": [
    "url_list"
   ]
  },
  {
   "cell_type": "markdown",
   "metadata": {},
   "source": [
    "Open up the first webpage in the list:"
   ]
  },
  {
   "cell_type": "code",
   "execution_count": 7,
   "metadata": {},
   "outputs": [
    {
     "data": {
      "text/plain": [
       "True"
      ]
     },
     "execution_count": 7,
     "metadata": {},
     "output_type": "execute_result"
    }
   ],
   "source": [
    "\n",
    "webbrowser.open(url_list[0][0])"
   ]
  }
 ],
 "metadata": {
  "anaconda-cloud": {},
  "kernelspec": {
   "display_name": "Python 3",
   "language": "python",
   "name": "python3"
  },
  "language_info": {
   "codemirror_mode": {
    "name": "ipython",
    "version": 3
   },
   "file_extension": ".py",
   "mimetype": "text/x-python",
   "name": "python",
   "nbconvert_exporter": "python",
   "pygments_lexer": "ipython3",
   "version": "3.6.4"
  }
 },
 "nbformat": 4,
 "nbformat_minor": 2
}
