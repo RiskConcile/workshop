{
 "cells": [
  {
   "cell_type": "code",
   "execution_count": 1,
   "metadata": {},
   "outputs": [
    {
     "name": "stdout",
     "output_type": "stream",
     "text": [
      "Connected !\n"
     ]
    }
   ],
   "source": [
    "%run connect_twitter.ipynb"
   ]
  },
  {
   "cell_type": "code",
   "execution_count": 9,
   "metadata": {},
   "outputs": [],
   "source": [
    "# Finding the tweets on a certain topic\n",
    "topic = \"Brexit\"\n",
    "language = \"en\"\n",
    "results = myapi.search(q=topic, lang=language,rpp=20)"
   ]
  },
  {
   "cell_type": "code",
   "execution_count": 10,
   "metadata": {},
   "outputs": [
    {
     "name": "stdout",
     "output_type": "stream",
     "text": [
      "2018-03-07 (location:)\n",
      "RT @ainemichellel: Forget 52%. The rise of the “Re-Leavers” mean the pro-Brexit electorate is 68% https://t.co/qth9HFwOO7\n",
      "2018-03-07 (location:UK (more of the time))\n",
      "RT @paulodonoghue93: Wow. This description of #Brexit by an Irish Times reader is one of the most cutting I've ever seen https://t.co/6ZdHC…\n",
      "2018-03-07 (location:)\n",
      "RT @Doozy_45: Lord 'Tarzan' Heseltine is spot on here.. We are the ones who have chose to leave, so why should the EU do us any favours! #B…\n",
      "2018-03-07 (location:London, England)\n",
      "RT @acgrayling: Brexit is the First World War all over again: a stupid, destructive, utterly unnecessary waste. Led by donkeys.\n",
      "But this ti…\n",
      "2018-03-07 (location:)\n",
      "There's a role for Pochettino at @DExEUgov that was a hard Brexit fam 😭😭😭😭\n",
      "2018-03-07 (location:)\n",
      "RT @naomi_long: My amendment to the NI (Misc Prov) Act means donor info from Jan 14 could be published. No excuse for Govt hiding a period…\n",
      "2018-03-07 (location:Halstead, Essex, UK)\n",
      "RT @GuitarMoog: “I fully understand &amp; respect Theresa May’s political objectives to demonstrate at any price that Brexit will be a success…\n",
      "2018-03-07 (location:Loose Stool, MS)\n",
      "London risks losing its role as banker to the world - https://t.co/RFPZK4qeTp via https://t.co/XcTmFZWud0\n",
      "2018-03-07 (location:)\n",
      "RT @Open_Britain: \"Everybody has to face up now to Brexit reality.\"\n",
      "\n",
      "MUST-WATCH: @Anna_Soubry slams the Gov for not facing up to the realit…\n",
      "2018-03-07 (location:UK)\n",
      "RT @SimonBruni: \"We knew we were voting to leave the Single Market and Customs Union,\" the Brexit fanatics say.\n",
      "\n",
      "Bullshit.\n",
      "\n",
      "Maybe YOU knew…\n",
      "2018-03-07 (location:Horsham, West Sussex)\n",
      "RT @2tweetaboutit: Andrew Neil brutally picks apart Labour MP @Debbie_abrahams 's attempt to explain Corbyn's Brexit policy  https://t.co/w…\n",
      "2018-03-07 (location:Wolverhampton )\n",
      "RT @LeaveEUOfficial: Remoaner O’Leary has threatened to ground Ryanair planes in a desperate attempt to blackmail Britain into reversing Br…\n",
      "2018-03-07 (location:)\n",
      "RT @WomaninHavana: Don’t worry if you don’t have time to catch up with Brexit news today. It’s only what’s been painfully predictable since…\n",
      "2018-03-07 (location:North East, England)\n",
      "RT @Harryslaststand: There still seems to be this delusional belief among certain Brexit supporters that  if we get rid of immigrants &amp; str…\n",
      "2018-03-07 (location:London, England)\n",
      "RT @darrengrimes_: Benn asks Jon Thompson, CEO of HMRC about the Irish border after a no deal Brexit: “We do not believe we require any inf…\n"
     ]
    }
   ],
   "source": [
    "# foreach through all tweets pulled\n",
    "for tweet in results:\n",
    "    print(tweet.created_at.strftime('%Y-%m-%d') + ' (location:' + tweet.user.location + ')')\n",
    "    print(tweet.text)"
   ]
  },
  {
   "cell_type": "code",
   "execution_count": 11,
   "metadata": {},
   "outputs": [
    {
     "data": {
      "text/plain": [
       "15"
      ]
     },
     "execution_count": 11,
     "metadata": {},
     "output_type": "execute_result"
    }
   ],
   "source": [
    "len(results)"
   ]
  },
  {
   "cell_type": "code",
   "execution_count": null,
   "metadata": {},
   "outputs": [],
   "source": []
  }
 ],
 "metadata": {
  "kernelspec": {
   "display_name": "Python [default]",
   "language": "python",
   "name": "python3"
  },
  "language_info": {
   "codemirror_mode": {
    "name": "ipython",
    "version": 3
   },
   "file_extension": ".py",
   "mimetype": "text/x-python",
   "name": "python",
   "nbconvert_exporter": "python",
   "pygments_lexer": "ipython3",
   "version": "3.5.2"
  }
 },
 "nbformat": 4,
 "nbformat_minor": 2
}
