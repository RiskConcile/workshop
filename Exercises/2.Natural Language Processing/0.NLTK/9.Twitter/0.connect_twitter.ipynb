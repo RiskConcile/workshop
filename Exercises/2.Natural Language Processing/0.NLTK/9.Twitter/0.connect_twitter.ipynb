{
 "cells": [
  {
   "cell_type": "code",
   "execution_count": 2,
   "metadata": {},
   "outputs": [],
   "source": [
    "import tweepy"
   ]
  },
  {
   "cell_type": "code",
   "execution_count": 4,
   "metadata": {},
   "outputs": [],
   "source": [
    "# Creating the authentication object\n",
    "#auth = tweepy.OAuthHandler(consumer_key, consumer_secret)\n",
    "\n",
    "# Setting your access token and secret\n",
    "#auth.set_access_token(access_token, access_token_secret)\n",
    "\n",
    "# Creating the API object while passing in auth information\n",
    "#myapi = tweepy.API(auth) "
   ]
  }
 ],
 "metadata": {
  "anaconda-cloud": {},
  "kernelspec": {
   "display_name": "Python 3",
   "language": "python",
   "name": "python3"
  },
  "language_info": {
   "codemirror_mode": {
    "name": "ipython",
    "version": 3
   },
   "file_extension": ".py",
   "mimetype": "text/x-python",
   "name": "python",
   "nbconvert_exporter": "python",
   "pygments_lexer": "ipython3",
   "version": "3.6.5"
  }
 },
 "nbformat": 4,
 "nbformat_minor": 2
}
