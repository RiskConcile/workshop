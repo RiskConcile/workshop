{
 "cells": [
  {
   "cell_type": "code",
   "execution_count": 17,
   "metadata": {},
   "outputs": [
    {
     "name": "stdout",
     "output_type": "stream",
     "text": [
      "my API Connected !\n"
     ]
    }
   ],
   "source": [
    "%run connect_twitter.ipynb"
   ]
  },
  {
   "cell_type": "code",
   "execution_count": 23,
   "metadata": {},
   "outputs": [],
   "source": [
    "places = myapi.geo_search(query=\"New York\", granularity=\"city\")"
   ]
  },
  {
   "cell_type": "markdown",
   "metadata": {},
   "source": [
    "There are many places referring to NY ! "
   ]
  },
  {
   "cell_type": "code",
   "execution_count": 24,
   "metadata": {},
   "outputs": [
    {
     "name": "stdout",
     "output_type": "stream",
     "text": [
      "New York, NY\n",
      "New York, USA\n",
      "West New York, NJ\n",
      "New Orleans, LA\n",
      "New York, England\n",
      "New Britain, CT\n",
      "New Rochelle, NY\n",
      "New Brunswick, NJ\n",
      "New Haven, CT\n",
      "New Hampshire, USA\n",
      "New Westminster, British Columbia\n",
      "New Castle, PA\n",
      "New London, CT\n",
      "New Albany, IN\n",
      "New Bedford, MA\n",
      "New Paltz, NY\n",
      "New Bern, NC\n",
      "New Braunfels, TX\n",
      "New City, NY\n",
      "New York Mills, NY\n"
     ]
    }
   ],
   "source": [
    "for p in places:\n",
    "    print(p.full_name)"
   ]
  },
  {
   "cell_type": "markdown",
   "metadata": {},
   "source": [
    "Lets pick the first one : New York, NY"
   ]
  },
  {
   "cell_type": "code",
   "execution_count": 20,
   "metadata": {},
   "outputs": [],
   "source": [
    "place_id = places[0].id"
   ]
  },
  {
   "cell_type": "code",
   "execution_count": 21,
   "metadata": {},
   "outputs": [
    {
     "name": "stdout",
     "output_type": "stream",
     "text": [
      "@thaiisluana @mstraccioni @gabriellymilani @filipemoro @joaobiduoficial Pé frio Pq? Pelo \"nosso barca? Tu eh bem fã… https://t.co/L9J9M1rqUB | (Henry Ribeiro)Rome\n",
      "@DavidOlivetti @pierpaolofarina @WikiMafia @giuliocavalli Li ho scritto sul Dubbio di domani | (PieroSansonetti)Rome\n",
      "@Fivepoundshake @sharan_khaira No we were eating antipasti in candle light. | (∆LEC)Rome\n"
     ]
    }
   ],
   "source": [
    "tweets = myapi.search(q=\"place:%s\" % place_id)\n",
    "for tweet in tweets:\n",
    "    print(tweet.text + \" | (\" + tweet.author.name+')'+ tweet.place.name if tweet.place else \"Undefined place\" +'\\n')"
   ]
  },
  {
   "cell_type": "code",
   "execution_count": 22,
   "metadata": {},
   "outputs": [
    {
     "data": {
      "text/plain": [
       "'România'"
      ]
     },
     "execution_count": 22,
     "metadata": {},
     "output_type": "execute_result"
    }
   ],
   "source": [
    "places[1].full_name"
   ]
  }
 ],
 "metadata": {
  "anaconda-cloud": {},
  "kernelspec": {
   "display_name": "Python [default]",
   "language": "python",
   "name": "python3"
  },
  "language_info": {
   "codemirror_mode": {
    "name": "ipython",
    "version": 3
   },
   "file_extension": ".py",
   "mimetype": "text/x-python",
   "name": "python",
   "nbconvert_exporter": "python",
   "pygments_lexer": "ipython3",
   "version": "3.5.2"
  }
 },
 "nbformat": 4,
 "nbformat_minor": 2
}
