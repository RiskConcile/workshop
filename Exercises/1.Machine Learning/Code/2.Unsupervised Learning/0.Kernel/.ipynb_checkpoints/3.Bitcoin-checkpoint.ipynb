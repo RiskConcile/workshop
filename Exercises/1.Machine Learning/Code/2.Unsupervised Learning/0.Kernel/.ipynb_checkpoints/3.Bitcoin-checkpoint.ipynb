{
 "cells": [
  {
   "cell_type": "code",
   "execution_count": 1,
   "metadata": {},
   "outputs": [],
   "source": [
    "import pandas as pd\n",
    "import numpy as np\n",
    "import matplotlib.pyplot as plt\n",
    "import seaborn as sns\n",
    "sns.set()\n",
    "%matplotlib inline"
   ]
  },
  {
   "cell_type": "markdown",
   "metadata": {},
   "source": [
    "<h2>Data</h2>"
   ]
  },
  {
   "cell_type": "code",
   "execution_count": 2,
   "metadata": {},
   "outputs": [],
   "source": [
    "# read data into dataframe\n",
    "df = pd.read_csv('../../../Data/Bitcoindata.csv',parse_dates=True,index_col='Date')\n"
   ]
  },
  {
   "cell_type": "code",
   "execution_count": 3,
   "metadata": {},
   "outputs": [],
   "source": [
    "#Change the name of the column\n",
    "df.columns=['Close Price']\n",
    "# sort the data ascending in datetime\n",
    "df.sort_index(ascending=True,inplace=True)"
   ]
  },
  {
   "cell_type": "code",
   "execution_count": 4,
   "metadata": {},
   "outputs": [
    {
     "data": {
      "image/png": "[encoded data removed]",
      "text/plain": [
       "<Figure size 720x360 with 1 Axes>"
      ]
     },
     "metadata": {},
     "output_type": "display_data"
    }
   ],
   "source": [
    "df.plot(figsize=(10,5));"
   ]
  },
  {
   "cell_type": "markdown",
   "metadata": {},
   "source": [
    "Calculate the log returns"
   ]
  },
  {
   "cell_type": "code",
   "execution_count": 5,
   "metadata": {},
   "outputs": [
    {
     "data": {
      "text/html": [
       "<div>\n",
       "<style scoped>\n",
       "    .dataframe tbody tr th:only-of-type {\n",
       "        vertical-align: middle;\n",
       "    }\n",
       "\n",
       "    .dataframe tbody tr th {\n",
       "        vertical-align: top;\n",
       "    }\n",
       "\n",
       "    .dataframe thead th {\n",
       "        text-align: right;\n",
       "    }\n",
       "</style>\n",
       "<table border=\"1\" class=\"dataframe\">\n",
       "  <thead>\n",
       "    <tr style=\"text-align: right;\">\n",
       "      <th></th>\n",
       "      <th>Close Price</th>\n",
       "      <th>Ret</th>\n",
       "    </tr>\n",
       "    <tr>\n",
       "      <th>Date</th>\n",
       "      <th></th>\n",
       "      <th></th>\n",
       "    </tr>\n",
       "  </thead>\n",
       "  <tbody>\n",
       "    <tr>\n",
       "      <th>2015-07-15</th>\n",
       "      <td>291.2523</td>\n",
       "      <td>NaN</td>\n",
       "    </tr>\n",
       "    <tr>\n",
       "      <th>2015-07-16</th>\n",
       "      <td>276.1400</td>\n",
       "      <td>-0.051887</td>\n",
       "    </tr>\n",
       "    <tr>\n",
       "      <th>2015-07-17</th>\n",
       "      <td>278.2650</td>\n",
       "      <td>0.007695</td>\n",
       "    </tr>\n",
       "    <tr>\n",
       "      <th>2015-07-21</th>\n",
       "      <td>278.9625</td>\n",
       "      <td>0.002507</td>\n",
       "    </tr>\n",
       "    <tr>\n",
       "      <th>2015-07-22</th>\n",
       "      <td>277.0599</td>\n",
       "      <td>-0.006820</td>\n",
       "    </tr>\n",
       "  </tbody>\n",
       "</table>\n",
       "</div>"
      ],
      "text/plain": [
       "            Close Price       Ret\n",
       "Date                             \n",
       "2015-07-15     291.2523       NaN\n",
       "2015-07-16     276.1400 -0.051887\n",
       "2015-07-17     278.2650  0.007695\n",
       "2015-07-21     278.9625  0.002507\n",
       "2015-07-22     277.0599 -0.006820"
      ]
     },
     "execution_count": 5,
     "metadata": {},
     "output_type": "execute_result"
    }
   ],
   "source": [
    "df['Ret']= df['Close Price'].pct_change(periods=1)\n",
    "df.head()"
   ]
  },
  {
   "cell_type": "code",
   "execution_count": 6,
   "metadata": {},
   "outputs": [],
   "source": [
    "df['LogRet'] = df['Ret'].apply(lambda x: np.log(1+x))\n",
    "df.replace([np.inf, -np.inf], np.nan,inplace=True)\n",
    "df.dropna(inplace=True)"
   ]
  },
  {
   "cell_type": "markdown",
   "metadata": {},
   "source": [
    "Calculate the Volatility"
   ]
  },
  {
   "cell_type": "code",
   "execution_count": 7,
   "metadata": {},
   "outputs": [
    {
     "name": "stdout",
     "output_type": "stream",
     "text": [
      "Volatility of Bitcoin = 73.87 %\n"
     ]
    }
   ],
   "source": [
    "print('Volatility of Bitcoin =',np.round(df['LogRet'].std()*np.sqrt(250)*100,2), '%')"
   ]
  },
  {
   "cell_type": "markdown",
   "metadata": {},
   "source": [
    "<h2> Are Bitcoin prices Normally distributed ?<h2>"
   ]
  },
  {
   "cell_type": "code",
   "execution_count": 8,
   "metadata": {},
   "outputs": [],
   "source": [
    "from scipy import stats"
   ]
  },
  {
   "cell_type": "markdown",
   "metadata": {},
   "source": [
    "Calculate quantiles for a probability plot, and optionally show the plot.\n",
    "Generates a probability plot of sample data against the quantiles of a specified theoretical distribution (the normal distribution by default).<br>\n",
    "Probplot optionally calculates a best-fit line for the data and plots the results using Matplotlib or a given plot function."
   ]
  },
  {
   "cell_type": "code",
   "execution_count": null,
   "metadata": {},
   "outputs": [],
   "source": [
    "data = np.array(df['LogRet'])\n",
    "res = stats.probplot(data,fit=True,plot=plt,dist='norm')\n",
    "print('R Squared:',100*res[-1][-1],' %')"
   ]
  },
  {
   "cell_type": "markdown",
   "metadata": {},
   "source": [
    "A better candidate to replace the normal distribution function is the laplace-function:"
   ]
  },
  {
   "cell_type": "code",
   "execution_count": null,
   "metadata": {},
   "outputs": [],
   "source": [
    "data = np.array(df['LogRet'])\n",
    "res = stats.probplot(data,fit=True,plot=plt,dist='laplace')\n",
    "plt.xlim([-4,4])\n",
    "print('R Squared:',100*res[-1][-1],' %')"
   ]
  },
  {
   "cell_type": "markdown",
   "metadata": {},
   "source": [
    "The <b>Kolmogorov-Smirnov</b> test. <br>\n",
    "Using the cumulative density function (<b>CDF</b>) of the returns and compare those with a fitted CDF using the kolmogorov-smirnov two sample test (scipy.stats.kstest). <br>\n",
    "This test will allow us to verify of the CDF of the two series come from the same distribution ( in our case the Normal distribution function) <br>\n",
    "The kstest outputs:\n",
    "<ol>\n",
    "<li>the ks statistic\n",
    "<li> a p-value\n",
    "</ol></br>\n",
    "<br>\n",
    "P-values less than 0.05 means we can reject the null hypothesis that the two series were drawn from the same distribution. The smaller the p-value the more confident we are that they came from a different distributions.\n",
    "\n",
    "First we will analyze the entire return series, then compare the test across years.\n",
    "\n",
    "Documentation : https://docs.scipy.org/doc/scipy/reference/generated/scipy.stats.kstest.html\n",
    " "
   ]
  },
  {
   "cell_type": "code",
   "execution_count": null,
   "metadata": {},
   "outputs": [],
   "source": [
    "print('Testing normal distribution:',stats.kstest(data, 'norm'))\n",
    "print('->Reject Null hypothesis')"
   ]
  },
  {
   "cell_type": "markdown",
   "metadata": {},
   "source": [
    "<h2>Kernel Density Function </h2> <br>\n",
    "A Non-Parametric Density Estimate (= Kernel)"
   ]
  },
  {
   "cell_type": "code",
   "execution_count": null,
   "metadata": {},
   "outputs": [],
   "source": [
    "from sklearn.neighbors import KernelDensity\n",
    "from sklearn.model_selection import GridSearchCV"
   ]
  },
  {
   "cell_type": "markdown",
   "metadata": {},
   "source": [
    "Calculate the Kernel Density Fit"
   ]
  },
  {
   "cell_type": "code",
   "execution_count": null,
   "metadata": {},
   "outputs": [],
   "source": [
    "data = np.array(df['LogRet']).reshape(-1,1)\n",
    "kde = KernelDensity(kernel='gaussian', bandwidth=0.02)\n",
    "kde.fit(data);"
   ]
  },
  {
   "cell_type": "code",
   "execution_count": null,
   "metadata": {},
   "outputs": [],
   "source": [
    "fig, ax = plt.subplots(figsize=(10,5))\n",
    "ax.plot(np.arange(-0.4,0.4,0.001).reshape(-1,1),\n",
    "        np.exp(kde.score_samples(np.arange(-0.4,0.4,0.001).reshape(-1,1))))\n",
    "ax.set_xlabel('Return');"
   ]
  },
  {
   "cell_type": "markdown",
   "metadata": {},
   "source": [
    "Parametric Density Estimation <br>\n",
    "Which is the optimal bandwidth and optimal kernel (tophat or gaussian)"
   ]
  },
  {
   "cell_type": "code",
   "execution_count": null,
   "metadata": {},
   "outputs": [],
   "source": [
    "data = np.array(df['LogRet']).reshape(-1,1)\n",
    "param_grid = {'bandwidth': np.arange(0.001,0.05,0.001),\n",
    "              'kernel':['gaussian','tophat']}\n",
    "grid = GridSearchCV(KernelDensity(),param_grid)\n",
    "grid.fit(data)"
   ]
  },
  {
   "cell_type": "code",
   "execution_count": null,
   "metadata": {},
   "outputs": [],
   "source": [
    "print(grid.best_params_['kernel'])\n",
    "print(grid.best_params_['bandwidth'])"
   ]
  },
  {
   "cell_type": "markdown",
   "metadata": {},
   "source": [
    "Plotting the density function"
   ]
  },
  {
   "cell_type": "code",
   "execution_count": null,
   "metadata": {
    "scrolled": true
   },
   "outputs": [],
   "source": [
    "kde_opt = KernelDensity(kernel=grid.best_params_['kernel'], bandwidth=grid.best_params_['bandwidth'])\n",
    "kde_opt.fit(data);\n",
    "fig, ax = plt.subplots(figsize=(10,5))\n",
    "ax.plot(np.arange(-0.4,0.4,0.001).reshape(-1,1),\n",
    "        np.exp(kde_opt.score_samples(np.arange(-0.4,0.4,0.001).reshape(-1,1))))\n",
    "ax.set_xlabel('Return');"
   ]
  },
  {
   "cell_type": "markdown",
   "metadata": {},
   "source": [
    "<h2>Gaussian Mixture</h2> <br>\n",
    "Studying the bitcoin returns as the combination of <b>three</b> gaussians. Each gaussian represents a regime"
   ]
  },
  {
   "cell_type": "code",
   "execution_count": null,
   "metadata": {},
   "outputs": [],
   "source": [
    "from sklearn import mixture"
   ]
  },
  {
   "cell_type": "code",
   "execution_count": null,
   "metadata": {},
   "outputs": [],
   "source": [
    "clf = mixture.GaussianMixture(n_components=3)\n",
    "clf.fit(data.reshape(-1,1))\n"
   ]
  },
  {
   "cell_type": "code",
   "execution_count": null,
   "metadata": {},
   "outputs": [],
   "source": [
    "for i in np.arange(0,3):\n",
    "    print('Regime',i)\n",
    "    print('Prob',clf.weights_[i]*100,'%')\n",
    "    print('Avg:',clf.means_[i]*100,'%')\n",
    "    print('\\n')"
   ]
  },
  {
   "cell_type": "code",
   "execution_count": null,
   "metadata": {},
   "outputs": [],
   "source": [
    "for i in np.arange(0,len(clf.weights_)):\n",
    "    print('Regime',i,np.round(100*clf.weights_[i],2),'%',\n",
    "          '[Mean=',np.round(100*clf.means_[i,0],2),\n",
    "          '%, StDev=',np.round(100*np.sqrt(clf.covariances_[i][0,0]),2),']')"
   ]
  },
  {
   "cell_type": "markdown",
   "metadata": {},
   "source": [
    "How does one know which regime we are in ?"
   ]
  },
  {
   "cell_type": "code",
   "execution_count": null,
   "metadata": {},
   "outputs": [],
   "source": [
    "fig = plt.subplots(1,1,figsize=(8,8))\n",
    "x = np.arange(-0.4,0.4,0.001)\n",
    "for i in np.arange(0,len(clf.weights_)):\n",
    "    plt.plot(x,\n",
    "             stats.norm.pdf(x,loc=clf.means_[i,0],scale=np.sqrt(clf.covariances_[i][0,0])),\n",
    "             label='Regime '+str(i)+' :'+str(np.round(100*clf.weights_[i],2))+'%')\n",
    "    plt.legend()"
   ]
  },
  {
   "cell_type": "code",
   "execution_count": null,
   "metadata": {},
   "outputs": [],
   "source": []
  }
 ],
 "metadata": {
  "anaconda-cloud": {},
  "kernelspec": {
   "display_name": "Python 3",
   "language": "python",
   "name": "python3"
  },
  "language_info": {
   "codemirror_mode": {
    "name": "ipython",
    "version": 3
   },
   "file_extension": ".py",
   "mimetype": "text/x-python",
   "name": "python",
   "nbconvert_exporter": "python",
   "pygments_lexer": "ipython3",
   "version": "3.6.4"
  },
  "toc": {
   "base_numbering": 1,
   "nav_menu": {},
   "number_sections": true,
   "sideBar": true,
   "skip_h1_title": false,
   "title_cell": "Table of Contents",
   "title_sidebar": "Contents",
   "toc_cell": false,
   "toc_position": {},
   "toc_section_display": true,
   "toc_window_display": false
  },
  "varInspector": {
   "cols": {
    "lenName": 16,
    "lenType": 16,
    "lenVar": 40
   },
   "kernels_config": {
    "python": {
     "delete_cmd_postfix": "",
     "delete_cmd_prefix": "del ",
     "library": "var_list.py",
     "varRefreshCmd": "print(var_dic_list())"
    },
    "r": {
     "delete_cmd_postfix": ") ",
     "delete_cmd_prefix": "rm(",
     "library": "var_list.r",
     "varRefreshCmd": "cat(var_dic_list()) "
    }
   },
   "types_to_exclude": [
    "module",
    "function",
    "builtin_function_or_method",
    "instance",
    "_Feature"
   ],
   "window_display": false
  }
 },
 "nbformat": 4,
 "nbformat_minor": 2
}
