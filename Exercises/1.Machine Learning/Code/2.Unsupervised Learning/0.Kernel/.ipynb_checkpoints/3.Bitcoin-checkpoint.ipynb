{
 "cells": [
  {
   "cell_type": "code",
   "execution_count": 2,
   "metadata": {},
   "outputs": [],
   "source": [
    "import pandas as pd\n",
    "import numpy as np\n",
    "import matplotlib.pyplot as plt\n",
    "import seaborn as sns\n",
    "sns.set()\n",
    "%matplotlib inline"
   ]
  },
  {
   "cell_type": "markdown",
   "metadata": {},
   "source": [
    "<h2>Data</h2>"
   ]
  },
  {
   "cell_type": "code",
   "execution_count": 4,
   "metadata": {},
   "outputs": [],
   "source": [
    "# read data into dataframe\n",
    "df = pd.read_csv('../../../Data/Bitcoindata.csv',parse_dates=True,index_col='Date')\n"
   ]
  },
  {
   "cell_type": "code",
   "execution_count": 5,
   "metadata": {},
   "outputs": [
    {
     "data": {
      "text/html": [
       "<div>\n",
       "<style scoped>\n",
       "    .dataframe tbody tr th:only-of-type {\n",
       "        vertical-align: middle;\n",
       "    }\n",
       "\n",
       "    .dataframe tbody tr th {\n",
       "        vertical-align: top;\n",
       "    }\n",
       "\n",
       "    .dataframe thead th {\n",
       "        text-align: right;\n",
       "    }\n",
       "</style>\n",
       "<table border=\"1\" class=\"dataframe\">\n",
       "  <thead>\n",
       "    <tr style=\"text-align: right;\">\n",
       "      <th></th>\n",
       "      <th>XBT Curncy</th>\n",
       "    </tr>\n",
       "    <tr>\n",
       "      <th>Date</th>\n",
       "      <th></th>\n",
       "    </tr>\n",
       "  </thead>\n",
       "  <tbody>\n",
       "    <tr>\n",
       "      <th>2015-07-15</th>\n",
       "      <td>291.2523</td>\n",
       "    </tr>\n",
       "    <tr>\n",
       "      <th>2015-07-16</th>\n",
       "      <td>276.1400</td>\n",
       "    </tr>\n",
       "    <tr>\n",
       "      <th>2015-07-17</th>\n",
       "      <td>278.2650</td>\n",
       "    </tr>\n",
       "    <tr>\n",
       "      <th>2015-07-21</th>\n",
       "      <td>278.9625</td>\n",
       "    </tr>\n",
       "    <tr>\n",
       "      <th>2015-07-22</th>\n",
       "      <td>277.0599</td>\n",
       "    </tr>\n",
       "  </tbody>\n",
       "</table>\n",
       "</div>"
      ],
      "text/plain": [
       "            XBT Curncy\n",
       "Date                  \n",
       "2015-07-15    291.2523\n",
       "2015-07-16    276.1400\n",
       "2015-07-17    278.2650\n",
       "2015-07-21    278.9625\n",
       "2015-07-22    277.0599"
      ]
     },
     "execution_count": 5,
     "metadata": {},
     "output_type": "execute_result"
    }
   ],
   "source": [
    "df.head()"
   ]
  },
  {
   "cell_type": "code",
   "execution_count": 10,
   "metadata": {},
   "outputs": [],
   "source": [
    "#Change the name of the column\n",
    "df.columns=['Close Price']\n",
    "# read the data ascending\n",
    "df.sort_index(ascending=True,inplace=True)"
   ]
  },
  {
   "cell_type": "code",
   "execution_count": 11,
   "metadata": {},
   "outputs": [
    {
     "data": {
      "image/png": "[encoded data removed]",
      "text/plain": [
       "<Figure size 720x360 with 1 Axes>"
      ]
     },
     "metadata": {},
     "output_type": "display_data"
    }
   ],
   "source": [
    "df.plot(figsize=(10,5));"
   ]
  },
  {
   "cell_type": "markdown",
   "metadata": {},
   "source": [
    "Calculate the log returns"
   ]
  },
  {
   "cell_type": "code",
   "execution_count": 12,
   "metadata": {},
   "outputs": [
    {
     "data": {
      "text/html": [
       "<div>\n",
       "<style scoped>\n",
       "    .dataframe tbody tr th:only-of-type {\n",
       "        vertical-align: middle;\n",
       "    }\n",
       "\n",
       "    .dataframe tbody tr th {\n",
       "        vertical-align: top;\n",
       "    }\n",
       "\n",
       "    .dataframe thead th {\n",
       "        text-align: right;\n",
       "    }\n",
       "</style>\n",
       "<table border=\"1\" class=\"dataframe\">\n",
       "  <thead>\n",
       "    <tr style=\"text-align: right;\">\n",
       "      <th></th>\n",
       "      <th>Close Price</th>\n",
       "      <th>Ret</th>\n",
       "    </tr>\n",
       "    <tr>\n",
       "      <th>Date</th>\n",
       "      <th></th>\n",
       "      <th></th>\n",
       "    </tr>\n",
       "  </thead>\n",
       "  <tbody>\n",
       "    <tr>\n",
       "      <th>2015-07-15</th>\n",
       "      <td>291.2523</td>\n",
       "      <td>NaN</td>\n",
       "    </tr>\n",
       "    <tr>\n",
       "      <th>2015-07-16</th>\n",
       "      <td>276.1400</td>\n",
       "      <td>-0.051887</td>\n",
       "    </tr>\n",
       "    <tr>\n",
       "      <th>2015-07-17</th>\n",
       "      <td>278.2650</td>\n",
       "      <td>0.007695</td>\n",
       "    </tr>\n",
       "    <tr>\n",
       "      <th>2015-07-21</th>\n",
       "      <td>278.9625</td>\n",
       "      <td>0.002507</td>\n",
       "    </tr>\n",
       "    <tr>\n",
       "      <th>2015-07-22</th>\n",
       "      <td>277.0599</td>\n",
       "      <td>-0.006820</td>\n",
       "    </tr>\n",
       "  </tbody>\n",
       "</table>\n",
       "</div>"
      ],
      "text/plain": [
       "            Close Price       Ret\n",
       "Date                             \n",
       "2015-07-15     291.2523       NaN\n",
       "2015-07-16     276.1400 -0.051887\n",
       "2015-07-17     278.2650  0.007695\n",
       "2015-07-21     278.9625  0.002507\n",
       "2015-07-22     277.0599 -0.006820"
      ]
     },
     "execution_count": 12,
     "metadata": {},
     "output_type": "execute_result"
    }
   ],
   "source": [
    "df['Ret']= df['Close Price'].pct_change(periods=1)\n",
    "df.head()"
   ]
  },
  {
   "cell_type": "code",
   "execution_count": 13,
   "metadata": {},
   "outputs": [],
   "source": [
    "df['LogRet'] = df['Ret'].apply(lambda x: np.log(1+x))\n",
    "df.replace([np.inf, -np.inf], np.nan,inplace=True)\n",
    "df.dropna(inplace=True)"
   ]
  },
  {
   "cell_type": "markdown",
   "metadata": {},
   "source": [
    "Calculate the Volatility"
   ]
  },
  {
   "cell_type": "code",
   "execution_count": 14,
   "metadata": {},
   "outputs": [
    {
     "name": "stdout",
     "output_type": "stream",
     "text": [
      "Volatility of Bitcoin = 73.87 %\n"
     ]
    }
   ],
   "source": [
    "print('Volatility of Bitcoin =',np.round(df['LogRet'].std()*np.sqrt(250)*100,2), '%')"
   ]
  },
  {
   "cell_type": "markdown",
   "metadata": {},
   "source": [
    "<h2> Are Bitcoin prices Normally distributed ?<h2>"
   ]
  },
  {
   "cell_type": "code",
   "execution_count": 15,
   "metadata": {},
   "outputs": [],
   "source": [
    "from scipy import stats"
   ]
  },
  {
   "cell_type": "markdown",
   "metadata": {},
   "source": [
    "Calculate quantiles for a probability plot, and optionally show the plot.\n",
    "Generates a probability plot of sample data against the quantiles of a specified theoretical distribution (the normal distribution by default).<br>\n",
    "Probplot optionally calculates a best-fit line for the data and plots the results using Matplotlib or a given plot function."
   ]
  },
  {
   "cell_type": "code",
   "execution_count": 18,
   "metadata": {},
   "outputs": [
    {
     "name": "stdout",
     "output_type": "stream",
     "text": [
      "R Squared: 91.55584320796945  %\n"
     ]
    },
    {
     "data": {
      "image/png": "[encoded data removed]",
      "text/plain": [
       "<Figure size 432x288 with 1 Axes>"
      ]
     },
     "metadata": {},
     "output_type": "display_data"
    }
   ],
   "source": [
    "data = np.array(df['LogRet'])\n",
    "res = stats.probplot(data,fit=True,plot=plt,dist='norm')\n",
    "print('R Squared:',100*res[-1][-1],' %')"
   ]
  },
  {
   "cell_type": "markdown",
   "metadata": {},
   "source": [
    "A better candidate to replace the normal distribution function is the laplace-function:"
   ]
  },
  {
   "cell_type": "code",
   "execution_count": 19,
   "metadata": {},
   "outputs": [
    {
     "name": "stdout",
     "output_type": "stream",
     "text": [
      "R Squared: 96.70803988238012  %\n"
     ]
    },
    {
     "data": {
      "image/png": "[encoded data removed]",
      "text/plain": [
       "<Figure size 432x288 with 1 Axes>"
      ]
     },
     "metadata": {},
     "output_type": "display_data"
    }
   ],
   "source": [
    "data = np.array(df['LogRet'])\n",
    "res = stats.probplot(data,fit=True,plot=plt,dist='laplace')\n",
    "plt.xlim([-4,4])\n",
    "print('R Squared:',100*res[-1][-1],' %')"
   ]
  },
  {
   "cell_type": "markdown",
   "metadata": {},
   "source": [
    "The <b>Kolmogorov-Smirnov</b> test. <br>\n",
    "Using the cumulative density function (<b>CDF</b>) of the returns and compare those with a fitted CDF using the kolmogorov-smirnov two sample test (scipy.stats.kstest). <br>\n",
    "This test will allow us to verify of the CDF of the two series come from the same distribution ( in our case the Normal distribution function) <br>\n",
    "The kstest outputs:\n",
    "<ol>\n",
    "<li>the ks statistic\n",
    "<li> a p-value\n",
    "</ol></br>\n",
    "<br>\n",
    "P-values less than 0.05 means we can reject the null hypothesis that the two series were drawn from the same distribution. The smaller the p-value the more confident we are that they came from a different distributions.\n",
    "\n",
    "First we will analyze the entire return series, then compare the test across years.\n",
    "\n",
    "Documentation : https://docs.scipy.org/doc/scipy/reference/generated/scipy.stats.kstest.html\n",
    " "
   ]
  },
  {
   "cell_type": "code",
   "execution_count": 20,
   "metadata": {},
   "outputs": [
    {
     "name": "stdout",
     "output_type": "stream",
     "text": [
      "Testing normal distribution: KstestResult(statistic=0.4422787810822094, pvalue=0.0)\n",
      "->Reject Null hypothesis\n"
     ]
    }
   ],
   "source": [
    "print('Testing normal distribution:',stats.kstest(data, 'norm'))\n",
    "print('->Reject Null hypothesis')"
   ]
  },
  {
   "cell_type": "markdown",
   "metadata": {},
   "source": [
    "<h2>Kernel Density Function </h2> <br>\n",
    "A Non-Parametric Density Estimate (= Kernel)"
   ]
  },
  {
   "cell_type": "code",
   "execution_count": 21,
   "metadata": {},
   "outputs": [],
   "source": [
    "from sklearn.neighbors import KernelDensity\n",
    "from sklearn.model_selection import GridSearchCV"
   ]
  },
  {
   "cell_type": "markdown",
   "metadata": {},
   "source": [
    "Calculate the Kernel Density Fit"
   ]
  },
  {
   "cell_type": "code",
   "execution_count": 22,
   "metadata": {},
   "outputs": [],
   "source": [
    "data = np.array(df['LogRet']).reshape(-1,1)\n",
    "kde = KernelDensity(kernel='gaussian', bandwidth=0.02)\n",
    "kde.fit(data);"
   ]
  },
  {
   "cell_type": "code",
   "execution_count": 23,
   "metadata": {},
   "outputs": [
    {
     "data": {
      "image/png": "[encoded data removed]",
      "text/plain": [
       "<Figure size 720x360 with 1 Axes>"
      ]
     },
     "metadata": {},
     "output_type": "display_data"
    }
   ],
   "source": [
    "fig, ax = plt.subplots(figsize=(10,5))\n",
    "ax.plot(np.arange(-0.4,0.4,0.001).reshape(-1,1),\n",
    "        np.exp(kde.score_samples(np.arange(-0.4,0.4,0.001).reshape(-1,1))))\n",
    "ax.set_xlabel('Return');"
   ]
  },
  {
   "cell_type": "markdown",
   "metadata": {},
   "source": [
    "Parametric Density Estimation <br>\n",
    "Which is the optimal bandwidth and optimal kernel (tophat or gaussian)"
   ]
  },
  {
   "cell_type": "code",
   "execution_count": 24,
   "metadata": {},
   "outputs": [
    {
     "name": "stderr",
     "output_type": "stream",
     "text": [
      "/Users/jandespiegeleer/.pyenv/versions/3.6.5/envs/seminar/lib/python3.6/site-packages/sklearn/model_selection/_search.py:675: RuntimeWarning: invalid value encountered in subtract\n",
      "  array_means[:, np.newaxis]) ** 2,\n"
     ]
    },
    {
     "data": {
      "text/plain": [
       "GridSearchCV(cv=None, error_score='raise',\n",
       "       estimator=KernelDensity(algorithm='auto', atol=0, bandwidth=1.0, breadth_first=True,\n",
       "       kernel='gaussian', leaf_size=40, metric='euclidean',\n",
       "       metric_params=None, rtol=0),\n",
       "       fit_params=None, iid=True, n_jobs=1,\n",
       "       param_grid={'bandwidth': array([0.001, 0.002, 0.003, 0.004, 0.005, 0.006, 0.007, 0.008, 0.009,\n",
       "       0.01 , 0.011, 0.012, 0.013, 0.014, 0.015, 0.016, 0.017, 0.018,\n",
       "       0.019, 0.02 , 0.021, 0.022, 0.023, 0.024, 0.025, 0.026, 0.027,\n",
       "       0.028, 0.029, 0.03 , 0.031, 0.032, 0.033, 0.034, 0.035, 0.036,\n",
       "       0.037, 0.038, 0.039, 0.04 , 0.041, 0.042, 0.043, 0.044, 0.045,\n",
       "       0.046, 0.047, 0.048, 0.049]), 'kernel': ['gaussian', 'tophat']},\n",
       "       pre_dispatch='2*n_jobs', refit=True, return_train_score='warn',\n",
       "       scoring=None, verbose=0)"
      ]
     },
     "execution_count": 24,
     "metadata": {},
     "output_type": "execute_result"
    }
   ],
   "source": [
    "data = np.array(df['LogRet']).reshape(-1,1)\n",
    "param_grid = {'bandwidth': np.arange(0.001,0.05,0.001),\n",
    "              'kernel':['gaussian','tophat']}\n",
    "grid = GridSearchCV(KernelDensity(),param_grid)\n",
    "grid.fit(data)"
   ]
  },
  {
   "cell_type": "code",
   "execution_count": 25,
   "metadata": {},
   "outputs": [
    {
     "name": "stdout",
     "output_type": "stream",
     "text": [
      "gaussian\n",
      "0.022000000000000002\n"
     ]
    }
   ],
   "source": [
    "print(grid.best_params_['kernel'])\n",
    "print(grid.best_params_['bandwidth'])"
   ]
  },
  {
   "cell_type": "markdown",
   "metadata": {},
   "source": [
    "Plotting the density function"
   ]
  },
  {
   "cell_type": "code",
   "execution_count": 26,
   "metadata": {
    "scrolled": true
   },
   "outputs": [
    {
     "data": {
      "image/png": "[encoded data removed]",
      "text/plain": [
       "<Figure size 720x360 with 1 Axes>"
      ]
     },
     "metadata": {},
     "output_type": "display_data"
    }
   ],
   "source": [
    "kde_opt = KernelDensity(kernel=grid.best_params_['kernel'], bandwidth=grid.best_params_['bandwidth'])\n",
    "kde_opt.fit(data);\n",
    "fig, ax = plt.subplots(figsize=(10,5))\n",
    "ax.plot(np.arange(-0.4,0.4,0.001).reshape(-1,1),\n",
    "        np.exp(kde_opt.score_samples(np.arange(-0.4,0.4,0.001).reshape(-1,1))))\n",
    "ax.set_xlabel('Return');"
   ]
  },
  {
   "cell_type": "markdown",
   "metadata": {},
   "source": [
    "<h2>Gaussian Mixture</h2> <br>\n",
    "Studying the bitcoin returns as the combination of <b>three</b> gaussians. Each gaussian represents a regime"
   ]
  },
  {
   "cell_type": "code",
   "execution_count": 27,
   "metadata": {},
   "outputs": [],
   "source": [
    "from sklearn import mixture"
   ]
  },
  {
   "cell_type": "code",
   "execution_count": 28,
   "metadata": {},
   "outputs": [
    {
     "data": {
      "text/plain": [
       "GaussianMixture(covariance_type='full', init_params='kmeans', max_iter=100,\n",
       "        means_init=None, n_components=3, n_init=1, precisions_init=None,\n",
       "        random_state=None, reg_covar=1e-06, tol=0.001, verbose=0,\n",
       "        verbose_interval=10, warm_start=False, weights_init=None)"
      ]
     },
     "execution_count": 28,
     "metadata": {},
     "output_type": "execute_result"
    }
   ],
   "source": [
    "clf = mixture.GaussianMixture(n_components=3)\n",
    "clf.fit(data.reshape(-1,1))\n"
   ]
  },
  {
   "cell_type": "code",
   "execution_count": 29,
   "metadata": {},
   "outputs": [
    {
     "name": "stdout",
     "output_type": "stream",
     "text": [
      "Regime 0\n",
      "Prob 78.55846980672644 %\n",
      "Avg: [0.58788851] %\n",
      "\n",
      "\n",
      "Regime 1\n",
      "Prob 12.818940798903755 %\n",
      "Avg: [6.34233318] %\n",
      "\n",
      "\n",
      "Regime 2\n",
      "Prob 8.622589394369749 %\n",
      "Avg: [-7.45731065] %\n",
      "\n",
      "\n"
     ]
    }
   ],
   "source": [
    "for i in np.arange(0,3):\n",
    "    print('Regime',i)\n",
    "    print('Prob',clf.weights_[i]*100,'%')\n",
    "    print('Avg:',clf.means_[i]*100,'%')\n",
    "    print('\\n')"
   ]
  },
  {
   "cell_type": "code",
   "execution_count": 30,
   "metadata": {},
   "outputs": [
    {
     "name": "stdout",
     "output_type": "stream",
     "text": [
      "Regime 0 78.56 % [Mean= 0.59 %, StDev= 1.92 ]\n",
      "Regime 1 12.82 % [Mean= 6.34 %, StDev= 7.58 ]\n",
      "Regime 2 8.62 % [Mean= -7.46 %, StDev= 4.44 ]\n"
     ]
    }
   ],
   "source": [
    "for i in np.arange(0,len(clf.weights_)):\n",
    "    print('Regime',i,np.round(100*clf.weights_[i],2),'%',\n",
    "          '[Mean=',np.round(100*clf.means_[i,0],2),\n",
    "          '%, StDev=',np.round(100*np.sqrt(clf.covariances_[i][0,0]),2),']')"
   ]
  },
  {
   "cell_type": "markdown",
   "metadata": {},
   "source": [
    "How does one know which regime we are in ?"
   ]
  },
  {
   "cell_type": "code",
   "execution_count": 31,
   "metadata": {},
   "outputs": [
    {
     "data": {
      "image/png": "[encoded data removed]",
      "text/plain": [
       "<Figure size 576x576 with 1 Axes>"
      ]
     },
     "metadata": {},
     "output_type": "display_data"
    }
   ],
   "source": [
    "fig = plt.subplots(1,1,figsize=(8,8))\n",
    "x = np.arange(-0.4,0.4,0.001)\n",
    "for i in np.arange(0,len(clf.weights_)):\n",
    "    plt.plot(x,\n",
    "             stats.norm.pdf(x,loc=clf.means_[i,0],scale=np.sqrt(clf.covariances_[i][0,0])),\n",
    "             label='Regime '+str(i)+' :'+str(np.round(100*clf.weights_[i],2))+'%')\n",
    "    plt.legend()"
   ]
  },
  {
   "cell_type": "code",
   "execution_count": null,
   "metadata": {},
   "outputs": [],
   "source": []
  }
 ],
 "metadata": {
  "anaconda-cloud": {},
  "kernelspec": {
   "display_name": "Python 3",
   "language": "python",
   "name": "python3"
  },
  "language_info": {
   "codemirror_mode": {
    "name": "ipython",
    "version": 3
   },
   "file_extension": ".py",
   "mimetype": "text/x-python",
   "name": "python",
   "nbconvert_exporter": "python",
   "pygments_lexer": "ipython3",
   "version": "3.6.5"
  }
 },
 "nbformat": 4,
 "nbformat_minor": 2
}
