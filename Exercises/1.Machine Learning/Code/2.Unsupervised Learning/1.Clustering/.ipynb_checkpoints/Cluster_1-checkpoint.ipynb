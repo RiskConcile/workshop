{
 "cells": [
  {
   "cell_type": "code",
   "execution_count": 1,
   "metadata": {
    "collapsed": false
   },
   "outputs": [],
   "source": [
    "import pandas as pd\n",
    "import numpy as np\n",
    "from sklearn import linear_model\n",
    "import matplotlib.pyplot as plt\n",
    "import seaborn as sns\n",
    "%matplotlib inline\n"
   ]
  },
  {
   "cell_type": "code",
   "execution_count": 8,
   "metadata": {
    "collapsed": false
   },
   "outputs": [],
   "source": [
    "#read data\n",
    "df = pd.read_csv('../../../Data/Cluster.csv',index_col='T',parse_dates=True)"
   ]
  },
  {
   "cell_type": "code",
   "execution_count": null,
   "metadata": {
    "collapsed": false
   },
   "outputs": [],
   "source": [
    "df.head()"
   ]
  },
  {
   "cell_type": "code",
   "execution_count": 9,
   "metadata": {
    "collapsed": false
   },
   "outputs": [],
   "source": [
    "#create data matrix\n",
    "A = df.as_matrix()\n",
    "#transform into vector\n",
    "creditspread = A[:,-1].reshape(-1,1)\n",
    "shareprice = A[:,0].reshape(-1,1)"
   ]
  },
  {
   "cell_type": "code",
   "execution_count": 10,
   "metadata": {
    "collapsed": false
   },
   "outputs": [],
   "source": [
    "X = np.log(shareprice[0,0]/shareprice)\n",
    "Y= np.log(creditspread/creditspread[0,0])"
   ]
  },
  {
   "cell_type": "code",
   "execution_count": 12,
   "metadata": {
    "collapsed": false
   },
   "outputs": [
    {
     "data": {
      "text/plain": [
       "LinearRegression(copy_X=True, fit_intercept=False, n_jobs=1, normalize=False)"
      ]
     },
     "execution_count": 12,
     "metadata": {},
     "output_type": "execute_result"
    }
   ],
   "source": [
    "ols = linear_model.LinearRegression( fit_intercept=False)\n",
    "ols.fit(X,Y)"
   ]
  },
  {
   "cell_type": "code",
   "execution_count": null,
   "metadata": {
    "collapsed": false
   },
   "outputs": [],
   "source": [
    "#R_Squared\n",
    "ols.score(X,Y)\n",
    "ols.coef_"
   ]
  },
  {
   "cell_type": "code",
   "execution_count": null,
   "metadata": {
    "collapsed": false
   },
   "outputs": [],
   "source": [
    "#Make a test (using the training sample)\n",
    "shareprice_test = np.arange(5,12,0.1)\n",
    "creditspread_test= creditspread[0,0] * np.exp(ols.coef_[0,0]*np.log(shareprice[0,0]/shareprice_test))"
   ]
  },
  {
   "cell_type": "code",
   "execution_count": null,
   "metadata": {
    "collapsed": false
   },
   "outputs": [],
   "source": [
    "#plotthe results\n",
    "fig = plt.figure(figsize=[10,10])\n",
    "plt.scatter(shareprice,creditspread,label='Observed Data',s=50)\n",
    "plt.plot(shareprice_test,creditspread_test, label='Global Fit',linewidth=2)\n",
    "plt.xlabel('$S$',fontsize=20)\n",
    "plt.ylabel('$CS$',fontsize=20)\n",
    "plt.legend()"
   ]
  },
  {
   "cell_type": "code",
   "execution_count": null,
   "metadata": {
    "collapsed": false
   },
   "outputs": [],
   "source": [
    "#plotting possible clustors\n",
    "idx = (A[:,0]>7) &  (A[:,1]<0.81)\n",
    "\n",
    "#first fit\n",
    "X_1 =X[~idx]\n",
    "Y_1 = Y[~idx]\n",
    "ols_1 = linear_model.LinearRegression( fit_intercept=False)\n",
    "ols_1.fit(X_1,Y_1)\n",
    "R_1=ols_1.score(X_1,Y_1)\n",
    "creditspread_1= creditspread[0,0] * np.exp(ols_1.coef_[0,0]*np.log(shareprice[0,0]/shareprice_test))\n",
    "\n",
    "#second fit\n",
    "X_2 =X[idx]\n",
    "Y_2 = Y[idx]\n",
    "ols_2 = linear_model.LinearRegression( fit_intercept=False)\n",
    "ols_2.fit(X_2,Y_2)\n",
    "R_2=ols_2.score(X_2,Y_2)\n",
    "creditspread_2= creditspread[0,0] * np.exp(ols_2.coef_[0,0]*np.log(shareprice[0,0]/shareprice_test))\n",
    "\n",
    "\n",
    "#plotthe results\n",
    "fig = plt.figure(figsize=[10,10])\n",
    "plt.scatter(shareprice[~idx],creditspread[~idx],s=50,color='gray')\n",
    "plt.scatter(shareprice[idx],creditspread[idx],s=50,color='black')\n",
    "plt.plot(shareprice_test,creditspread_1, label='Local Fit Cluster 1',linewidth=2,linestyle='dotted',color='gray')\n",
    "plt.plot(shareprice_test,creditspread_2, label='Local Fit Cluster 2',linewidth=2,linestyle='--',color='black')\n",
    "\n",
    "plt.xlabel('$S$',fontsize=20)\n",
    "plt.ylabel('$CS$',fontsize=20)\n",
    "plt.legend()"
   ]
  },
  {
   "cell_type": "code",
   "execution_count": null,
   "metadata": {
    "collapsed": true
   },
   "outputs": [],
   "source": []
  }
 ],
 "metadata": {
  "anaconda-cloud": {},
  "kernelspec": {
   "display_name": "Python [default]",
   "language": "python",
   "name": "python3"
  },
  "language_info": {
   "codemirror_mode": {
    "name": "ipython",
    "version": 3
   },
   "file_extension": ".py",
   "mimetype": "text/x-python",
   "name": "python",
   "nbconvert_exporter": "python",
   "pygments_lexer": "ipython3",
   "version": "3.5.2"
  }
 },
 "nbformat": 4,
 "nbformat_minor": 0
}
