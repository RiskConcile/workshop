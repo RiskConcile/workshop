{
 "cells": [
  {
   "cell_type": "code",
   "execution_count": 15,
   "metadata": {},
   "outputs": [],
   "source": [
    "import pandas as pd\n",
    "import numpy as np\n",
    "import datetime as dt\n",
    "import matplotlib.pyplot as plt\n",
    "%matplotlib inline\n",
    "import seaborn as sns\n",
    "sns.set()"
   ]
  },
  {
   "cell_type": "markdown",
   "metadata": {},
   "source": [
    "<h3> Read Data</h3><br>\n",
    "The data to be retrieved is defined as a dictionary. We are keen to retrieve the data for Ford (F) and GE (F)"
   ]
  },
  {
   "cell_type": "markdown",
   "metadata": {},
   "source": [
    "<h3>API - broken</h3>\n",
    "Since August 1st, 2018, the API no longer returns any data.  We therefore load the prices from a spreadsheet"
   ]
  },
  {
   "cell_type": "code",
   "execution_count": 16,
   "metadata": {},
   "outputs": [],
   "source": [
    "df_GE = pd.read_excel('../../Data/GE.xlsx',index_col=0)\n",
    "df_F = pd.read_excel('../../Data/FORD.xlsx',index_col=0)\n"
   ]
  },
  {
   "cell_type": "code",
   "execution_count": 17,
   "metadata": {},
   "outputs": [
    {
     "data": {
      "text/plain": [
       "F    9.39\n",
       "Name: 2018-09-25 00:00:00, dtype: float64"
      ]
     },
     "execution_count": 17,
     "metadata": {},
     "output_type": "execute_result"
    }
   ],
   "source": [
    "# print(df_F.tail())\n",
    "\n",
    "df_F.loc['2018-09-25']"
   ]
  },
  {
   "cell_type": "markdown",
   "metadata": {},
   "source": [
    "<h3> Create one datastructure </h3>\n",
    "Consolidate the Data of Ford and GE into one single DataFrame"
   ]
  },
  {
   "cell_type": "markdown",
   "metadata": {},
   "source": [
    "This is some info"
   ]
  },
  {
   "cell_type": "code",
   "execution_count": 18,
   "metadata": {},
   "outputs": [
    {
     "data": {
      "text/html": [
       "<div>\n",
       "<style scoped>\n",
       "    .dataframe tbody tr th:only-of-type {\n",
       "        vertical-align: middle;\n",
       "    }\n",
       "\n",
       "    .dataframe tbody tr th {\n",
       "        vertical-align: top;\n",
       "    }\n",
       "\n",
       "    .dataframe thead th {\n",
       "        text-align: right;\n",
       "    }\n",
       "</style>\n",
       "<table border=\"1\" class=\"dataframe\">\n",
       "  <thead>\n",
       "    <tr style=\"text-align: right;\">\n",
       "      <th></th>\n",
       "      <th>F</th>\n",
       "      <th>GE</th>\n",
       "    </tr>\n",
       "  </thead>\n",
       "  <tbody>\n",
       "    <tr>\n",
       "      <th>2007-10-23</th>\n",
       "      <td>NaN</td>\n",
       "      <td>40.48</td>\n",
       "    </tr>\n",
       "    <tr>\n",
       "      <th>2007-10-24</th>\n",
       "      <td>NaN</td>\n",
       "      <td>40.23</td>\n",
       "    </tr>\n",
       "    <tr>\n",
       "      <th>2007-10-25</th>\n",
       "      <td>NaN</td>\n",
       "      <td>40.16</td>\n",
       "    </tr>\n",
       "    <tr>\n",
       "      <th>2007-10-26</th>\n",
       "      <td>NaN</td>\n",
       "      <td>40.38</td>\n",
       "    </tr>\n",
       "    <tr>\n",
       "      <th>2007-10-29</th>\n",
       "      <td>NaN</td>\n",
       "      <td>40.56</td>\n",
       "    </tr>\n",
       "  </tbody>\n",
       "</table>\n",
       "</div>"
      ],
      "text/plain": [
       "             F     GE\n",
       "2007-10-23 NaN  40.48\n",
       "2007-10-24 NaN  40.23\n",
       "2007-10-25 NaN  40.16\n",
       "2007-10-26 NaN  40.38\n",
       "2007-10-29 NaN  40.56"
      ]
     },
     "execution_count": 18,
     "metadata": {},
     "output_type": "execute_result"
    }
   ],
   "source": [
    "#sjasdlajsldjs\n",
    "df = pd.concat([df_F,df_GE],axis=1)\n",
    "df.head()"
   ]
  },
  {
   "cell_type": "markdown",
   "metadata": {},
   "source": [
    "<b>Task:</b> Remove all the entries where there are missing values."
   ]
  },
  {
   "cell_type": "code",
   "execution_count": 19,
   "metadata": {},
   "outputs": [
    {
     "data": {
      "text/html": [
       "<div>\n",
       "<style scoped>\n",
       "    .dataframe tbody tr th:only-of-type {\n",
       "        vertical-align: middle;\n",
       "    }\n",
       "\n",
       "    .dataframe tbody tr th {\n",
       "        vertical-align: top;\n",
       "    }\n",
       "\n",
       "    .dataframe thead th {\n",
       "        text-align: right;\n",
       "    }\n",
       "</style>\n",
       "<table border=\"1\" class=\"dataframe\">\n",
       "  <thead>\n",
       "    <tr style=\"text-align: right;\">\n",
       "      <th></th>\n",
       "      <th>F</th>\n",
       "      <th>GE</th>\n",
       "    </tr>\n",
       "  </thead>\n",
       "  <tbody>\n",
       "    <tr>\n",
       "      <th>2007-10-23</th>\n",
       "      <td>NaN</td>\n",
       "      <td>40.48</td>\n",
       "    </tr>\n",
       "    <tr>\n",
       "      <th>2007-10-24</th>\n",
       "      <td>NaN</td>\n",
       "      <td>40.23</td>\n",
       "    </tr>\n",
       "    <tr>\n",
       "      <th>2007-10-25</th>\n",
       "      <td>NaN</td>\n",
       "      <td>40.16</td>\n",
       "    </tr>\n",
       "    <tr>\n",
       "      <th>2007-10-26</th>\n",
       "      <td>NaN</td>\n",
       "      <td>40.38</td>\n",
       "    </tr>\n",
       "    <tr>\n",
       "      <th>2007-10-29</th>\n",
       "      <td>NaN</td>\n",
       "      <td>40.56</td>\n",
       "    </tr>\n",
       "  </tbody>\n",
       "</table>\n",
       "</div>"
      ],
      "text/plain": [
       "             F     GE\n",
       "2007-10-23 NaN  40.48\n",
       "2007-10-24 NaN  40.23\n",
       "2007-10-25 NaN  40.16\n",
       "2007-10-26 NaN  40.38\n",
       "2007-10-29 NaN  40.56"
      ]
     },
     "execution_count": 19,
     "metadata": {},
     "output_type": "execute_result"
    }
   ],
   "source": [
    "df.head()"
   ]
  },
  {
   "cell_type": "code",
   "execution_count": 20,
   "metadata": {},
   "outputs": [],
   "source": [
    "df.dropna(how='any',inplace=True)"
   ]
  },
  {
   "cell_type": "markdown",
   "metadata": {},
   "source": [
    "<b>Task:</b>What values do you have for Jan8th, 2018 ?"
   ]
  },
  {
   "cell_type": "code",
   "execution_count": 21,
   "metadata": {},
   "outputs": [
    {
     "data": {
      "text/plain": [
       "F     13.15\n",
       "GE    18.28\n",
       "Name: 2018-01-08 00:00:00, dtype: float64"
      ]
     },
     "execution_count": 21,
     "metadata": {},
     "output_type": "execute_result"
    }
   ],
   "source": [
    "df.loc['2018-01-08',:]"
   ]
  },
  {
   "cell_type": "markdown",
   "metadata": {},
   "source": [
    "Calculate the difference between the return of GE and F"
   ]
  },
  {
   "cell_type": "code",
   "execution_count": 22,
   "metadata": {},
   "outputs": [
    {
     "data": {
      "text/html": [
       "<div>\n",
       "<style scoped>\n",
       "    .dataframe tbody tr th:only-of-type {\n",
       "        vertical-align: middle;\n",
       "    }\n",
       "\n",
       "    .dataframe tbody tr th {\n",
       "        vertical-align: top;\n",
       "    }\n",
       "\n",
       "    .dataframe thead th {\n",
       "        text-align: right;\n",
       "    }\n",
       "</style>\n",
       "<table border=\"1\" class=\"dataframe\">\n",
       "  <thead>\n",
       "    <tr style=\"text-align: right;\">\n",
       "      <th></th>\n",
       "      <th>F</th>\n",
       "      <th>GE</th>\n",
       "    </tr>\n",
       "  </thead>\n",
       "  <tbody>\n",
       "    <tr>\n",
       "      <th>2010-10-01</th>\n",
       "      <td>NaN</td>\n",
       "      <td>NaN</td>\n",
       "    </tr>\n",
       "    <tr>\n",
       "      <th>2010-10-04</th>\n",
       "      <td>0.047308</td>\n",
       "      <td>-0.015892</td>\n",
       "    </tr>\n",
       "    <tr>\n",
       "      <th>2010-10-05</th>\n",
       "      <td>0.013240</td>\n",
       "      <td>0.025466</td>\n",
       "    </tr>\n",
       "    <tr>\n",
       "      <th>2010-10-06</th>\n",
       "      <td>0.017679</td>\n",
       "      <td>0.023622</td>\n",
       "    </tr>\n",
       "    <tr>\n",
       "      <th>2010-10-07</th>\n",
       "      <td>0.006042</td>\n",
       "      <td>0.008876</td>\n",
       "    </tr>\n",
       "  </tbody>\n",
       "</table>\n",
       "</div>"
      ],
      "text/plain": [
       "                   F        GE\n",
       "2010-10-01       NaN       NaN\n",
       "2010-10-04  0.047308 -0.015892\n",
       "2010-10-05  0.013240  0.025466\n",
       "2010-10-06  0.017679  0.023622\n",
       "2010-10-07  0.006042  0.008876"
      ]
     },
     "execution_count": 22,
     "metadata": {},
     "output_type": "execute_result"
    }
   ],
   "source": [
    "df_ret = df.pct_change(periods=1)\n",
    "df_ret.head()"
   ]
  },
  {
   "cell_type": "code",
   "execution_count": 23,
   "metadata": {},
   "outputs": [
    {
     "data": {
      "text/html": [
       "<div>\n",
       "<style scoped>\n",
       "    .dataframe tbody tr th:only-of-type {\n",
       "        vertical-align: middle;\n",
       "    }\n",
       "\n",
       "    .dataframe tbody tr th {\n",
       "        vertical-align: top;\n",
       "    }\n",
       "\n",
       "    .dataframe thead th {\n",
       "        text-align: right;\n",
       "    }\n",
       "</style>\n",
       "<table border=\"1\" class=\"dataframe\">\n",
       "  <thead>\n",
       "    <tr style=\"text-align: right;\">\n",
       "      <th></th>\n",
       "      <th>F</th>\n",
       "      <th>GE</th>\n",
       "      <th>Diff</th>\n",
       "    </tr>\n",
       "  </thead>\n",
       "  <tbody>\n",
       "    <tr>\n",
       "      <th>2010-10-01</th>\n",
       "      <td>NaN</td>\n",
       "      <td>NaN</td>\n",
       "      <td>NaN</td>\n",
       "    </tr>\n",
       "    <tr>\n",
       "      <th>2010-10-04</th>\n",
       "      <td>0.047308</td>\n",
       "      <td>-0.015892</td>\n",
       "      <td>0.063201</td>\n",
       "    </tr>\n",
       "    <tr>\n",
       "      <th>2010-10-05</th>\n",
       "      <td>0.013240</td>\n",
       "      <td>0.025466</td>\n",
       "      <td>0.012226</td>\n",
       "    </tr>\n",
       "    <tr>\n",
       "      <th>2010-10-06</th>\n",
       "      <td>0.017679</td>\n",
       "      <td>0.023622</td>\n",
       "      <td>0.005943</td>\n",
       "    </tr>\n",
       "    <tr>\n",
       "      <th>2010-10-07</th>\n",
       "      <td>0.006042</td>\n",
       "      <td>0.008876</td>\n",
       "      <td>0.002833</td>\n",
       "    </tr>\n",
       "  </tbody>\n",
       "</table>\n",
       "</div>"
      ],
      "text/plain": [
       "                   F        GE      Diff\n",
       "2010-10-01       NaN       NaN       NaN\n",
       "2010-10-04  0.047308 -0.015892  0.063201\n",
       "2010-10-05  0.013240  0.025466  0.012226\n",
       "2010-10-06  0.017679  0.023622  0.005943\n",
       "2010-10-07  0.006042  0.008876  0.002833"
      ]
     },
     "execution_count": 23,
     "metadata": {},
     "output_type": "execute_result"
    }
   ],
   "source": [
    "df_ret['Diff']= df_ret['GE']-df_ret['F']\n",
    "df_ret['Diff']=df_ret['Diff'].apply(lambda x : np.abs(x))\n",
    "df_ret.head()"
   ]
  },
  {
   "cell_type": "markdown",
   "metadata": {},
   "source": [
    "<h3>Graph</h3>\n",
    "DataFrames have their own build-in functions"
   ]
  },
  {
   "cell_type": "code",
   "execution_count": 24,
   "metadata": {},
   "outputs": [
    {
     "data": {
      "image/png": "[encoded data removed]",
      "text/plain": [
       "<Figure size 576x360 with 1 Axes>"
      ]
     },
     "metadata": {},
     "output_type": "display_data"
    }
   ],
   "source": [
    "df.plot(figsize=(8,5));"
   ]
  },
  {
   "cell_type": "code",
   "execution_count": 25,
   "metadata": {},
   "outputs": [
    {
     "data": {
      "image/png": "[encoded data removed]",
      "text/plain": [
       "<Figure size 648x360 with 2 Axes>"
      ]
     },
     "metadata": {},
     "output_type": "display_data"
    }
   ],
   "source": [
    "fig , ax = plt.subplots(1,2,figsize=(9,5),sharey=True)\n",
    "ax[0].plot(df.index,df['F'],'r',label='F')\n",
    "ax[1].plot(df.index,df['GE'],'b',label='GE')\n",
    "ax[0].set_title('Ford')\n",
    "ax[1].set_title('GE');"
   ]
  },
  {
   "cell_type": "code",
   "execution_count": null,
   "metadata": {},
   "outputs": [],
   "source": []
  }
 ],
 "metadata": {
  "anaconda-cloud": {},
  "kernelspec": {
   "display_name": "Python 3",
   "language": "python",
   "name": "python3"
  },
  "language_info": {
   "codemirror_mode": {
    "name": "ipython",
    "version": 3
   },
   "file_extension": ".py",
   "mimetype": "text/x-python",
   "name": "python",
   "nbconvert_exporter": "python",
   "pygments_lexer": "ipython3",
   "version": "3.7.0"
  },
  "toc": {
   "base_numbering": 1,
   "nav_menu": {},
   "number_sections": true,
   "sideBar": true,
   "skip_h1_title": false,
   "title_cell": "Table of Contents",
   "title_sidebar": "Contents",
   "toc_cell": false,
   "toc_position": {},
   "toc_section_display": true,
   "toc_window_display": false
  },
  "varInspector": {
   "cols": {
    "lenName": 16,
    "lenType": 16,
    "lenVar": 40
   },
   "kernels_config": {
    "python": {
     "delete_cmd_postfix": "",
     "delete_cmd_prefix": "del ",
     "library": "var_list.py",
     "varRefreshCmd": "print(var_dic_list())"
    },
    "r": {
     "delete_cmd_postfix": ") ",
     "delete_cmd_prefix": "rm(",
     "library": "var_list.r",
     "varRefreshCmd": "cat(var_dic_list()) "
    }
   },
   "types_to_exclude": [
    "module",
    "function",
    "builtin_function_or_method",
    "instance",
    "_Feature"
   ],
   "window_display": false
  }
 },
 "nbformat": 4,
 "nbformat_minor": 2
}
