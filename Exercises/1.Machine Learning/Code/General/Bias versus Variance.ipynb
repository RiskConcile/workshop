{
 "cells": [
  {
   "cell_type": "code",
   "execution_count": null,
   "metadata": {},
   "outputs": [],
   "source": [
    "import numpy as np\n",
    "import matplotlib.pyplot as plt\n",
    "import sklearn.linear_model as sk\n",
    "import seaborn as sns\n",
    "%matplotlib inline"
   ]
  },
  {
   "cell_type": "markdown",
   "metadata": {},
   "source": [
    "The line below can surpress certain warning messages "
   ]
  },
  {
   "cell_type": "code",
   "execution_count": null,
   "metadata": {},
   "outputs": [],
   "source": [
    "\n",
    "import warnings\n",
    "warnings.filterwarnings(\"ignore\")"
   ]
  },
  {
   "cell_type": "markdown",
   "metadata": {},
   "source": [
    "<h1> Bias vs. Variance </h1> <br>\n",
    "This introduction to the sklearn-package is used to demonstrate the concepts of bias and variance."
   ]
  },
  {
   "cell_type": "code",
   "execution_count": null,
   "metadata": {},
   "outputs": [],
   "source": [
    "#explain transpose\n",
    "#explain why we use np.c_ and not np.array\n",
    "X_train = np.transpose([ .5, 1.0])\n",
    "Y_train = np.transpose([.5, 1.0])\n",
    "X_train=X_train.reshape(len(X_train),1)\n",
    "Y_train=X_train.reshape(len(Y_train),1)"
   ]
  },
  {
   "cell_type": "markdown",
   "metadata": {},
   "source": [
    "A linear regression model is chosen (LinearRegression) and is fitted using the training data. This will lead to a perfect fit."
   ]
  },
  {
   "cell_type": "code",
   "execution_count": null,
   "metadata": {},
   "outputs": [],
   "source": [
    "ols = sk.LinearRegression(fit_intercept = True)\n",
    "ols.fit(X_train,Y_train);"
   ]
  },
  {
   "cell_type": "markdown",
   "metadata": {},
   "source": [
    "The data in the test set fits perfectly the prediction"
   ]
  },
  {
   "cell_type": "code",
   "execution_count": null,
   "metadata": {},
   "outputs": [],
   "source": [
    "X_test = np.array([0,2.0])\n",
    "X_test = X_test.reshape(2,1)\n",
    "plt.figure(figsize=(10,10))\n",
    "plt.scatter(X_train,Y_train,marker='o',s=100)\n",
    "plt.plot(X_test,ols.predict(X_test));"
   ]
  },
  {
   "cell_type": "markdown",
   "metadata": {},
   "source": [
    "Create small random changes in the training data"
   ]
  },
  {
   "cell_type": "code",
   "execution_count": null,
   "metadata": {},
   "outputs": [],
   "source": [
    "#display the first result\n",
    "plt.figure(figsize=(10,10))\n",
    "plt.scatter(X_train,Y_train,marker='o',s=100)\n",
    "plt.plot(X_test,ols.predict(X_test))\n",
    "\n",
    "#create small random changes of X_trai\n",
    "np.random.seed(0)\n",
    "for _ in np.arange(0,6,1):\n",
    "    this_X = .1*np.random.normal(size=(2, 1)) + X_train\n",
    "    ols.fit(this_X, Y_train)\n",
    "    plt.plot(X_test, ols.predict(X_test))\n",
    "    plt.scatter(this_X, Y_train, s=100,marker='+')"
   ]
  }
 ],
 "metadata": {
  "anaconda-cloud": {},
  "kernelspec": {
   "display_name": "Python [default]",
   "language": "python",
   "name": "python3"
  },
  "language_info": {
   "codemirror_mode": {
    "name": "ipython",
    "version": 3
   },
   "file_extension": ".py",
   "mimetype": "text/x-python",
   "name": "python",
   "nbconvert_exporter": "python",
   "pygments_lexer": "ipython3",
   "version": "3.5.2"
  }
 },
 "nbformat": 4,
 "nbformat_minor": 1
}
