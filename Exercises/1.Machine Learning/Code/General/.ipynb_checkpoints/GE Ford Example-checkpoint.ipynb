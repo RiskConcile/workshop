{
 "cells": [
  {
   "cell_type": "code",
   "execution_count": 12,
   "metadata": {},
   "outputs": [],
   "source": [
    "import pandas as pd\n",
    "import numpy as np\n",
    "import datetime as dt\n",
    "import matplotlib.pyplot as plt\n",
    "from googlefinance.client import get_price_data\n",
    "%matplotlib inline"
   ]
  },
  {
   "cell_type": "markdown",
   "metadata": {},
   "source": [
    "<h3> Read Data</h3><br>"
   ]
  },
  {
   "cell_type": "code",
   "execution_count": 15,
   "metadata": {},
   "outputs": [],
   "source": [
    "param_GE = {'q': \"GE\",'x': \"NYSE\",\"p\" : \"1Y\",'i': \"86400\"}\n",
    "param_F = {'q': \"F\",'x': \"NYSE\",\"p\" : \"1Y\",'i': \"86400\"}"
   ]
  },
  {
   "cell_type": "code",
   "execution_count": 16,
   "metadata": {},
   "outputs": [],
   "source": [
    "df_F = get_price_data(param_F)"
   ]
  },
  {
   "cell_type": "code",
   "execution_count": 17,
   "metadata": {},
   "outputs": [],
   "source": [
    "df_GE = get_price_data(param_GE)"
   ]
  },
  {
   "cell_type": "code",
   "execution_count": 18,
   "metadata": {},
   "outputs": [
    {
     "data": {
      "text/html": [
       "<div>\n",
       "<style scoped>\n",
       "    .dataframe tbody tr th:only-of-type {\n",
       "        vertical-align: middle;\n",
       "    }\n",
       "\n",
       "    .dataframe tbody tr th {\n",
       "        vertical-align: top;\n",
       "    }\n",
       "\n",
       "    .dataframe thead th {\n",
       "        text-align: right;\n",
       "    }\n",
       "</style>\n",
       "<table border=\"1\" class=\"dataframe\">\n",
       "  <thead>\n",
       "    <tr style=\"text-align: right;\">\n",
       "      <th></th>\n",
       "      <th>Open</th>\n",
       "      <th>High</th>\n",
       "      <th>Low</th>\n",
       "      <th>Close</th>\n",
       "      <th>Volume</th>\n",
       "    </tr>\n",
       "  </thead>\n",
       "  <tbody>\n",
       "    <tr>\n",
       "      <th>2017-04-03 22:00:00</th>\n",
       "      <td>29.76</td>\n",
       "      <td>30.000</td>\n",
       "      <td>29.745</td>\n",
       "      <td>29.88</td>\n",
       "      <td>29912275</td>\n",
       "    </tr>\n",
       "    <tr>\n",
       "      <th>2017-04-04 22:00:00</th>\n",
       "      <td>29.90</td>\n",
       "      <td>30.090</td>\n",
       "      <td>29.700</td>\n",
       "      <td>30.02</td>\n",
       "      <td>25057168</td>\n",
       "    </tr>\n",
       "    <tr>\n",
       "      <th>2017-04-05 22:00:00</th>\n",
       "      <td>30.09</td>\n",
       "      <td>30.420</td>\n",
       "      <td>29.950</td>\n",
       "      <td>29.97</td>\n",
       "      <td>25837471</td>\n",
       "    </tr>\n",
       "    <tr>\n",
       "      <th>2017-04-06 22:00:00</th>\n",
       "      <td>30.00</td>\n",
       "      <td>30.175</td>\n",
       "      <td>29.920</td>\n",
       "      <td>29.93</td>\n",
       "      <td>21549950</td>\n",
       "    </tr>\n",
       "    <tr>\n",
       "      <th>2017-04-07 22:00:00</th>\n",
       "      <td>29.92</td>\n",
       "      <td>30.190</td>\n",
       "      <td>29.920</td>\n",
       "      <td>29.99</td>\n",
       "      <td>18975740</td>\n",
       "    </tr>\n",
       "  </tbody>\n",
       "</table>\n",
       "</div>"
      ],
      "text/plain": [
       "                      Open    High     Low  Close    Volume\n",
       "2017-04-03 22:00:00  29.76  30.000  29.745  29.88  29912275\n",
       "2017-04-04 22:00:00  29.90  30.090  29.700  30.02  25057168\n",
       "2017-04-05 22:00:00  30.09  30.420  29.950  29.97  25837471\n",
       "2017-04-06 22:00:00  30.00  30.175  29.920  29.93  21549950\n",
       "2017-04-07 22:00:00  29.92  30.190  29.920  29.99  18975740"
      ]
     },
     "execution_count": 18,
     "metadata": {},
     "output_type": "execute_result"
    }
   ],
   "source": [
    "df_GE.head()"
   ]
  },
  {
   "cell_type": "markdown",
   "metadata": {},
   "source": [
    "Always inspect the data"
   ]
  },
  {
   "cell_type": "code",
   "execution_count": null,
   "metadata": {},
   "outputs": [],
   "source": [
    "df_GE.head()"
   ]
  },
  {
   "cell_type": "code",
   "execution_count": null,
   "metadata": {},
   "outputs": [],
   "source": [
    "df_GE.tail()"
   ]
  },
  {
   "cell_type": "markdown",
   "metadata": {},
   "source": [
    "<h3>Add A Column </h3><br>\n",
    "Containing difference between open en closing price"
   ]
  },
  {
   "cell_type": "code",
   "execution_count": null,
   "metadata": {},
   "outputs": [],
   "source": [
    "df_GE['Range']=df_GE['Open']-df_GE['Close']\n",
    "df_GE.head()"
   ]
  },
  {
   "cell_type": "markdown",
   "metadata": {},
   "source": [
    "Calculate absolute value of the difference"
   ]
  },
  {
   "cell_type": "code",
   "execution_count": null,
   "metadata": {},
   "outputs": [],
   "source": [
    "df_GE['AbsRange'] = df_GE['Range'].apply(lambda x: np.abs(x))\n",
    "df_GE.head()"
   ]
  },
  {
   "cell_type": "markdown",
   "metadata": {},
   "source": [
    "<h3>Sorting the results</h3>"
   ]
  },
  {
   "cell_type": "code",
   "execution_count": null,
   "metadata": {},
   "outputs": [],
   "source": [
    "df_GE.sort_values(by='AbsRange',inplace=True,ascending=False)\n",
    "df_GE.head()"
   ]
  },
  {
   "cell_type": "markdown",
   "metadata": {},
   "source": [
    "<h3> Boolean Indexing </h3>\n",
    "Find the dates where the difference is > 60 Cents"
   ]
  },
  {
   "cell_type": "code",
   "execution_count": null,
   "metadata": {},
   "outputs": [],
   "source": [
    "idx = df_GE['AbsRange']>0.6\n",
    "df_GE.loc[idx,:]"
   ]
  },
  {
   "cell_type": "markdown",
   "metadata": {},
   "source": [
    "<h3>Comparing with Ford<h3>"
   ]
  },
  {
   "cell_type": "code",
   "execution_count": null,
   "metadata": {},
   "outputs": [],
   "source": [
    "df_GE = web.DataReader(\"GE\", 'google')\n",
    "df_F = web.DataReader(\"NYSE:F\", 'google')\n",
    "df = pd.concat([df_GE['Close'],df_F['Close']],axis=1)\n",
    "df.columns = ['GE','F']\n",
    "df.head()"
   ]
  },
  {
   "cell_type": "markdown",
   "metadata": {},
   "source": [
    "Calculate the difference between the return of GE and F"
   ]
  },
  {
   "cell_type": "code",
   "execution_count": null,
   "metadata": {},
   "outputs": [],
   "source": [
    "df_ret = df.pct_change(periods=1)\n",
    "df_ret['Diff']= df_ret['GE']-df_ret['F']\n",
    "df_ret['Diff']=df_ret['Diff'].apply(lambda x : np.abs(x))\n",
    "df_ret.head()"
   ]
  },
  {
   "cell_type": "markdown",
   "metadata": {},
   "source": [
    "<h3>Graph</h3>"
   ]
  },
  {
   "cell_type": "code",
   "execution_count": null,
   "metadata": {},
   "outputs": [],
   "source": [
    "df.plot();"
   ]
  },
  {
   "cell_type": "code",
   "execution_count": null,
   "metadata": {},
   "outputs": [],
   "source": []
  }
 ],
 "metadata": {
  "anaconda-cloud": {},
  "kernelspec": {
   "display_name": "Python [default]",
   "language": "python",
   "name": "python3"
  },
  "language_info": {
   "codemirror_mode": {
    "name": "ipython",
    "version": 3
   },
   "file_extension": ".py",
   "mimetype": "text/x-python",
   "name": "python",
   "nbconvert_exporter": "python",
   "pygments_lexer": "ipython3",
   "version": "3.5.2"
  }
 },
 "nbformat": 4,
 "nbformat_minor": 1
}
