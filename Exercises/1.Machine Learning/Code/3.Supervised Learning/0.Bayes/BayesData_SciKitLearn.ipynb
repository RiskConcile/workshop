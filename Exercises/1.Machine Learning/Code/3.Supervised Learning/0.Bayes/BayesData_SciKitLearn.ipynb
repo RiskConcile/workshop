{
 "cells": [
  {
   "cell_type": "markdown",
   "metadata": {},
   "source": [
    "Read the requered packages"
   ]
  },
  {
   "cell_type": "code",
   "execution_count": 1,
   "metadata": {},
   "outputs": [],
   "source": [
    "import numpy as np\n",
    "import pandas as pd\n",
    "import matplotlib.pyplot as plt\n",
    "import sklearn.naive_bayes as sk\n",
    "%matplotlib inline"
   ]
  },
  {
   "cell_type": "markdown",
   "metadata": {},
   "source": [
    "Import Data from CSV File. The import takes place in two steps: first reading as pandas and in a second step transform into a numpy matrix/array"
   ]
  },
  {
   "cell_type": "code",
   "execution_count": 2,
   "metadata": {},
   "outputs": [
    {
     "data": {
      "text/html": [
       "<div>\n",
       "<style scoped>\n",
       "    .dataframe tbody tr th:only-of-type {\n",
       "        vertical-align: middle;\n",
       "    }\n",
       "\n",
       "    .dataframe tbody tr th {\n",
       "        vertical-align: top;\n",
       "    }\n",
       "\n",
       "    .dataframe thead th {\n",
       "        text-align: right;\n",
       "    }\n",
       "</style>\n",
       "<table border=\"1\" class=\"dataframe\">\n",
       "  <thead>\n",
       "    <tr style=\"text-align: right;\">\n",
       "      <th></th>\n",
       "      <th>Age</th>\n",
       "      <th>ROE</th>\n",
       "      <th>DebtEquity</th>\n",
       "      <th>Default</th>\n",
       "    </tr>\n",
       "  </thead>\n",
       "  <tbody>\n",
       "    <tr>\n",
       "      <th>10</th>\n",
       "      <td>1</td>\n",
       "      <td>0.07</td>\n",
       "      <td>4.0</td>\n",
       "      <td>yes</td>\n",
       "    </tr>\n",
       "    <tr>\n",
       "      <th>11</th>\n",
       "      <td>4</td>\n",
       "      <td>0.06</td>\n",
       "      <td>3.0</td>\n",
       "      <td>yes</td>\n",
       "    </tr>\n",
       "    <tr>\n",
       "      <th>12</th>\n",
       "      <td>3</td>\n",
       "      <td>0.06</td>\n",
       "      <td>0.4</td>\n",
       "      <td>no</td>\n",
       "    </tr>\n",
       "    <tr>\n",
       "      <th>13</th>\n",
       "      <td>4</td>\n",
       "      <td>0.18</td>\n",
       "      <td>3.5</td>\n",
       "      <td>yes</td>\n",
       "    </tr>\n",
       "    <tr>\n",
       "      <th>14</th>\n",
       "      <td>5</td>\n",
       "      <td>0.08</td>\n",
       "      <td>0.3</td>\n",
       "      <td>no</td>\n",
       "    </tr>\n",
       "  </tbody>\n",
       "</table>\n",
       "</div>"
      ],
      "text/plain": [
       "    Age   ROE  DebtEquity Default\n",
       "10    1  0.07         4.0     yes\n",
       "11    4  0.06         3.0     yes\n",
       "12    3  0.06         0.4      no\n",
       "13    4  0.18         3.5     yes\n",
       "14    5  0.08         0.3      no"
      ]
     },
     "execution_count": 2,
     "metadata": {},
     "output_type": "execute_result"
    }
   ],
   "source": [
    "data=pd.read_csv('../../../Data/BayesData.csv')\n",
    "data.tail()"
   ]
  },
  {
   "cell_type": "code",
   "execution_count": 3,
   "metadata": {},
   "outputs": [],
   "source": [
    "X = np.array(data.loc[:,['Age','ROE','DebtEquity']])\n",
    "Y = np.array(data['Default'])\n",
    "index_name = data.columns[:-1]\n"
   ]
  },
  {
   "cell_type": "markdown",
   "metadata": {},
   "source": [
    "Declare the Gaussian Naive Bayes"
   ]
  },
  {
   "cell_type": "code",
   "execution_count": 4,
   "metadata": {},
   "outputs": [
    {
     "data": {
      "text/plain": [
       "GaussianNB(priors=None)"
      ]
     },
     "execution_count": 4,
     "metadata": {},
     "output_type": "execute_result"
    }
   ],
   "source": [
    "nb = sk.GaussianNB()\n",
    "nb.fit(X,Y)"
   ]
  },
  {
   "cell_type": "markdown",
   "metadata": {},
   "source": [
    "Make prediction"
   ]
  },
  {
   "cell_type": "code",
   "execution_count": 5,
   "metadata": {},
   "outputs": [
    {
     "name": "stdout",
     "output_type": "stream",
     "text": [
      "yes\n"
     ]
    }
   ],
   "source": [
    "x_input = np.array([2,0.05,3]).reshape((1,3))\n",
    "x_input = np.array([2,0.05,3]).reshape((1,3))\n",
    "x_predict = nb.predict(x_input)\n",
    "print(x_predict[0])"
   ]
  },
  {
   "cell_type": "markdown",
   "metadata": {},
   "source": [
    "Inspecting the model"
   ]
  },
  {
   "cell_type": "code",
   "execution_count": 6,
   "metadata": {},
   "outputs": [
    {
     "name": "stdout",
     "output_type": "stream",
     "text": [
      "The classes defined by the model:\n",
      "['no' 'yes']\n"
     ]
    }
   ],
   "source": [
    "print('The classes defined by the model:')\n",
    "print(nb.classes_)"
   ]
  },
  {
   "cell_type": "code",
   "execution_count": 7,
   "metadata": {},
   "outputs": [
    {
     "name": "stdout",
     "output_type": "stream",
     "text": [
      "Average Values in the class\n",
      "---------------------------\n",
      "Mean value for the data in for class = no\n",
      "[3.5     0.08625 0.94375]\n",
      "Mean value for the data in for class = yes\n",
      "[3.         0.05857143 2.35714286]\n",
      "\n",
      "Variance of the attributes in the class\n",
      "----------------------------------------------------\n",
      "Variance for the data in for class = no\n",
      "[2.0000000e+00 1.2984397e-03 9.5589844e-01]\n",
      "Variance for the data in for class = yes\n",
      "[2.28571429 0.00281225 1.40816327]\n"
     ]
    }
   ],
   "source": [
    "print('Average Values in the class')\n",
    "print('---------------------------')\n",
    "for c,i in zip(nb.classes_,np.arange(0,len(nb.classes_),1)):\n",
    "    print('Mean value for the data in for class = {k:}'.format(k=c))\n",
    "    print(nb.theta_[i,:])\n",
    "print('\\nVariance of the attributes in the class')\n",
    "print('----------------------------------------------------')\n",
    "for c,i in zip(nb.classes_,np.arange(0,len(nb.classes_),1)):\n",
    "    print('Variance for the data in for class = {k:}'.format(k=c))\n",
    "    print(nb.sigma_[i,:])"
   ]
  },
  {
   "cell_type": "markdown",
   "metadata": {},
   "source": [
    "Probability for a negative age of the company"
   ]
  },
  {
   "cell_type": "code",
   "execution_count": 8,
   "metadata": {},
   "outputs": [],
   "source": [
    "from scipy.stats import norm"
   ]
  },
  {
   "cell_type": "code",
   "execution_count": 9,
   "metadata": {},
   "outputs": [
    {
     "name": "stdout",
     "output_type": "stream",
     "text": [
      "Probability to have negative age = 4.01%\n"
     ]
    }
   ],
   "source": [
    "print('Probability to have negative age = {p:0.2f}%'.format(p=100*norm.cdf(0,loc=3.5,scale=2.00)))"
   ]
  },
  {
   "cell_type": "code",
   "execution_count": 10,
   "metadata": {},
   "outputs": [
    {
     "name": "stdout",
     "output_type": "stream",
     "text": [
      "no\n",
      "[2.0000000e+00 1.2984397e-03 9.5589844e-01]\n",
      "[3.5     0.08625 0.94375]\n",
      "----\n",
      "\n",
      "yes\n",
      "[2.28571429 0.00281225 1.40816327]\n",
      "[3.         0.05857143 2.35714286]\n",
      "----\n",
      "\n"
     ]
    }
   ],
   "source": [
    "for c, i in zip(nb.classes_,np.arange(0,len(nb.classes_),1)):\n",
    "                print(c)\n",
    "                print(nb.sigma_[i,:])\n",
    "                print(nb.theta_[i,:])\n",
    "                print('----\\n')"
   ]
  },
  {
   "cell_type": "code",
   "execution_count": 11,
   "metadata": {},
   "outputs": [
    {
     "data": {
      "text/plain": [
       "0.040059156863817086"
      ]
     },
     "execution_count": 11,
     "metadata": {},
     "output_type": "execute_result"
    }
   ],
   "source": [
    "from scipy.stats import norm\n",
    "norm.cdf(0,loc=3.5,scale=2)"
   ]
  }
 ],
 "metadata": {
  "anaconda-cloud": {},
  "kernelspec": {
   "display_name": "Python 3",
   "language": "python",
   "name": "python3"
  },
  "language_info": {
   "codemirror_mode": {
    "name": "ipython",
    "version": 3
   },
   "file_extension": ".py",
   "mimetype": "text/x-python",
   "name": "python",
   "nbconvert_exporter": "python",
   "pygments_lexer": "ipython3",
   "version": "3.6.5"
  }
 },
 "nbformat": 4,
 "nbformat_minor": 1
}
