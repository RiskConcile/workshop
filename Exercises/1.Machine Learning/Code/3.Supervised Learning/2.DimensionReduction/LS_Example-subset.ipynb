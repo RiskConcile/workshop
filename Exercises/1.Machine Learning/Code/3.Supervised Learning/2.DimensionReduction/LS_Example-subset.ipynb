{
 "cells": [
  {
   "cell_type": "code",
   "execution_count": 3,
   "metadata": {},
   "outputs": [],
   "source": [
    "import numpy as np\n",
    "import pandas as pd\n",
    "from sklearn import linear_model\n",
    "import matplotlib.pyplot as plt\n",
    "import itertools as it\n",
    "%matplotlib inline"
   ]
  },
  {
   "cell_type": "code",
   "execution_count": 5,
   "metadata": {},
   "outputs": [],
   "source": [
    "#read csv file\n",
    "portfolio = pd.read_csv('../../../Data/Portfolio.csv',parse_dates=True,index_col='T')\n"
   ]
  },
  {
   "cell_type": "code",
   "execution_count": 6,
   "metadata": {},
   "outputs": [],
   "source": [
    "#tranform this into a matrix\n",
    "X = portfolio.values\n",
    "\n",
    "#the last column is the target\n",
    "Y = X[:,-1]\n",
    "\n",
    "#create the design matrix2\n",
    "X = X[:,0:-1]\n",
    "\n",
    "index_name = portfolio.columns[:-1]\n",
    "p=len(index_name)"
   ]
  },
  {
   "cell_type": "code",
   "execution_count": 7,
   "metadata": {},
   "outputs": [
    {
     "name": "stdout",
     "output_type": "stream",
     "text": [
      "R_squared = 0.5718703672844999 \n",
      "\n",
      "coefficient for DAX:  0.3196190817743209\n",
      "coefficient for NKY:  0.40423024884913383\n",
      "coefficient for SPX:  0.3902280895359974\n",
      "coefficient for SX5E:  -0.14227313280546172\n",
      "coefficient for SX7E:  0.19020844718603175\n",
      "coefficient for SXAP:  -0.2355831871345533\n",
      "coefficient for SXKP:  0.3512875385659975\n"
     ]
    },
    {
     "name": "stderr",
     "output_type": "stream",
     "text": [
      "/Users/jandespiegeleer/.pyenv/versions/3.6.5/envs/seminar/lib/python3.6/site-packages/sklearn/linear_model/base.py:509: RuntimeWarning: internal gelsd driver lwork query error, required iwork dimension not returned. This is likely the result of LAPACK bug 0038, fixed in LAPACK 3.2.2 (released July 21, 2010). Falling back to 'gelss' driver.\n",
      "  linalg.lstsq(X, y)\n"
     ]
    }
   ],
   "source": [
    "#setting up the model\n",
    "ols_model = linear_model.LinearRegression(fit_intercept=False)\n",
    "ols_model.fit(X,Y)\n",
    "\n",
    "#evaluating the model\n",
    "print('R_squared = %s \\n' %ols_model.score(X,Y))\n",
    "\n",
    "i = 0\n",
    "for c in ols_model.coef_:\n",
    "    print('coefficient for ' + portfolio.columns[i] + ':  ' + str(c))\n",
    "    i+=1\n",
    "\n"
   ]
  },
  {
   "cell_type": "code",
   "execution_count": 8,
   "metadata": {},
   "outputs": [],
   "source": [
    "#storing all the R2\n",
    "models=dict()\n",
    "\n",
    "#variable to store the best model for every prediction k\n",
    "best_model = dict()\n",
    "best_model_RSS = np.arange(0,p,1)*1.00\n",
    "for k in np.arange(1,p+1,1):\n",
    "    RSS  = []\n",
    "    best_model[k] = []\n",
    "    best_rss = len(Y) \n",
    "    combination = list(it.permutations(np.arange(0,p,1),int(k)))\n",
    "    for c in combination:\n",
    "        ols_model = linear_model.LinearRegression(fit_intercept=False)\n",
    "        ols_model.fit(X[:,list(c)],Y)\n",
    "        r_squared = ols_model.score(X[:,list(c)],Y)\n",
    "        Y_Predict = ols_model.predict(X[:,list(c)])\n",
    "        rss = np.sum((Y_Predict-Y)*(Y_Predict-Y))\n",
    "        RSS.append(rss)\n",
    "        if rss < best_rss:\n",
    "            best_model[k] = c\n",
    "            best_rss = rss\n",
    "    best_model_RSS[k-1] = best_rss\n",
    "    i +=1\n",
    "    models[k]=RSS\n"
   ]
  },
  {
   "cell_type": "code",
   "execution_count": null,
   "metadata": {},
   "outputs": [],
   "source": [
    "fig = plt.figure(figsize = (10,10))\n",
    "plt.plot(np.arange(1,p+1,1),best_model_RSS*10000,marker='o',markerfacecolor='red',\n",
    "         markersize=15,linestyle='--',color='black',label='best set')\n",
    "plt.xlabel('Nbr of chosen attributes (k)',fontsize=20)\n",
    "plt.ylabel('RSS x 10000',fontsize=20)\n",
    "plt.title('Selecting the best subset',fontsize=24)\n",
    "for k in np.arange(1,p+1,1):\n",
    "    for m in models[k]:\n",
    "        plt.plot(k,m*10000,marker='+',markerfacecolor='black')"
   ]
  },
  {
   "cell_type": "code",
   "execution_count": null,
   "metadata": {},
   "outputs": [],
   "source": [
    "best_model"
   ]
  }
 ],
 "metadata": {
  "kernelspec": {
   "display_name": "Python 3",
   "language": "python",
   "name": "python3"
  },
  "language_info": {
   "codemirror_mode": {
    "name": "ipython",
    "version": 3
   },
   "file_extension": ".py",
   "mimetype": "text/x-python",
   "name": "python",
   "nbconvert_exporter": "python",
   "pygments_lexer": "ipython3",
   "version": "3.6.5"
  }
 },
 "nbformat": 4,
 "nbformat_minor": 1
}
