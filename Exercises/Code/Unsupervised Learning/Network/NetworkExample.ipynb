{
 "cells": [
  {
   "cell_type": "code",
   "execution_count": 24,
   "metadata": {
    "collapsed": true
   },
   "outputs": [],
   "source": [
    "import networkx as nx\n",
    "import matplotlib.pyplot as plt\n",
    "import numpy as np\n",
    "%matplotlib inline"
   ]
  },
  {
   "cell_type": "code",
   "execution_count": 38,
   "metadata": {
    "collapsed": false
   },
   "outputs": [],
   "source": [
    "A = np.array([[0,1,0,0,0,0,0],[1,0,1,1,0,0,0],[0,1,0,0,0,0,0],\n",
    "              [0,1,0,0,1,0,1],[0,0,0,0,0,1,1],[0,0,0,1,1,0,0],\n",
    "              [0,0,0,1,1,0,0]],dtype=float)\n"
   ]
  },
  {
   "cell_type": "code",
   "execution_count": 39,
   "metadata": {
    "collapsed": false
   },
   "outputs": [],
   "source": [
    "G=nx.from_numpy_matrix(A)"
   ]
  },
  {
   "cell_type": "code",
   "execution_count": 44,
   "metadata": {
    "collapsed": false,
    "scrolled": true
   },
   "outputs": [
    {
     "name": "stdout",
     "output_type": "stream",
     "text": [
      "List of nodes:\n",
      " [0, 1, 2, 3, 4, 5, 6] \n",
      " List of edges:\n",
      " [(0, 1), (1, 2), (1, 3), (3, 4), (3, 5), (3, 6), (4, 5), (4, 6)]\n",
      "\n",
      "\n",
      "In betweeness cenrality \n",
      "\n",
      "{0: 0.0, 1: 9.0, 2: 0.0, 3: 9.5, 4: 0.5, 5: 0.0, 6: 0.0}\n"
     ]
    }
   ],
   "source": [
    "print('List of nodes:\\n', G.nodes(), '\\n', 'List of edges:\\n', G.edges())\n",
    "print('\\n')\n",
    "print('In betweeness cenrality \\n')\n",
    "print(nx.betweenness_centrality(G,normalized=False))"
   ]
  },
  {
   "cell_type": "code",
   "execution_count": 51,
   "metadata": {
    "collapsed": false
   },
   "outputs": [],
   "source": [
    "\n",
    "#position with Fruchterman ReinGold\n",
    "pos=nx.fruchterman_reingold_layout(G)"
   ]
  },
  {
   "cell_type": "code",
   "execution_count": 50,
   "metadata": {
    "collapsed": false
   },
   "outputs": [
    {
     "name": "stderr",
     "output_type": "stream",
     "text": [
      "/Users/jandespiegeleer/anaconda/lib/python3.4/site-packages/matplotlib/collections.py:590: FutureWarning: elementwise comparison failed; returning scalar instead, but in the future will perform elementwise comparison\n",
      "  if self._edgecolors == str('face'):\n"
     ]
    },
    {
     "data": {
      "image/png": "[encoded data removed]",
      "text/plain": [
       "<matplotlib.figure.Figure at 0x10f6d77b8>"
      ]
     },
     "metadata": {},
     "output_type": "display_data"
    }
   ],
   "source": [
    "\n",
    "#draw the networks\n",
    "nx.draw(G, node_color='y', with_labels=True)"
   ]
  }
 ],
 "metadata": {
  "kernelspec": {
   "display_name": "Python 3",
   "language": "python",
   "name": "python3"
  },
  "language_info": {
   "codemirror_mode": {
    "name": "ipython",
    "version": 3
   },
   "file_extension": ".py",
   "mimetype": "text/x-python",
   "name": "python",
   "nbconvert_exporter": "python",
   "pygments_lexer": "ipython3",
   "version": "3.4.4"
  }
 },
 "nbformat": 4,
 "nbformat_minor": 0
}
