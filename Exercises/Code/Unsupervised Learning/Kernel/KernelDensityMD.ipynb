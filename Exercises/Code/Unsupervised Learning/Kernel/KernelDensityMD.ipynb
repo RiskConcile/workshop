{
 "cells": [
  {
   "cell_type": "code",
   "execution_count": 1,
   "metadata": {
    "collapsed": false
   },
   "outputs": [],
   "source": [
    "import numpy as np\n",
    "import pandas as pd\n",
    "import matplotlib.pyplot as plt \n",
    "import statsmodels.api as sm\n",
    "%matplotlib inline"
   ]
  },
  {
   "cell_type": "code",
   "execution_count": 2,
   "metadata": {
    "collapsed": false
   },
   "outputs": [],
   "source": [
    "#df=pd.read_csv(\"/Users/jandespiegeleer/FilesJDS/Seminar/KUL/DataMining/PythonWorkShop/DataKDE.csv\")\n",
    "df=pd.read_csv('DataKDE.csv')"
   ]
  },
  {
   "cell_type": "code",
   "execution_count": 3,
   "metadata": {
    "collapsed": false
   },
   "outputs": [
    {
     "data": {
      "text/html": [
       "<div>\n",
       "<table border=\"1\" class=\"dataframe\">\n",
       "  <thead>\n",
       "    <tr style=\"text-align: right;\">\n",
       "      <th></th>\n",
       "      <th>Name</th>\n",
       "      <th>Realised 1yr Vol</th>\n",
       "      <th>CF2Debt Ratio</th>\n",
       "      <th>DefaultRisk</th>\n",
       "    </tr>\n",
       "  </thead>\n",
       "  <tbody>\n",
       "    <tr>\n",
       "      <th>477</th>\n",
       "      <td>K+S AG</td>\n",
       "      <td>36.53</td>\n",
       "      <td>-0.40</td>\n",
       "      <td>High</td>\n",
       "    </tr>\n",
       "    <tr>\n",
       "      <th>478</th>\n",
       "      <td>Lundin Petroleum AB</td>\n",
       "      <td>29.05</td>\n",
       "      <td>-0.48</td>\n",
       "      <td>High</td>\n",
       "    </tr>\n",
       "    <tr>\n",
       "      <th>479</th>\n",
       "      <td>UnipolSai SpA</td>\n",
       "      <td>29.79</td>\n",
       "      <td>-0.49</td>\n",
       "      <td>Low</td>\n",
       "    </tr>\n",
       "    <tr>\n",
       "      <th>480</th>\n",
       "      <td>Capital &amp; Counties Properties PLC</td>\n",
       "      <td>17.62</td>\n",
       "      <td>-0.55</td>\n",
       "      <td>Low</td>\n",
       "    </tr>\n",
       "    <tr>\n",
       "      <th>481</th>\n",
       "      <td>TNT Express NV</td>\n",
       "      <td>32.70</td>\n",
       "      <td>-0.77</td>\n",
       "      <td>High</td>\n",
       "    </tr>\n",
       "  </tbody>\n",
       "</table>\n",
       "</div>"
      ],
      "text/plain": [
       "                                  Name   Realised 1yr Vol   CF2Debt Ratio  \\\n",
       "477                             K+S AG              36.53           -0.40   \n",
       "478                Lundin Petroleum AB              29.05           -0.48   \n",
       "479                      UnipolSai SpA              29.79           -0.49   \n",
       "480  Capital & Counties Properties PLC              17.62           -0.55   \n",
       "481                     TNT Express NV              32.70           -0.77   \n",
       "\n",
       "    DefaultRisk  \n",
       "477        High  \n",
       "478        High  \n",
       "479         Low  \n",
       "480         Low  \n",
       "481        High  "
      ]
     },
     "execution_count": 3,
     "metadata": {},
     "output_type": "execute_result"
    }
   ],
   "source": [
    "df.tail()"
   ]
  },
  {
   "cell_type": "markdown",
   "metadata": {},
   "source": [
    "Not overly happy with the column names in the csv file, so let's see if we can change them :\n",
    "into ' Volatility ' and 'FCF2Debt '"
   ]
  },
  {
   "cell_type": "code",
   "execution_count": 4,
   "metadata": {
    "collapsed": false
   },
   "outputs": [
    {
     "data": {
      "text/plain": [
       "Index(['Name', 'Volatility', 'CF2Debt', 'DefaultRisk'], dtype='object')"
      ]
     },
     "execution_count": 4,
     "metadata": {},
     "output_type": "execute_result"
    }
   ],
   "source": [
    "df.columns=['Name', 'Volatility', 'CF2Debt', 'DefaultRisk']\n",
    "df.columns"
   ]
  },
  {
   "cell_type": "markdown",
   "metadata": {},
   "source": [
    "We use the groupby() function of Pandas to have some average position of the storm"
   ]
  },
  {
   "cell_type": "code",
   "execution_count": 5,
   "metadata": {
    "collapsed": false
   },
   "outputs": [
    {
     "data": {
      "text/plain": [
       "pandas.core.groupby.DataFrameGroupBy"
      ]
     },
     "execution_count": 5,
     "metadata": {},
     "output_type": "execute_result"
    }
   ],
   "source": [
    "dfs=df.groupby('DefaultRisk')\n",
    "type(dfs)\n"
   ]
  },
  {
   "cell_type": "code",
   "execution_count": 6,
   "metadata": {
    "collapsed": false
   },
   "outputs": [
    {
     "data": {
      "text/html": [
       "<div>\n",
       "<table border=\"1\" class=\"dataframe\">\n",
       "  <thead>\n",
       "    <tr style=\"text-align: right;\">\n",
       "      <th></th>\n",
       "      <th>Volatility</th>\n",
       "      <th>CF2Debt</th>\n",
       "    </tr>\n",
       "    <tr>\n",
       "      <th>DefaultRisk</th>\n",
       "      <th></th>\n",
       "      <th></th>\n",
       "    </tr>\n",
       "  </thead>\n",
       "  <tbody>\n",
       "    <tr>\n",
       "      <th>High</th>\n",
       "      <td>30.477500</td>\n",
       "      <td>0.075000</td>\n",
       "    </tr>\n",
       "    <tr>\n",
       "      <th>Low</th>\n",
       "      <td>23.226425</td>\n",
       "      <td>1.435894</td>\n",
       "    </tr>\n",
       "  </tbody>\n",
       "</table>\n",
       "</div>"
      ],
      "text/plain": [
       "             Volatility   CF2Debt\n",
       "DefaultRisk                      \n",
       "High          30.477500  0.075000\n",
       "Low           23.226425  1.435894"
      ]
     },
     "execution_count": 6,
     "metadata": {},
     "output_type": "execute_result"
    }
   ],
   "source": [
    "#The grouped dataframe has the following properties \n",
    "AvgLevels=dfs[['Volatility','CF2Debt']].mean()\n",
    "AvgLevels"
   ]
  },
  {
   "cell_type": "markdown",
   "metadata": {},
   "source": [
    "<b>First Observation:</b><br>High Realized Equity Volatility and Low Free Cashflow is associated with High Default Risk"
   ]
  },
  {
   "cell_type": "code",
   "execution_count": 9,
   "metadata": {
    "collapsed": false
   },
   "outputs": [
    {
     "name": "stdout",
     "output_type": "stream",
     "text": [
      "<class 'pandas.core.frame.DataFrame'>\n",
      "The average realized equity volatility of Low Default is :  23.23\n",
      "(This result matches what we found when earlier grouping the dataframe)\n"
     ]
    }
   ],
   "source": [
    "#Creating two dataFrames from the original dataframe df\n",
    "df_HDefRisk=df[(df.DefaultRisk == 'High')]\n",
    "df_LDefRisk=df[(df.DefaultRisk == 'Low')]\n",
    "print(type(df_HDefRisk))\n",
    "print((\"The average realized equity volatility of Low Default is : {k: 0.02f}\").format(k=df_LDefRisk['Volatility'].mean()))\n",
    "print(\"(This result matches what we found when earlier grouping the dataframe)\")"
   ]
  },
  {
   "cell_type": "code",
   "execution_count": 10,
   "metadata": {
    "collapsed": false
   },
   "outputs": [
    {
     "data": {
      "text/plain": [
       "<matplotlib.text.Text at 0x10d716d68>"
      ]
     },
     "execution_count": 10,
     "metadata": {},
     "output_type": "execute_result"
    },
    {
     "data": {
      "image/png": "[encoded data removed]",
      "text/plain": [
       "<matplotlib.figure.Figure at 0x10d6ef048>"
      ]
     },
     "metadata": {},
     "output_type": "display_data"
    }
   ],
   "source": [
    "plt.figure(figsize=(20,10) )\n",
    "plt.plot(df_HDefRisk.Volatility,df_HDefRisk.CF2Debt,'or',label='High Default Risk')\n",
    "plt.plot(df_LDefRisk.Volatility,df_LDefRisk.CF2Debt,'ob',label='Low Default Risk')\n",
    "plt.legend()\n",
    "plt.xlabel('Volatility (%)')\n",
    "plt.ylabel('CashFlow / Debt')"
   ]
  },
  {
   "cell_type": "markdown",
   "metadata": {},
   "source": [
    "The Multivariate kernel density estimator from the <b>statsmodels </b> package is going to be used. \n",
    "We can find more info on the model using the \"?\" in front of the function"
   ]
  },
  {
   "cell_type": "code",
   "execution_count": 11,
   "metadata": {
    "collapsed": false
   },
   "outputs": [],
   "source": [
    "KDE_HighDefaultRisk=sm.nonparametric.KDEMultivariate(data=[df_HDefRisk.Volatility,df_HDefRisk.CF2Debt],var_type='cc')\n",
    "KDE_LowDefaultRisk=sm.nonparametric.KDEMultivariate(data=[df_LDefRisk.Volatility,df_LDefRisk.CF2Debt],var_type='cc')"
   ]
  },
  {
   "cell_type": "code",
   "execution_count": 18,
   "metadata": {
    "collapsed": false
   },
   "outputs": [
    {
     "name": "stdout",
     "output_type": "stream",
     "text": [
      "0.013090641803160831\n",
      "0.000107063991959003\n",
      "[ 4.0105288   0.10812561]\n",
      "[ 1.92194748  2.2855728 ]\n"
     ]
    }
   ],
   "source": [
    "#low free cashflow is creating high default risk\n",
    "print(KDE_LowDefaultRisk.pdf([20,1]))\n",
    "print(KDE_HighDefaultRisk.pdf([20,1]))\n",
    "print(KDE_HighDefaultRisk.bw)\n",
    "print(KDE_LowDefaultRisk.bw)"
   ]
  },
  {
   "cell_type": "markdown",
   "metadata": {},
   "source": [
    "<h3> Use the seaborn visualization package </h3> <br>\n",
    "This comes with a 2D KDE calculation "
   ]
  },
  {
   "cell_type": "code",
   "execution_count": 13,
   "metadata": {
    "collapsed": false
   },
   "outputs": [
    {
     "data": {
      "text/plain": [
       "(0, 50)"
      ]
     },
     "execution_count": 13,
     "metadata": {},
     "output_type": "execute_result"
    },
    {
     "name": "stderr",
     "output_type": "stream",
     "text": [
      "/Users/jandespiegeleer/anaconda/lib/python3.4/site-packages/matplotlib/collections.py:590: FutureWarning: elementwise comparison failed; returning scalar instead, but in the future will perform elementwise comparison\n",
      "  if self._edgecolors == str('face'):\n"
     ]
    },
    {
     "data": {
      "image/png": "[encoded data removed]",
      "text/plain": [
       "<matplotlib.figure.Figure at 0x10d7bcef0>"
      ]
     },
     "metadata": {},
     "output_type": "display_data"
    }
   ],
   "source": [
    "import seaborn as sns\n",
    "f, ax = plt.subplots(1,2)\n",
    "sns.kdeplot(df_HDefRisk.Volatility,df_HDefRisk.CF2Debt,\n",
    "                 cmap=\"Reds\", shade=True, shade_lowest=False,ax=ax[1])\n",
    "\n",
    "sns.kdeplot(df_LDefRisk.Volatility,df_LDefRisk.CF2Debt,\n",
    "                 cmap=\"Blues\", shade=True, shade_lowest=False,ax=ax[0])\n",
    "ax[0].set_ylim(-0.5,2)\n",
    "ax[1].set_ylim(-0.5,2)\n",
    "ax[0].set_xlim(0,50)\n",
    "ax[1].set_xlim(0,50)"
   ]
  }
 ],
 "metadata": {
  "kernelspec": {
   "display_name": "Python 3",
   "language": "python",
   "name": "python3"
  },
  "language_info": {
   "codemirror_mode": {
    "name": "ipython",
    "version": 3
   },
   "file_extension": ".py",
   "mimetype": "text/x-python",
   "name": "python",
   "nbconvert_exporter": "python",
   "pygments_lexer": "ipython3",
   "version": "3.4.4"
  }
 },
 "nbformat": 4,
 "nbformat_minor": 0
}
