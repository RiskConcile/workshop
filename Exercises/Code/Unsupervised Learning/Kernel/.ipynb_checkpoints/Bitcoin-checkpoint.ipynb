{
 "cells": [
  {
   "cell_type": "code",
   "execution_count": 105,
   "metadata": {
    "collapsed": false
   },
   "outputs": [],
   "source": [
    "import pandas as pd\n",
    "import numpy as np\n",
    "import matplotlib.pyplot as plt\n",
    "import seaborn as sns\n",
    "%matplotlib inline"
   ]
  },
  {
   "cell_type": "markdown",
   "metadata": {},
   "source": [
    "<h2>Data</h2>"
   ]
  },
  {
   "cell_type": "raw",
   "metadata": {},
   "source": [
    "Read bitcoin from Quandl Website into a pandas DataFrame"
   ]
  },
  {
   "cell_type": "code",
   "execution_count": 106,
   "metadata": {
    "collapsed": false
   },
   "outputs": [
    {
     "data": {
      "text/html": [
       "<div>\n",
       "<table border=\"1\" class=\"dataframe\">\n",
       "  <thead>\n",
       "    <tr style=\"text-align: right;\">\n",
       "      <th></th>\n",
       "      <th>Open</th>\n",
       "      <th>High</th>\n",
       "      <th>Low</th>\n",
       "      <th>Close</th>\n",
       "      <th>Volume (BTC)</th>\n",
       "      <th>Volume (Currency)</th>\n",
       "      <th>Weighted Price</th>\n",
       "    </tr>\n",
       "    <tr>\n",
       "      <th>Date</th>\n",
       "      <th></th>\n",
       "      <th></th>\n",
       "      <th></th>\n",
       "      <th></th>\n",
       "      <th></th>\n",
       "      <th></th>\n",
       "      <th></th>\n",
       "    </tr>\n",
       "  </thead>\n",
       "  <tbody>\n",
       "    <tr>\n",
       "      <th>2017-10-01</th>\n",
       "      <td>3659.0</td>\n",
       "      <td>3680.0</td>\n",
       "      <td>3571.8</td>\n",
       "      <td>3677.4</td>\n",
       "      <td>3785.122903</td>\n",
       "      <td>1.373373e+07</td>\n",
       "      <td>3628.344280</td>\n",
       "    </tr>\n",
       "    <tr>\n",
       "      <th>2017-09-30</th>\n",
       "      <td>3502.7</td>\n",
       "      <td>3675.0</td>\n",
       "      <td>3500.0</td>\n",
       "      <td>3659.0</td>\n",
       "      <td>4971.962280</td>\n",
       "      <td>1.803273e+07</td>\n",
       "      <td>3626.883847</td>\n",
       "    </tr>\n",
       "    <tr>\n",
       "      <th>2017-09-29</th>\n",
       "      <td>3538.5</td>\n",
       "      <td>3567.0</td>\n",
       "      <td>3406.0</td>\n",
       "      <td>3502.7</td>\n",
       "      <td>5858.262620</td>\n",
       "      <td>2.047809e+07</td>\n",
       "      <td>3495.591571</td>\n",
       "    </tr>\n",
       "    <tr>\n",
       "      <th>2017-09-28</th>\n",
       "      <td>3565.0</td>\n",
       "      <td>3625.9</td>\n",
       "      <td>3487.2</td>\n",
       "      <td>3538.5</td>\n",
       "      <td>7851.080949</td>\n",
       "      <td>2.788087e+07</td>\n",
       "      <td>3551.213636</td>\n",
       "    </tr>\n",
       "    <tr>\n",
       "      <th>2017-09-27</th>\n",
       "      <td>3271.5</td>\n",
       "      <td>3588.5</td>\n",
       "      <td>3265.0</td>\n",
       "      <td>3565.0</td>\n",
       "      <td>9184.852938</td>\n",
       "      <td>3.170552e+07</td>\n",
       "      <td>3451.935297</td>\n",
       "    </tr>\n",
       "  </tbody>\n",
       "</table>\n",
       "</div>"
      ],
      "text/plain": [
       "              Open    High     Low   Close  Volume (BTC)  Volume (Currency)  \\\n",
       "Date                                                                          \n",
       "2017-10-01  3659.0  3680.0  3571.8  3677.4   3785.122903       1.373373e+07   \n",
       "2017-09-30  3502.7  3675.0  3500.0  3659.0   4971.962280       1.803273e+07   \n",
       "2017-09-29  3538.5  3567.0  3406.0  3502.7   5858.262620       2.047809e+07   \n",
       "2017-09-28  3565.0  3625.9  3487.2  3538.5   7851.080949       2.788087e+07   \n",
       "2017-09-27  3271.5  3588.5  3265.0  3565.0   9184.852938       3.170552e+07   \n",
       "\n",
       "            Weighted Price  \n",
       "Date                        \n",
       "2017-10-01     3628.344280  \n",
       "2017-09-30     3626.883847  \n",
       "2017-09-29     3495.591571  \n",
       "2017-09-28     3551.213636  \n",
       "2017-09-27     3451.935297  "
      ]
     },
     "execution_count": 106,
     "metadata": {},
     "output_type": "execute_result"
    }
   ],
   "source": [
    "BIT_COIN_CSV_URL = 'http://www.quandl.com/api/v1/datasets/BCHARTS/KRAKENEUR.csv'\n",
    "df = pd.read_csv(BIT_COIN_CSV_URL,parse_dates=True,index_col='Date')\n",
    "df.head()"
   ]
  },
  {
   "cell_type": "raw",
   "metadata": {},
   "source": [
    "Sort the Data ascending"
   ]
  },
  {
   "cell_type": "code",
   "execution_count": 107,
   "metadata": {
    "collapsed": true
   },
   "outputs": [],
   "source": [
    "df.sort_index(ascending=True,inplace=True)"
   ]
  },
  {
   "cell_type": "markdown",
   "metadata": {},
   "source": [
    "Calculate the Returns"
   ]
  },
  {
   "cell_type": "code",
   "execution_count": 108,
   "metadata": {
    "collapsed": false
   },
   "outputs": [],
   "source": [
    "df['Ret']= df['Close'].pct_change(periods=1)\n",
    "df['LogRet'] = df['Ret'].apply(lambda x: np.log(1+x))\n",
    "df.replace([np.inf, -np.inf], np.nan,inplace=True)\n",
    "df.dropna(inplace=True)"
   ]
  },
  {
   "cell_type": "markdown",
   "metadata": {},
   "source": [
    "Calculate the Volatility"
   ]
  },
  {
   "cell_type": "code",
   "execution_count": 109,
   "metadata": {
    "collapsed": false
   },
   "outputs": [
    {
     "name": "stdout",
     "output_type": "stream",
     "text": [
      "Vol Bitcoin = 56.70\n"
     ]
    }
   ],
   "source": [
    "print('Vol Bitcoin = {vol:0.2f}'.format(vol=df['LogRet'].std()*np.sqrt(250)*100))"
   ]
  },
  {
   "cell_type": "markdown",
   "metadata": {},
   "source": [
    "<h2>Density Function </h2> <br>\n",
    "A Non-Parametric Density Estimate (= Kernel)"
   ]
  },
  {
   "cell_type": "code",
   "execution_count": 110,
   "metadata": {
    "collapsed": false
   },
   "outputs": [],
   "source": [
    "from sklearn.neighbors import KernelDensity"
   ]
  },
  {
   "cell_type": "markdown",
   "metadata": {},
   "source": [
    "Calculate the Kernel Density Fit"
   ]
  },
  {
   "cell_type": "code",
   "execution_count": 111,
   "metadata": {
    "collapsed": false
   },
   "outputs": [],
   "source": [
    "data = np.array(df['LogRet']).reshape(-1,1)\n",
    "kde = KernelDensity(kernel='gaussian', bandwidth=0.02)\n",
    "kde.fit(data);"
   ]
  },
  {
   "cell_type": "code",
   "execution_count": 112,
   "metadata": {
    "collapsed": false
   },
   "outputs": [
    {
     "data": {
      "image/png": "[encoded data removed]",
      "text/plain": [
       "<matplotlib.figure.Figure at 0x113f6fd30>"
      ]
     },
     "metadata": {},
     "output_type": "display_data"
    }
   ],
   "source": [
    "fig, ax = plt.subplots(figsize=(10,5))\n",
    "ax.plot(np.arange(-0.4,0.4,0.001).reshape(-1,1),np.exp(kde.score_samples(np.arange(-0.4,0.4,0.001).reshape(-1,1))))\n",
    "ax.set_xlabel('Return');"
   ]
  },
  {
   "cell_type": "markdown",
   "metadata": {},
   "source": [
    "Parametric Density Estimation <br>\n",
    "import normal density function from scipy.stats"
   ]
  },
  {
   "cell_type": "code",
   "execution_count": 113,
   "metadata": {
    "collapsed": true
   },
   "outputs": [],
   "source": [
    "from scipy.stats import norm"
   ]
  },
  {
   "cell_type": "code",
   "execution_count": 114,
   "metadata": {
    "collapsed": false
   },
   "outputs": [],
   "source": [
    "mu = np.mean(data)\n",
    "vol = np.std(data)\n",
    "pctiles = np.arange(0,1,0.01)\n",
    "normal_pctiles = norm.ppf(pctiles, loc=mu, scale=vol)"
   ]
  },
  {
   "cell_type": "markdown",
   "metadata": {},
   "source": [
    "Find the percentiles from the \"real\" distribution (=non-parametric kernel)"
   ]
  },
  {
   "cell_type": "code",
   "execution_count": 115,
   "metadata": {
    "collapsed": true
   },
   "outputs": [],
   "source": [
    "N=10000\n",
    "# Sample 10.000 points from the kernel\n",
    "kernel_samples = kde.sample(n_samples=N,random_state=0)\n",
    "\n",
    "#calculate the kernels\n",
    "kernel_pctiles =np.percentile(kernel_samples,pctiles*100)"
   ]
  },
  {
   "cell_type": "code",
   "execution_count": 116,
   "metadata": {
    "collapsed": false
   },
   "outputs": [
    {
     "data": {
      "image/png": "[encoded data removed]",
      "text/plain": [
       "<matplotlib.figure.Figure at 0x114da4588>"
      ]
     },
     "metadata": {},
     "output_type": "display_data"
    }
   ],
   "source": [
    "fig, ax = plt.subplots(1,1,figsize=(6,6))\n",
    "\n",
    "ax.scatter(kernel_pctiles,normal_pctiles)\n",
    "ax.plot(np.array([-0.15,0.15]),np.array([-0.15,0.15]),'k',linewidth=0.5,linestyle='dashed')\n",
    "ax.set_xlim([-0.15,0.15])\n",
    "ax.set_ylim([-0.15,0.15])\n",
    "ax.set_xlabel('Non-Parametric')\n",
    "ax.set_ylabel('Gaussian');"
   ]
  },
  {
   "cell_type": "markdown",
   "metadata": {},
   "source": [
    "<h2>Introducing Laplace </h2>"
   ]
  },
  {
   "cell_type": "code",
   "execution_count": 117,
   "metadata": {
    "collapsed": true
   },
   "outputs": [],
   "source": [
    "from scipy.stats import laplace"
   ]
  },
  {
   "cell_type": "code",
   "execution_count": 118,
   "metadata": {
    "collapsed": true
   },
   "outputs": [],
   "source": [
    "laplace_pctiles = laplace.ppf(pctiles, loc=mu, scale=vol)"
   ]
  },
  {
   "cell_type": "code",
   "execution_count": 121,
   "metadata": {
    "collapsed": false
   },
   "outputs": [
    {
     "data": {
      "image/png": "[encoded data removed]",
      "text/plain": [
       "<matplotlib.figure.Figure at 0x113c00978>"
      ]
     },
     "metadata": {},
     "output_type": "display_data"
    }
   ],
   "source": [
    "fig, ax = plt.subplots(1,2,figsize=(12,6),sharey=True)\n",
    "\n",
    "ax[0].scatter(kernel_pctiles,normal_pctiles,label='Normal')\n",
    "ax[1].scatter(kernel_pctiles,laplace_pctiles,color='red',label='LaPlace',)\n",
    "ax[0].plot(np.array([-0.15,0.15]),np.array([-0.15,0.15]),'k',linewidth=0.5,linestyle='dashed')\n",
    "ax[1].plot(np.array([-0.15,0.15]),np.array([-0.15,0.15]),'k',linewidth=0.5,linestyle='dashed')\n",
    "ax[0].set_xlim([-0.15,0.15])\n",
    "ax[0].set_ylim([-0.15,0.15])\n",
    "ax[0].set_xlabel('Non-Parametric')\n",
    "ax[0].set_ylabel('Gaussian');\n",
    "ax[1].set_xlim([-0.15,0.15])\n",
    "ax[1].set_xlabel('Non-Parametric')\n",
    "ax[1].set_ylabel('LaPlace');"
   ]
  }
 ],
 "metadata": {
  "anaconda-cloud": {},
  "kernelspec": {
   "display_name": "Python [default]",
   "language": "python",
   "name": "python3"
  },
  "language_info": {
   "codemirror_mode": {
    "name": "ipython",
    "version": 3
   },
   "file_extension": ".py",
   "mimetype": "text/x-python",
   "name": "python",
   "nbconvert_exporter": "python",
   "pygments_lexer": "ipython3",
   "version": "3.5.2"
  }
 },
 "nbformat": 4,
 "nbformat_minor": 0
}
