{
 "cells": [
  {
   "cell_type": "markdown",
   "metadata": {},
   "source": [
    "Read the requered packages"
   ]
  },
  {
   "cell_type": "code",
   "execution_count": 1,
   "metadata": {
    "collapsed": true
   },
   "outputs": [],
   "source": [
    "import numpy as np\n",
    "import pandas as pd\n",
    "import matplotlib.pyplot as plt\n",
    "import sklearn.naive_bayes as sk\n",
    "%matplotlib inline"
   ]
  },
  {
   "cell_type": "markdown",
   "metadata": {},
   "source": [
    "Import Data from CSV File. The import takes place in two steps: first reading as pandas and in a second step transform into a numpy matrix/array"
   ]
  },
  {
   "cell_type": "code",
   "execution_count": 5,
   "metadata": {
    "collapsed": false
   },
   "outputs": [],
   "source": [
    "data=pd.read_csv('../../../Data/BayesData.csv')\n",
    "X = data.as_matrix()\n",
    "Y = X[:,-1]\n",
    "X = X[:,0:-1]\n",
    "index_name = data.columns[:-1]"
   ]
  },
  {
   "cell_type": "markdown",
   "metadata": {},
   "source": [
    "Declare the Gaussian Naive Bayes"
   ]
  },
  {
   "cell_type": "code",
   "execution_count": 7,
   "metadata": {
    "collapsed": false
   },
   "outputs": [
    {
     "data": {
      "text/plain": [
       "GaussianNB(priors=None)"
      ]
     },
     "execution_count": 7,
     "metadata": {},
     "output_type": "execute_result"
    }
   ],
   "source": [
    "nb = sk.GaussianNB()\n",
    "nb.fit(X,Y)"
   ]
  },
  {
   "cell_type": "markdown",
   "metadata": {},
   "source": [
    "Make prediction"
   ]
  },
  {
   "cell_type": "code",
   "execution_count": 16,
   "metadata": {
    "collapsed": false
   },
   "outputs": [
    {
     "name": "stdout",
     "output_type": "stream",
     "text": [
      "['yes']\n"
     ]
    }
   ],
   "source": [
    "x_input = np.array([2,0.05,3]).reshape((1,3))\n",
    "x_predict = nb.predict(x_input)\n",
    "print(x_predict)"
   ]
  },
  {
   "cell_type": "markdown",
   "metadata": {},
   "source": [
    "Inspecting the model"
   ]
  },
  {
   "cell_type": "code",
   "execution_count": 20,
   "metadata": {
    "collapsed": false
   },
   "outputs": [
    {
     "name": "stdout",
     "output_type": "stream",
     "text": [
      "The classes defined by the model\n",
      "['no' 'yes']\n"
     ]
    }
   ],
   "source": [
    "print('The classes defined by the model:')\n",
    "print(nb.classes_)"
   ]
  },
  {
   "cell_type": "code",
   "execution_count": 26,
   "metadata": {
    "collapsed": false
   },
   "outputs": [
    {
     "name": "stdout",
     "output_type": "stream",
     "text": [
      "Average Values in the class\n",
      "---------------------------\n",
      "Mean value for the data in for class = no\n",
      "[ 3.5      0.08625  0.94375]\n",
      "Mean value for the data in for class = yes\n",
      "[ 3.          0.05857143  2.35714286]\n",
      "\n",
      "Variance of the attributes in the class\n",
      "----------------------------------------------------\n",
      "Variance for the data in for class = no\n",
      "[  2.00000000e+00   1.29843970e-03   9.55898440e-01]\n",
      "Variance for the data in for class = yes\n",
      "[ 2.28571429  0.00281225  1.40816327]\n"
     ]
    }
   ],
   "source": [
    "print('Average Values in the class')\n",
    "print('---------------------------')\n",
    "for c,i in zip(nb.classes_,np.arange(0,len(nb.classes_),1)):\n",
    "    print('Mean value for the data in for class = {k:}'.format(k=c))\n",
    "    print(nb.theta_[i,:])\n",
    "print('\\nVariance of the attributes in the class')\n",
    "print('----------------------------------------------------')\n",
    "for c,i in zip(nb.classes_,np.arange(0,len(nb.classes_),1)):\n",
    "    print('Variance for the data in for class = {k:}'.format(k=c))\n",
    "    print(nb.sigma_[i,:])"
   ]
  },
  {
   "cell_type": "markdown",
   "metadata": {},
   "source": [
    "Probability for a negative age of the company"
   ]
  },
  {
   "cell_type": "code",
   "execution_count": 30,
   "metadata": {
    "collapsed": false
   },
   "outputs": [],
   "source": [
    "from scipy.stats import norm"
   ]
  },
  {
   "cell_type": "code",
   "execution_count": 37,
   "metadata": {
    "collapsed": false
   },
   "outputs": [
    {
     "name": "stdout",
     "output_type": "stream",
     "text": [
      "Probability to have negative age = 4.01%\n"
     ]
    }
   ],
   "source": [
    "print('Probability to have negative age = {p:0.2f}%'.format(p=100*norm.cdf(0,loc=3.5,scale=2.00)))"
   ]
  }
 ],
 "metadata": {
  "anaconda-cloud": {},
  "kernelspec": {
   "display_name": "Python [default]",
   "language": "python",
   "name": "python3"
  },
  "language_info": {
   "codemirror_mode": {
    "name": "ipython",
    "version": 3
   },
   "file_extension": ".py",
   "mimetype": "text/x-python",
   "name": "python",
   "nbconvert_exporter": "python",
   "pygments_lexer": "ipython3",
   "version": "3.5.2"
  }
 },
 "nbformat": 4,
 "nbformat_minor": 0
}
