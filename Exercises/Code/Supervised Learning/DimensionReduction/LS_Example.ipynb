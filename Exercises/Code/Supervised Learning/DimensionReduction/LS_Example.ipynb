{
 "cells": [
  {
   "cell_type": "code",
   "execution_count": 1,
   "metadata": {
    "collapsed": true
   },
   "outputs": [],
   "source": [
    "import numpy as np\n",
    "import pandas as pd\n",
    "from sklearn import linear_model\n",
    "import matplotlib.pyplot as plt\n",
    "%matplotlib inline"
   ]
  },
  {
   "cell_type": "markdown",
   "metadata": {},
   "source": [
    "Read the data"
   ]
  },
  {
   "cell_type": "code",
   "execution_count": 2,
   "metadata": {
    "collapsed": false
   },
   "outputs": [
    {
     "data": {
      "text/html": [
       "<div>\n",
       "<table border=\"1\" class=\"dataframe\">\n",
       "  <thead>\n",
       "    <tr style=\"text-align: right;\">\n",
       "      <th></th>\n",
       "      <th>DAX</th>\n",
       "      <th>NKY</th>\n",
       "      <th>SPX</th>\n",
       "      <th>SX5E</th>\n",
       "      <th>SX7E</th>\n",
       "      <th>SXAP</th>\n",
       "      <th>SXKP</th>\n",
       "      <th>PORTFOLIO</th>\n",
       "    </tr>\n",
       "    <tr>\n",
       "      <th>T</th>\n",
       "      <th></th>\n",
       "      <th></th>\n",
       "      <th></th>\n",
       "      <th></th>\n",
       "      <th></th>\n",
       "      <th></th>\n",
       "      <th></th>\n",
       "      <th></th>\n",
       "    </tr>\n",
       "  </thead>\n",
       "  <tbody>\n",
       "    <tr>\n",
       "      <th>2014-10-08</th>\n",
       "      <td>-0.00437</td>\n",
       "      <td>-0.00520</td>\n",
       "      <td>0.00752</td>\n",
       "      <td>-0.00408</td>\n",
       "      <td>-0.00456</td>\n",
       "      <td>-0.00751</td>\n",
       "      <td>-0.00297</td>\n",
       "      <td>-0.00325</td>\n",
       "    </tr>\n",
       "    <tr>\n",
       "      <th>2014-10-09</th>\n",
       "      <td>0.00047</td>\n",
       "      <td>-0.00327</td>\n",
       "      <td>-0.00907</td>\n",
       "      <td>-0.00155</td>\n",
       "      <td>-0.00464</td>\n",
       "      <td>0.00024</td>\n",
       "      <td>-0.00558</td>\n",
       "      <td>-0.00562</td>\n",
       "    </tr>\n",
       "    <tr>\n",
       "      <th>2014-10-14</th>\n",
       "      <td>0.00179</td>\n",
       "      <td>-0.01046</td>\n",
       "      <td>-0.00653</td>\n",
       "      <td>0.00138</td>\n",
       "      <td>0.00075</td>\n",
       "      <td>0.01232</td>\n",
       "      <td>-0.00130</td>\n",
       "      <td>-0.01723</td>\n",
       "    </tr>\n",
       "    <tr>\n",
       "      <th>2014-10-15</th>\n",
       "      <td>-0.01265</td>\n",
       "      <td>0.00397</td>\n",
       "      <td>-0.00353</td>\n",
       "      <td>-0.01598</td>\n",
       "      <td>-0.02159</td>\n",
       "      <td>-0.01331</td>\n",
       "      <td>-0.01484</td>\n",
       "      <td>-0.00118</td>\n",
       "    </tr>\n",
       "    <tr>\n",
       "      <th>2014-10-16</th>\n",
       "      <td>0.00055</td>\n",
       "      <td>-0.00976</td>\n",
       "      <td>0.00006</td>\n",
       "      <td>-0.00270</td>\n",
       "      <td>-0.00929</td>\n",
       "      <td>0.00638</td>\n",
       "      <td>-0.00521</td>\n",
       "      <td>-0.00183</td>\n",
       "    </tr>\n",
       "  </tbody>\n",
       "</table>\n",
       "</div>"
      ],
      "text/plain": [
       "                DAX      NKY      SPX     SX5E     SX7E     SXAP     SXKP  \\\n",
       "T                                                                           \n",
       "2014-10-08 -0.00437 -0.00520  0.00752 -0.00408 -0.00456 -0.00751 -0.00297   \n",
       "2014-10-09  0.00047 -0.00327 -0.00907 -0.00155 -0.00464  0.00024 -0.00558   \n",
       "2014-10-14  0.00179 -0.01046 -0.00653  0.00138  0.00075  0.01232 -0.00130   \n",
       "2014-10-15 -0.01265  0.00397 -0.00353 -0.01598 -0.02159 -0.01331 -0.01484   \n",
       "2014-10-16  0.00055 -0.00976  0.00006 -0.00270 -0.00929  0.00638 -0.00521   \n",
       "\n",
       "            PORTFOLIO  \n",
       "T                      \n",
       "2014-10-08   -0.00325  \n",
       "2014-10-09   -0.00562  \n",
       "2014-10-14   -0.01723  \n",
       "2014-10-15   -0.00118  \n",
       "2014-10-16   -0.00183  "
      ]
     },
     "execution_count": 2,
     "metadata": {},
     "output_type": "execute_result"
    }
   ],
   "source": [
    "#read csv file\n",
    "portfolio = pd.read_csv('../../../Data/Portfolio.csv',parse_dates=True,index_col='T')\n",
    "portfolio.head()"
   ]
  },
  {
   "cell_type": "code",
   "execution_count": 3,
   "metadata": {
    "collapsed": false
   },
   "outputs": [],
   "source": [
    "#tranform this into a matrix\n",
    "X = portfolio.as_matrix()\n",
    "\n",
    "#the last column is the target (portfolio return)\n",
    "Y = X[:,-1]\n",
    "\n",
    "#create the design matrix2\n",
    "X = X[:,0:-1]\n",
    "\n",
    "index_name = portfolio.columns[:-1]"
   ]
  },
  {
   "cell_type": "markdown",
   "metadata": {},
   "source": [
    "Declear the linear regression model. In this example, we are not using an intercept"
   ]
  },
  {
   "cell_type": "code",
   "execution_count": 22,
   "metadata": {
    "collapsed": false
   },
   "outputs": [
    {
     "name": "stdout",
     "output_type": "stream",
     "text": [
      "R_squared = 0.57\n",
      "\n",
      "Coefficient for DAX: 0.32  \n",
      "Coefficient for NKY: 0.40  \n",
      "Coefficient for SPX: 0.39  \n",
      "Coefficient for SX5E: -0.14  \n",
      "Coefficient for SX7E: 0.19  \n",
      "Coefficient for SXAP: -0.24  \n",
      "Coefficient for SXKP: 0.35  \n",
      "\n",
      "The futures-hedges represent a gross exposure equal to 203.34 %\n",
      "Net exposure is 127.77\n"
     ]
    }
   ],
   "source": [
    "#setting up the model\n",
    "ols_model = linear_model.LinearRegression(fit_intercept=False)\n",
    "ols_model.fit(X,Y)\n",
    "\n",
    "#evaluating the model\n",
    "print('R_squared = {s:0.2f}\\n'.format(s=ols_model.score(X,Y)))\n",
    "\n",
    "i = 0\n",
    "for c in ols_model.coef_:\n",
    "    print('Coefficient for ' + portfolio.columns[i] + ': {d:0.2f}  '.format(d=c))\n",
    "    i+=1\n",
    "\n",
    "print('\\nThe futures-hedges represent a gross exposure equal to {g:0.2f} %'.format(g=np.sum(np.abs(ols_model.coef_))*100))\n",
    "print('Net exposure is {g:0.2f}'.format(g=100*np.sum(ols_model.coef_)))"
   ]
  },
  {
   "cell_type": "raw",
   "metadata": {},
   "source": [
    "Once fit, the model can be used to do predictions"
   ]
  },
  {
   "cell_type": "code",
   "execution_count": 16,
   "metadata": {
    "collapsed": false
   },
   "outputs": [
    {
     "name": "stdout",
     "output_type": "stream",
     "text": [
      "0.0443910075655\n"
     ]
    }
   ],
   "source": [
    "#using the function to estimate the portfolio return\n",
    "X_test = np.array([0.01 , 0.01, 0.02 , -0.05 , 0.0, 0.01,0.07]).reshape((1,len(ols_model.coef_)))\n",
    "Y_test = ols_model.predict(X_test)\n",
    "print(Y_test[0])"
   ]
  },
  {
   "cell_type": "code",
   "execution_count": 23,
   "metadata": {
    "collapsed": false
   },
   "outputs": [
    {
     "data": {
      "image/png": "[encoded data removed]",
      "text/plain": [
       "<matplotlib.figure.Figure at 0x112df6860>"
      ]
     },
     "metadata": {},
     "output_type": "display_data"
    }
   ],
   "source": [
    "\n",
    "plt.figure(figsize=(10,10))\n",
    "y_pos = np.arange(len(index_name))\n",
    "hedge = ols_model.coef_\n",
    "plt.barh(bottom=y_pos, width=hedge*100, align='center', alpha=0.4)\n",
    "plt.yticks(y_pos, index_name)\n",
    "plt.xlabel('Hedge Ratio (%)')\n",
    "plt.title('Hedging Portfolio');\n"
   ]
  }
 ],
 "metadata": {
  "anaconda-cloud": {},
  "kernelspec": {
   "display_name": "Python [default]",
   "language": "python",
   "name": "python3"
  },
  "language_info": {
   "codemirror_mode": {
    "name": "ipython",
    "version": 3
   },
   "file_extension": ".py",
   "mimetype": "text/x-python",
   "name": "python",
   "nbconvert_exporter": "python",
   "pygments_lexer": "ipython3",
   "version": "3.5.2"
  }
 },
 "nbformat": 4,
 "nbformat_minor": 0
}
