{
 "cells": [
  {
   "cell_type": "code",
   "execution_count": 1,
   "metadata": {
    "collapsed": true
   },
   "outputs": [],
   "source": [
    "import pandas as pd\n",
    "import numpy as np\n",
    "import datetime as dt\n",
    "import matplotlib.pyplot as plt\n",
    "from pandas_datareader import data"
   ]
  },
  {
   "cell_type": "code",
   "execution_count": 2,
   "metadata": {
    "collapsed": false
   },
   "outputs": [
    {
     "data": {
      "text/html": [
       "<div>\n",
       "<table border=\"1\" class=\"dataframe\">\n",
       "  <thead>\n",
       "    <tr style=\"text-align: right;\">\n",
       "      <th></th>\n",
       "      <th>Open</th>\n",
       "      <th>High</th>\n",
       "      <th>Low</th>\n",
       "      <th>Close</th>\n",
       "      <th>Volume</th>\n",
       "      <th>Adj Close</th>\n",
       "    </tr>\n",
       "    <tr>\n",
       "      <th>Date</th>\n",
       "      <th></th>\n",
       "      <th></th>\n",
       "      <th></th>\n",
       "      <th></th>\n",
       "      <th></th>\n",
       "      <th></th>\n",
       "    </tr>\n",
       "  </thead>\n",
       "  <tbody>\n",
       "    <tr>\n",
       "      <th>2015-01-02</th>\n",
       "      <td>25.340000</td>\n",
       "      <td>25.459999</td>\n",
       "      <td>24.870001</td>\n",
       "      <td>25.059999</td>\n",
       "      <td>40920800</td>\n",
       "      <td>24.030339</td>\n",
       "    </tr>\n",
       "    <tr>\n",
       "      <th>2015-01-05</th>\n",
       "      <td>25.010000</td>\n",
       "      <td>25.010000</td>\n",
       "      <td>24.520000</td>\n",
       "      <td>24.600000</td>\n",
       "      <td>42033200</td>\n",
       "      <td>23.589240</td>\n",
       "    </tr>\n",
       "    <tr>\n",
       "      <th>2015-01-06</th>\n",
       "      <td>24.459999</td>\n",
       "      <td>24.570000</td>\n",
       "      <td>23.930000</td>\n",
       "      <td>24.070000</td>\n",
       "      <td>63760000</td>\n",
       "      <td>23.081016</td>\n",
       "    </tr>\n",
       "    <tr>\n",
       "      <th>2015-01-07</th>\n",
       "      <td>24.209999</td>\n",
       "      <td>24.389999</td>\n",
       "      <td>23.980000</td>\n",
       "      <td>24.080000</td>\n",
       "      <td>43642500</td>\n",
       "      <td>23.090606</td>\n",
       "    </tr>\n",
       "    <tr>\n",
       "      <th>2015-01-08</th>\n",
       "      <td>24.320000</td>\n",
       "      <td>24.379999</td>\n",
       "      <td>24.129999</td>\n",
       "      <td>24.370001</td>\n",
       "      <td>43224400</td>\n",
       "      <td>23.368691</td>\n",
       "    </tr>\n",
       "  </tbody>\n",
       "</table>\n",
       "</div>"
      ],
      "text/plain": [
       "                 Open       High        Low      Close    Volume  Adj Close\n",
       "Date                                                                       \n",
       "2015-01-02  25.340000  25.459999  24.870001  25.059999  40920800  24.030339\n",
       "2015-01-05  25.010000  25.010000  24.520000  24.600000  42033200  23.589240\n",
       "2015-01-06  24.459999  24.570000  23.930000  24.070000  63760000  23.081016\n",
       "2015-01-07  24.209999  24.389999  23.980000  24.080000  43642500  23.090606\n",
       "2015-01-08  24.320000  24.379999  24.129999  24.370001  43224400  23.368691"
      ]
     },
     "execution_count": 2,
     "metadata": {},
     "output_type": "execute_result"
    }
   ],
   "source": [
    "#Reading market data for General Electric\n",
    "start = dt.datetime(2015, 1, 1)\n",
    "end = dt.datetime(2016,1,1) \n",
    "ticker= 'GE'\n",
    "df = data.get_data_yahoo(ticker,start,end)\n",
    "df.head()"
   ]
  },
  {
   "cell_type": "code",
   "execution_count": 158,
   "metadata": {
    "collapsed": false
   },
   "outputs": [
    {
     "name": "stdout",
     "output_type": "stream",
     "text": [
      "Highest Close:31.280001\n"
     ]
    }
   ],
   "source": [
    "#finding the maximum closing proce\n",
    "max_close = df['Close'].max()\n",
    "print('Highest Close:' + str(max_close  ))"
   ]
  },
  {
   "cell_type": "code",
   "execution_count": 159,
   "metadata": {
    "collapsed": false
   },
   "outputs": [
    {
     "data": {
      "text/html": [
       "<div>\n",
       "<table border=\"1\" class=\"dataframe\">\n",
       "  <thead>\n",
       "    <tr style=\"text-align: right;\">\n",
       "      <th></th>\n",
       "      <th>Open</th>\n",
       "      <th>High</th>\n",
       "      <th>Low</th>\n",
       "      <th>Close</th>\n",
       "      <th>Volume</th>\n",
       "      <th>Adj Close</th>\n",
       "      <th>Diff</th>\n",
       "    </tr>\n",
       "    <tr>\n",
       "      <th>Date</th>\n",
       "      <th></th>\n",
       "      <th></th>\n",
       "      <th></th>\n",
       "      <th></th>\n",
       "      <th></th>\n",
       "      <th></th>\n",
       "      <th></th>\n",
       "    </tr>\n",
       "  </thead>\n",
       "  <tbody>\n",
       "    <tr>\n",
       "      <th>2015-08-25</th>\n",
       "      <td>24.730000</td>\n",
       "      <td>24.740000</td>\n",
       "      <td>23.270000</td>\n",
       "      <td>23.270000</td>\n",
       "      <td>60778000</td>\n",
       "      <td>22.892367</td>\n",
       "      <td>1.460000</td>\n",
       "    </tr>\n",
       "    <tr>\n",
       "      <th>2015-04-10</th>\n",
       "      <td>27.129999</td>\n",
       "      <td>28.680000</td>\n",
       "      <td>27.000000</td>\n",
       "      <td>28.510000</td>\n",
       "      <td>352701900</td>\n",
       "      <td>27.810774</td>\n",
       "      <td>1.380001</td>\n",
       "    </tr>\n",
       "    <tr>\n",
       "      <th>2015-08-24</th>\n",
       "      <td>22.840000</td>\n",
       "      <td>24.040001</td>\n",
       "      <td>19.370001</td>\n",
       "      <td>23.870001</td>\n",
       "      <td>91236500</td>\n",
       "      <td>23.482631</td>\n",
       "      <td>1.030001</td>\n",
       "    </tr>\n",
       "    <tr>\n",
       "      <th>2015-09-09</th>\n",
       "      <td>25.200001</td>\n",
       "      <td>25.219999</td>\n",
       "      <td>24.480000</td>\n",
       "      <td>24.549999</td>\n",
       "      <td>34611200</td>\n",
       "      <td>24.151594</td>\n",
       "      <td>0.650002</td>\n",
       "    </tr>\n",
       "    <tr>\n",
       "      <th>2015-04-09</th>\n",
       "      <td>25.090000</td>\n",
       "      <td>25.830000</td>\n",
       "      <td>24.920000</td>\n",
       "      <td>25.730000</td>\n",
       "      <td>60149900</td>\n",
       "      <td>25.098955</td>\n",
       "      <td>0.640000</td>\n",
       "    </tr>\n",
       "  </tbody>\n",
       "</table>\n",
       "</div>"
      ],
      "text/plain": [
       "                 Open       High        Low      Close     Volume  Adj Close  \\\n",
       "Date                                                                           \n",
       "2015-08-25  24.730000  24.740000  23.270000  23.270000   60778000  22.892367   \n",
       "2015-04-10  27.129999  28.680000  27.000000  28.510000  352701900  27.810774   \n",
       "2015-08-24  22.840000  24.040001  19.370001  23.870001   91236500  23.482631   \n",
       "2015-09-09  25.200001  25.219999  24.480000  24.549999   34611200  24.151594   \n",
       "2015-04-09  25.090000  25.830000  24.920000  25.730000   60149900  25.098955   \n",
       "\n",
       "                Diff  \n",
       "Date                  \n",
       "2015-08-25  1.460000  \n",
       "2015-04-10  1.380001  \n",
       "2015-08-24  1.030001  \n",
       "2015-09-09  0.650002  \n",
       "2015-04-09  0.640000  "
      ]
     },
     "execution_count": 159,
     "metadata": {},
     "output_type": "execute_result"
    }
   ],
   "source": [
    "#find the day where the difference betwwen Open en Close is the largest\n",
    "df['Diff'] = df['Close']-df['Open']\n",
    "df['Diff'] = df['Diff'].apply(np.abs)\n",
    "df.sort_values(by='Diff',ascending=False,inplace=True)\n",
    "df.head(5)"
   ]
  },
  {
   "cell_type": "code",
   "execution_count": 160,
   "metadata": {
    "collapsed": false
   },
   "outputs": [
    {
     "data": {
      "text/html": [
       "<div>\n",
       "<table border=\"1\" class=\"dataframe\">\n",
       "  <thead>\n",
       "    <tr style=\"text-align: right;\">\n",
       "      <th></th>\n",
       "      <th>Open</th>\n",
       "      <th>High</th>\n",
       "      <th>Low</th>\n",
       "      <th>Close</th>\n",
       "      <th>Volume</th>\n",
       "      <th>Adj Close</th>\n",
       "      <th>Diff</th>\n",
       "    </tr>\n",
       "    <tr>\n",
       "      <th>Date</th>\n",
       "      <th></th>\n",
       "      <th></th>\n",
       "      <th></th>\n",
       "      <th></th>\n",
       "      <th></th>\n",
       "      <th></th>\n",
       "      <th></th>\n",
       "    </tr>\n",
       "  </thead>\n",
       "  <tbody>\n",
       "    <tr>\n",
       "      <th>2015-08-25</th>\n",
       "      <td>24.730000</td>\n",
       "      <td>24.740000</td>\n",
       "      <td>23.270000</td>\n",
       "      <td>23.270000</td>\n",
       "      <td>60778000</td>\n",
       "      <td>22.892367</td>\n",
       "      <td>1.460000</td>\n",
       "    </tr>\n",
       "    <tr>\n",
       "      <th>2015-04-10</th>\n",
       "      <td>27.129999</td>\n",
       "      <td>28.680000</td>\n",
       "      <td>27.000000</td>\n",
       "      <td>28.510000</td>\n",
       "      <td>352701900</td>\n",
       "      <td>27.810774</td>\n",
       "      <td>1.380001</td>\n",
       "    </tr>\n",
       "    <tr>\n",
       "      <th>2015-08-24</th>\n",
       "      <td>22.840000</td>\n",
       "      <td>24.040001</td>\n",
       "      <td>19.370001</td>\n",
       "      <td>23.870001</td>\n",
       "      <td>91236500</td>\n",
       "      <td>23.482631</td>\n",
       "      <td>1.030001</td>\n",
       "    </tr>\n",
       "  </tbody>\n",
       "</table>\n",
       "</div>"
      ],
      "text/plain": [
       "                 Open       High        Low      Close     Volume  Adj Close  \\\n",
       "Date                                                                           \n",
       "2015-08-25  24.730000  24.740000  23.270000  23.270000   60778000  22.892367   \n",
       "2015-04-10  27.129999  28.680000  27.000000  28.510000  352701900  27.810774   \n",
       "2015-08-24  22.840000  24.040001  19.370001  23.870001   91236500  23.482631   \n",
       "\n",
       "                Diff  \n",
       "Date                  \n",
       "2015-08-25  1.460000  \n",
       "2015-04-10  1.380001  \n",
       "2015-08-24  1.030001  "
      ]
     },
     "execution_count": 160,
     "metadata": {},
     "output_type": "execute_result"
    }
   ],
   "source": [
    "#find the days where the difference between open and close > 1USD\n",
    "idx = df['Diff'] > 1\n",
    "df.loc[idx,:]"
   ]
  },
  {
   "cell_type": "code",
   "execution_count": 161,
   "metadata": {
    "collapsed": true
   },
   "outputs": [],
   "source": [
    "#difference in daily return between GE and Ford\n",
    "df_GE = df['Close']\n",
    "df_F = data.get_data_yahoo('F',start,end)['Close']\n",
    "df_combined = pd.concat([df_GE,df_F],axis=1,keys = ['GE','F'])\n",
    "df_combined_pctge = df_combined.pct_change(periods=1)"
   ]
  },
  {
   "cell_type": "code",
   "execution_count": 162,
   "metadata": {
    "collapsed": false
   },
   "outputs": [
    {
     "name": "stdout",
     "output_type": "stream",
     "text": [
      "0.00964534552894\n",
      "0.00964534552894\n"
     ]
    }
   ],
   "source": [
    "#find the average : which of the two methods do you prefer\n",
    "print(np.mean(np.abs(df_combined_pctge['GE']-df_combined_pctge['F'])))\n",
    "\n",
    "print((df_combined_pctge['GE']-df_combined_pctge['F']).apply(np.abs).mean())"
   ]
  },
  {
   "cell_type": "code",
   "execution_count": 163,
   "metadata": {
    "collapsed": false
   },
   "outputs": [
    {
     "data": {
      "text/plain": [
       "<matplotlib.axes._subplots.AxesSubplot at 0x12c4a7c18>"
      ]
     },
     "execution_count": 163,
     "metadata": {},
     "output_type": "execute_result"
    },
    {
     "data": {
      "image/png": "[encoded data removed]",
      "text/plain": [
       "<matplotlib.figure.Figure at 0x12c47db70>"
      ]
     },
     "metadata": {},
     "output_type": "display_data"
    }
   ],
   "source": [
    "#plot a graph of F vs GE (starting in 100)\n",
    "%matplotlib inline\n",
    "df_combined = pd.concat([df_GE,df_F],axis=1,keys = ['GE','F'])\n",
    "df_combined['GE Price'] = 100*df_combined['GE']/df_combined.ix[0,'GE']\n",
    "df_combined['F Price'] = 100*df_combined['F']/df_combined.ix[0,'F']\n",
    "df_combined.plot(kind='line',y=['GE Price','F Price'],use_index=True,figsize=(8,8))\n"
   ]
  },
  {
   "cell_type": "code",
   "execution_count": 164,
   "metadata": {
    "collapsed": false
   },
   "outputs": [],
   "source": [
    "#creating buckets of data\n",
    "minvalue = np.min(np.round(df_combined['GE'].pct_change(periods=1),2).min(),\n",
    "                  np.round(df_combined['F'].pct_change(periods=1),2).min() )\n",
    "maxvalue = np.max(np.round(df_combined['GE'].pct_change(periods=1),2).max(),\n",
    "                  np.round(df_combined['F'].pct_change(periods=1),2).max() )\n",
    "bucket_width = 0.02\n",
    "buckets = np.arange(minvalue,maxvalue,bucket_width)\n",
    "buckets =np.append(buckets,maxvalue)"
   ]
  },
  {
   "cell_type": "code",
   "execution_count": 128,
   "metadata": {
    "collapsed": false
   },
   "outputs": [
    {
     "data": {
      "text/html": [
       "<div>\n",
       "<table border=\"1\" class=\"dataframe\">\n",
       "  <thead>\n",
       "    <tr style=\"text-align: right;\">\n",
       "      <th></th>\n",
       "      <th>GE</th>\n",
       "      <th>F</th>\n",
       "    </tr>\n",
       "    <tr>\n",
       "      <th>GE</th>\n",
       "      <th></th>\n",
       "      <th></th>\n",
       "    </tr>\n",
       "  </thead>\n",
       "  <tbody>\n",
       "    <tr>\n",
       "      <th>[-0.04, -0.02]</th>\n",
       "      <td>14</td>\n",
       "      <td>16</td>\n",
       "    </tr>\n",
       "    <tr>\n",
       "      <th>(-0.02, 0]</th>\n",
       "      <td>99</td>\n",
       "      <td>117</td>\n",
       "    </tr>\n",
       "    <tr>\n",
       "      <th>(0, 0.02]</th>\n",
       "      <td>124</td>\n",
       "      <td>99</td>\n",
       "    </tr>\n",
       "    <tr>\n",
       "      <th>(0.02, 0.04]</th>\n",
       "      <td>11</td>\n",
       "      <td>17</td>\n",
       "    </tr>\n",
       "    <tr>\n",
       "      <th>(0.04, 0.06]</th>\n",
       "      <td>2</td>\n",
       "      <td>0</td>\n",
       "    </tr>\n",
       "    <tr>\n",
       "      <th>(0.06, 0.08]</th>\n",
       "      <td>0</td>\n",
       "      <td>0</td>\n",
       "    </tr>\n",
       "    <tr>\n",
       "      <th>(0.08, 0.1]</th>\n",
       "      <td>0</td>\n",
       "      <td>0</td>\n",
       "    </tr>\n",
       "    <tr>\n",
       "      <th>(0.1, 0.11]</th>\n",
       "      <td>1</td>\n",
       "      <td>0</td>\n",
       "    </tr>\n",
       "  </tbody>\n",
       "</table>\n",
       "</div>"
      ],
      "text/plain": [
       "                 GE    F\n",
       "GE                      \n",
       "[-0.04, -0.02]   14   16\n",
       "(-0.02, 0]       99  117\n",
       "(0, 0.02]       124   99\n",
       "(0.02, 0.04]     11   17\n",
       "(0.04, 0.06]      2    0\n",
       "(0.06, 0.08]      0    0\n",
       "(0.08, 0.1]       0    0\n",
       "(0.1, 0.11]       1    0"
      ]
     },
     "execution_count": 128,
     "metadata": {},
     "output_type": "execute_result"
    }
   ],
   "source": [
    "#grouping data into bins\n",
    "Bins_GE = pd.cut(df_combined['GE'].pct_change(periods=1),bins=buckets,include_lowest=True)\n",
    "Bins_GE.name = 'GE Bins'\n",
    "Bins_F = pd.cut(df_combined['F'].pct_change(periods=1),bins=buckets,include_lowest=True)\n",
    "Bins_F.name = 'F Bins'\n",
    "df_Bins = pd.concat([Bins_GE,Bins_F],axis=1,keys=['GE','F'])\n",
    "pd.concat([df_Bins.groupby('GE')['GE'].count(),df_Bins.groupby('F')['F'].count()],axis=1,keys=['GE','F'])"
   ]
  },
  {
   "cell_type": "code",
   "execution_count": 169,
   "metadata": {
    "collapsed": false
   },
   "outputs": [
    {
     "name": "stdout",
     "output_type": "stream",
     "text": [
      "Volatility: 0.220710554733\n"
     ]
    }
   ],
   "source": [
    "#Calculating the Volatility \n",
    "df = data.get_data_yahoo('GE',start,end)['Close']\n",
    "logreturns = np.log(df / df.shift(1))\n",
    "print('Volatility: ' + str(np.sqrt(252*logreturns.var())))"
   ]
  },
  {
   "cell_type": "code",
   "execution_count": 179,
   "metadata": {
    "collapsed": false
   },
   "outputs": [
    {
     "name": "stdout",
     "output_type": "stream",
     "text": [
      "Closing Prices\n",
      "                F         GE       MSFT\n",
      "Date                                   \n",
      "2015-01-02  15.36  25.059999  46.759998\n",
      "2015-01-05  14.76  24.600000  46.330002\n",
      "2015-01-06  14.62  24.070000  45.650002\n",
      "2015-01-07  15.04  24.080000  46.230000\n",
      "2015-01-08  15.42  24.370001  47.590000\n",
      "Daily Log Returns\n",
      "                   F        GE      MSFT\n",
      "Date                                    \n",
      "2015-01-02       NaN       NaN       NaN\n",
      "2015-01-05 -0.039846 -0.018526 -0.009238\n",
      "2015-01-06 -0.009530 -0.021780 -0.014786\n",
      "2015-01-07  0.028323  0.000415  0.012625\n",
      "2015-01-08  0.024952  0.011971  0.028994\n",
      "Correlation Matri\n",
      "             F        GE      MSFT\n",
      "F     1.000000  0.527581  0.489760\n",
      "GE    0.527581  1.000000  0.457674\n",
      "MSFT  0.489760  0.457674  1.000000\n"
     ]
    }
   ],
   "source": [
    "#calculating correlations between GE , F and MSFT\n",
    "df = data.get_data_yahoo(['GE','F','MSFT'],start,end)['Close']\n",
    "logreturns = np.log(df / df.shift(1))\n",
    "print('Closing Prices')\n",
    "print(df.head())\n",
    "print('Daily Log Returns')\n",
    "print(logreturns.head())\n",
    "print('Correlation Matri')\n",
    "print(logreturns.corr())"
   ]
  }
 ],
 "metadata": {
  "kernelspec": {
   "display_name": "Python 3",
   "language": "python",
   "name": "python3"
  },
  "language_info": {
   "codemirror_mode": {
    "name": "ipython",
    "version": 3
   },
   "file_extension": ".py",
   "mimetype": "text/x-python",
   "name": "python",
   "nbconvert_exporter": "python",
   "pygments_lexer": "ipython3",
   "version": "3.4.4"
  }
 },
 "nbformat": 4,
 "nbformat_minor": 0
}
