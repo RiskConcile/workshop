{
 "cells": [
  {
   "cell_type": "markdown",
   "metadata": {},
   "source": [
    "<b>Contining the previous notebook...</b>"
   ]
  },
  {
   "cell_type": "code",
   "execution_count": 1,
   "metadata": {},
   "outputs": [
    {
     "name": "stderr",
     "output_type": "stream",
     "text": [
      "Using TensorFlow backend.\n"
     ]
    },
    {
     "name": "stdout",
     "output_type": "stream",
     "text": [
      "dimensions input: 61878 (observations) x 93 (features)\n",
      "Nbr of classes: 9\n",
      "_________________________________________________________________\n",
      "Layer (type)                 Output Shape              Param #   \n",
      "=================================================================\n",
      "dense_1 (Dense)              (None, 9)                 846       \n",
      "_________________________________________________________________\n",
      "activation_1 (Activation)    (None, 9)                 0         \n",
      "=================================================================\n",
      "Total params: 846\n",
      "Trainable params: 846\n",
      "Non-trainable params: 0\n",
      "_________________________________________________________________\n",
      "Epoch 1/1\n",
      "61878/61878 [==============================] - 2s 35us/step - loss: 1.9792\n",
      "Predicted class 5\n",
      "Predicted probabilities [0.11235484 0.07289425 0.08437053 0.10120966 0.12639445 0.15881954\n",
      " 0.14052781 0.10988595 0.09354294]\n",
      "Nbr of samples in test: 144368\n",
      "1\n",
      "[0.0938563  0.20213217 0.18350731 0.08050612 0.09798956 0.0814905\n",
      " 0.08999772 0.07629865 0.0942217 ]\n"
     ]
    },
    {
     "name": "stderr",
     "output_type": "stream",
     "text": [
      "/Users/jandespiegeleer/.pyenv/versions/3.6.5/envs/seminar/lib/python3.6/site-packages/sklearn/preprocessing/label.py:151: DeprecationWarning: The truth value of an empty array is ambiguous. Returning False, but in future this will result in an error. Use `array.size > 0` to check that an array is not empty.\n",
      "  if diff:\n"
     ]
    },
    {
     "data": {
      "image/png": "[encoded data removed]",
      "text/plain": [
       "<Figure size 432x288 with 1 Axes>"
      ]
     },
     "metadata": {},
     "output_type": "display_data"
    }
   ],
   "source": [
    "import warnings\n",
    "warnings.filterwarnings(\"ignore\")\n",
    "%run ottogroup_initial.ipynb"
   ]
  },
  {
   "cell_type": "markdown",
   "metadata": {},
   "source": [
    "<h3>Splitting the training data</h3> into training (85%) and test (15%) using the <b>train_test_split</b> method of the sklearn.model_selection module."
   ]
  },
  {
   "cell_type": "code",
   "execution_count": 2,
   "metadata": {},
   "outputs": [],
   "source": [
    "from sklearn.model_selection import train_test_split"
   ]
  },
  {
   "cell_type": "code",
   "execution_count": 3,
   "metadata": {},
   "outputs": [],
   "source": [
    "X_train, X_val, Y_train, Y_val = train_test_split(X_train, Y_train,\n",
    "                                                  test_size=0.15, random_state=42)"
   ]
  },
  {
   "cell_type": "code",
   "execution_count": 4,
   "metadata": {},
   "outputs": [
    {
     "name": "stdout",
     "output_type": "stream",
     "text": [
      "Nbr of samples in training: 52596\n",
      "Nbr of sample in test: 9282\n"
     ]
    }
   ],
   "source": [
    "print('Nbr of samples in training:',X_train.shape[0])\n",
    "print('Nbr of sample in test:',X_val.shape[0])"
   ]
  },
  {
   "cell_type": "markdown",
   "metadata": {},
   "source": [
    "In the fit method of the model we can now pass both training / test data.<br>\n",
    "The <b>batch size</b> is set to 128. This means that the weights are only changed after processing 128 items in the list.<br>\n",
    "The <b>epoch</b> is set to 5, which means that the whole data-set passes 5 times through the backpropagation."
   ]
  },
  {
   "cell_type": "code",
   "execution_count": 5,
   "metadata": {},
   "outputs": [
    {
     "name": "stdout",
     "output_type": "stream",
     "text": [
      "Train on 52596 samples, validate on 9282 samples\n",
      "Epoch 1/5\n",
      "52596/52596 [==============================] - 1s 12us/step - loss: 1.8651 - val_loss: 1.8501\n",
      "Epoch 2/5\n",
      "52596/52596 [==============================] - 1s 11us/step - loss: 1.8464 - val_loss: 1.8331\n",
      "Epoch 3/5\n",
      "52596/52596 [==============================] - 1s 11us/step - loss: 1.8308 - val_loss: 1.8186\n",
      "Epoch 4/5\n",
      "52596/52596 [==============================] - 1s 11us/step - loss: 1.8172 - val_loss: 1.8060\n",
      "Epoch 5/5\n",
      "52596/52596 [==============================] - 1s 11us/step - loss: 1.8053 - val_loss: 1.7947\n"
     ]
    },
    {
     "data": {
      "text/plain": [
       "<keras.callbacks.History at 0x11ea90588>"
      ]
     },
     "execution_count": 5,
     "metadata": {},
     "output_type": "execute_result"
    }
   ],
   "source": [
    "model.fit(X_train, Y_train, \n",
    "          validation_data = (X_val, Y_val),\n",
    "          epochs=5,verbose=True,batch_size=128 ) "
   ]
  },
  {
   "cell_type": "markdown",
   "metadata": {},
   "source": [
    "<h4>Adding Callback</h4>\n",
    "Adding callback function "
   ]
  },
  {
   "cell_type": "code",
   "execution_count": 6,
   "metadata": {},
   "outputs": [],
   "source": [
    "from keras.callbacks import EarlyStopping, ModelCheckpoint"
   ]
  },
  {
   "cell_type": "markdown",
   "metadata": {},
   "source": [
    "<b>Callback:Early Stopping</b><br>\n",
    "This is call back function that is such that the model stops improving as soon\n",
    "as two consecutive times, the loss function (=val loss) has not improved or stayed the same. Two parameters are defined with the model:\n",
    "<ul>\n",
    "<li>patience: number of epochs with no improvement after which training will be stopped.\n",
    "<li>monitor:monitor: quantity to be monitored.\n",
    "    </ul>"
   ]
  },
  {
   "cell_type": "code",
   "execution_count": 7,
   "metadata": {},
   "outputs": [],
   "source": [
    "early_stop = EarlyStopping(monitor='val_loss', patience=2, verbose=1)"
   ]
  },
  {
   "cell_type": "markdown",
   "metadata": {},
   "source": [
    "<h4>Callback: Storing intermediate output</h4>\n",
    "The intermediate networks (with temp weights) are stored on the filepath (fBestModel) in a hdf5 format\n",
    "it is then afterwards possible to load models from this"
   ]
  },
  {
   "cell_type": "code",
   "execution_count": 8,
   "metadata": {},
   "outputs": [],
   "source": [
    "fBestModel = './models/weights.{epoch:02d}-{val_loss:.2f}.hdf5' \n",
    "best_model = ModelCheckpoint(fBestModel, verbose=0, save_best_only=True)"
   ]
  },
  {
   "cell_type": "markdown",
   "metadata": {},
   "source": [
    "The callback functions are added to the fit method"
   ]
  },
  {
   "cell_type": "code",
   "execution_count": 9,
   "metadata": {},
   "outputs": [
    {
     "name": "stdout",
     "output_type": "stream",
     "text": [
      "Train on 52596 samples, validate on 9282 samples\n",
      "Epoch 1/5\n",
      "52596/52596 [==============================] - 1s 12us/step - loss: 1.7947 - val_loss: 1.7846\n",
      "Epoch 2/5\n",
      "52596/52596 [==============================] - 1s 11us/step - loss: 1.7850 - val_loss: 1.7754\n",
      "Epoch 3/5\n",
      "52596/52596 [==============================] - 1s 11us/step - loss: 1.7762 - val_loss: 1.7670\n",
      "Epoch 4/5\n",
      "52596/52596 [==============================] - 1s 11us/step - loss: 1.7681 - val_loss: 1.7592\n",
      "Epoch 5/5\n",
      "52596/52596 [==============================] - 1s 11us/step - loss: 1.7606 - val_loss: 1.7520\n"
     ]
    },
    {
     "data": {
      "text/plain": [
       "<keras.callbacks.History at 0x11eac9b70>"
      ]
     },
     "execution_count": 9,
     "metadata": {},
     "output_type": "execute_result"
    }
   ],
   "source": [
    "model.fit(X_train, Y_train, validation_data = (X_val, Y_val), \n",
    "          epochs=5, \n",
    "          batch_size=128, verbose=True, \n",
    "          callbacks=[best_model, early_stop]) "
   ]
  },
  {
   "cell_type": "markdown",
   "metadata": {},
   "source": [
    "<h3>Evolution of the loss </h3><br>\n",
    "The evoluation of the history of the network can be plotted (after defining the appropriate plotfunction)"
   ]
  },
  {
   "cell_type": "code",
   "execution_count": 10,
   "metadata": {},
   "outputs": [],
   "source": [
    "\n",
    "def plot_history(network_history):\n",
    "    plt.figure(figsize=(8,8))\n",
    "    plt.xlabel('Epochs')\n",
    "    plt.ylabel('Loss')\n",
    "    plt.plot(network_history.history['loss'])\n",
    "    plt.plot(network_history.history['val_loss'])\n",
    "    plt.legend(['Training', 'Validation'])\n"
   ]
  },
  {
   "cell_type": "markdown",
   "metadata": {},
   "source": [
    "Since we are running 50 Epochs with batch-sizes of 128, we are going to supress the output of the model on the screen.\n",
    "But we will make use of the plot function afterwards."
   ]
  },
  {
   "cell_type": "code",
   "execution_count": 11,
   "metadata": {},
   "outputs": [],
   "source": [
    "history = model.fit(X_train, Y_train, \n",
    "                    validation_data = (X_val, Y_val), \n",
    "                    epochs=50,batch_size=128,\n",
    "                    verbose=False) "
   ]
  },
  {
   "cell_type": "code",
   "execution_count": 12,
   "metadata": {},
   "outputs": [
    {
     "data": {
      "image/png": "[encoded data removed]",
      "text/plain": [
       "<Figure size 576x576 with 1 Axes>"
      ]
     },
     "metadata": {},
     "output_type": "display_data"
    }
   ],
   "source": [
    "plot_history(history)"
   ]
  },
  {
   "cell_type": "markdown",
   "metadata": {},
   "source": [
    "<h3>Adding a different initializer to the model</h3>\n",
    "<br>\n",
    "We are in full control over the construction of the network. The initialisation of the weights (setting them to zero in this case) is an example of this."
   ]
  },
  {
   "cell_type": "code",
   "execution_count": 13,
   "metadata": {},
   "outputs": [],
   "source": [
    "from keras import initializers\n",
    "\n",
    "model_zero = Sequential()\n",
    "model_zero.add(Dense(nb_classes, input_shape=(dims[1],), \n",
    "                     kernel_initializer=initializers.zeros(), \n",
    "                     activation='sigmoid'))\n",
    "model_zero.add(Activation('softmax'))\n",
    "model_zero.compile(optimizer='sgd', loss='categorical_crossentropy')"
   ]
  },
  {
   "cell_type": "code",
   "execution_count": 14,
   "metadata": {},
   "outputs": [
    {
     "name": "stdout",
     "output_type": "stream",
     "text": [
      "Train on 52596 samples, validate on 9282 samples\n",
      "Epoch 1/5\n",
      "52596/52596 [==============================] - 1s 13us/step - loss: 2.0800 - val_loss: 1.9989\n",
      "Epoch 2/5\n",
      "52596/52596 [==============================] - 1s 12us/step - loss: 1.9617 - val_loss: 1.9248\n",
      "Epoch 3/5\n",
      "52596/52596 [==============================] - 1s 14us/step - loss: 1.9068 - val_loss: 1.8830\n",
      "Epoch 4/5\n",
      "52596/52596 [==============================] - 1s 12us/step - loss: 1.8725 - val_loss: 1.8544\n",
      "Epoch 5/5\n",
      "52596/52596 [==============================] - 1s 12us/step - loss: 1.8478 - val_loss: 1.8328\n"
     ]
    },
    {
     "data": {
      "text/plain": [
       "<keras.callbacks.History at 0x1221bf748>"
      ]
     },
     "execution_count": 14,
     "metadata": {},
     "output_type": "execute_result"
    }
   ],
   "source": [
    "model_zero.fit(X_train, Y_train, \n",
    "          validation_data = (X_val, Y_val),\n",
    "          epochs=5,verbose=True,batch_size=128 ) "
   ]
  },
  {
   "cell_type": "markdown",
   "metadata": {},
   "source": [
    "<h3>Adding a dropout layer</h3>\n",
    "In this example we set a drop layer of 20% just before the first hidden layer. This means that in each feedforward / backpropogation run 20% of the 93 nodes are going to be ignored. "
   ]
  },
  {
   "cell_type": "code",
   "execution_count": 15,
   "metadata": {},
   "outputs": [],
   "source": [
    "from keras.layers import Dropout\n",
    "model_drop = Sequential()\n",
    "model_drop.add(Dropout(0.2, input_shape=(dims[1],)))\n",
    "model_drop.add(Dense(nb_classes, activation='sigmoid'))\n",
    "model_drop.add(Activation('softmax'))\n",
    "model_drop.compile(optimizer='sgd', loss='categorical_crossentropy')"
   ]
  },
  {
   "cell_type": "code",
   "execution_count": 16,
   "metadata": {},
   "outputs": [
    {
     "name": "stdout",
     "output_type": "stream",
     "text": [
      "Train on 52596 samples, validate on 9282 samples\n",
      "Epoch 1/5\n",
      "52596/52596 [==============================] - 1s 15us/step - loss: 2.1244 - val_loss: 2.0518\n",
      "Epoch 2/5\n",
      "52596/52596 [==============================] - 1s 12us/step - loss: 2.0230 - val_loss: 1.9735\n",
      "Epoch 3/5\n",
      "52596/52596 [==============================] - 1s 12us/step - loss: 1.9649 - val_loss: 1.9260\n",
      "Epoch 4/5\n",
      "52596/52596 [==============================] - 1s 12us/step - loss: 1.9280 - val_loss: 1.8934\n",
      "Epoch 5/5\n",
      "52596/52596 [==============================] - 1s 12us/step - loss: 1.9002 - val_loss: 1.8689\n"
     ]
    },
    {
     "data": {
      "text/plain": [
       "<keras.callbacks.History at 0x1307432b0>"
      ]
     },
     "execution_count": 16,
     "metadata": {},
     "output_type": "execute_result"
    }
   ],
   "source": [
    "model_drop.fit(X_train, Y_train, \n",
    "          validation_data = (X_val, Y_val),\n",
    "          epochs=5,verbose=True,batch_size=128 ) "
   ]
  },
  {
   "cell_type": "code",
   "execution_count": null,
   "metadata": {},
   "outputs": [],
   "source": []
  }
 ],
 "metadata": {
  "kernelspec": {
   "display_name": "Python 3",
   "language": "python",
   "name": "python3"
  },
  "language_info": {
   "codemirror_mode": {
    "name": "ipython",
    "version": 3
   },
   "file_extension": ".py",
   "mimetype": "text/x-python",
   "name": "python",
   "nbconvert_exporter": "python",
   "pygments_lexer": "ipython3",
   "version": "3.6.5"
  }
 },
 "nbformat": 4,
 "nbformat_minor": 2
}
